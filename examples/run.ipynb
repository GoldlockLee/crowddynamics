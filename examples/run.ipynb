{
 "cells": [
  {
   "cell_type": "code",
   "execution_count": 1,
   "metadata": {
    "collapsed": false
   },
   "outputs": [
    {
     "name": "stdout",
     "output_type": "stream",
     "text": [
      "/home/jaan/Dropbox/Projects/Crowd-Dynamics\n"
     ]
    }
   ],
   "source": [
    "cd .."
   ]
  },
  {
   "cell_type": "code",
   "execution_count": 2,
   "metadata": {
    "collapsed": false
   },
   "outputs": [],
   "source": [
    "from crowd_dynamics.simulation import Simulation\n",
    "from crowd_dynamics.gui.qt import gui"
   ]
  },
  {
   "cell_type": "code",
   "execution_count": 3,
   "metadata": {
    "collapsed": false
   },
   "outputs": [],
   "source": [
    "from examples.simulations.hallway import initialize"
   ]
  },
  {
   "cell_type": "code",
   "execution_count": 6,
   "metadata": {
    "collapsed": true
   },
   "outputs": [],
   "source": [
    "simulation = Simulation(*initialize())"
   ]
  },
  {
   "cell_type": "code",
   "execution_count": 7,
   "metadata": {
    "collapsed": false
   },
   "outputs": [
    {
     "name": "stderr",
     "output_type": "stream",
     "text": [
      "/home/jaan/anaconda/envs/py34/lib/python3.4/site-packages/pyqtgraph/functions.py:1307: FutureWarning: elementwise comparison failed; returning scalar instead, but in the future will perform elementwise comparison\n",
      "  if connect == 'pairs':\n",
      "/home/jaan/anaconda/envs/py34/lib/python3.4/site-packages/pyqtgraph/functions.py:1314: FutureWarning: elementwise comparison failed; returning scalar instead, but in the future will perform elementwise comparison\n",
      "  if connect == 'finite':\n",
      "/home/jaan/anaconda/envs/py34/lib/python3.4/site-packages/pyqtgraph/functions.py:1317: FutureWarning: elementwise comparison failed; returning scalar instead, but in the future will perform elementwise comparison\n",
      "  if connect == 'all':\n"
     ]
    },
    {
     "name": "stdout",
     "output_type": "stream",
     "text": [
      "Initial time: 0 ns\n",
      "i:     13 |    0 | 46.2 µs | 600 µs | 0.010000\n",
      "i:     55 |    0 | 49.3 µs | 2.71 ms | 0.010000\n",
      "i:     98 |    0 | 72.8 µs | 7.13 ms | 0.010000\n",
      "i:    139 |    0 | 77.2 µs | 9.65 ms | 0.010000\n",
      "i:    181 |    0 | 56.1 µs | 11.9 ms | 0.010000\n",
      "i:    221 |    0 | 57.9 µs | 14.4 ms | 0.010000\n",
      "i:    260 |    0 | 60 µs | 16.9 ms | 0.010000\n",
      "i:    303 |    0 | 61.2 µs | 19.3 ms | 0.010000\n",
      "i:    346 |    0 | 56.9 µs | 21.7 ms | 0.010000\n",
      "i:    389 |    3 | 54 µs | 23.8 ms | 0.010000\n",
      "i:    432 |    6 | 49.6 µs | 25.8 ms | 0.010000\n",
      "i:    468 |    7 | 48.1 µs | 27.6 ms | 0.010000\n"
     ]
    },
    {
     "ename": "SystemExit",
     "evalue": "0",
     "output_type": "error",
     "traceback": [
      "An exception has occurred, use %tb to see the full traceback.\n",
      "\u001b[1;31mSystemExit\u001b[0m\u001b[1;31m:\u001b[0m 0\n"
     ]
    },
    {
     "name": "stderr",
     "output_type": "stream",
     "text": [
      "To exit: use 'exit', 'quit', or Ctrl-D.\n"
     ]
    }
   ],
   "source": [
    "gui(simulation)"
   ]
  },
  {
   "cell_type": "code",
   "execution_count": null,
   "metadata": {
    "collapsed": true
   },
   "outputs": [],
   "source": []
  }
 ],
 "metadata": {
  "kernelspec": {
   "display_name": "Python 3.4",
   "language": "python",
   "name": "python34"
  },
  "language_info": {
   "codemirror_mode": {
    "name": "ipython",
    "version": 3
   },
   "file_extension": ".py",
   "mimetype": "text/x-python",
   "name": "python",
   "nbconvert_exporter": "python",
   "pygments_lexer": "ipython3",
   "version": "3.4.4"
  }
 },
 "nbformat": 4,
 "nbformat_minor": 0
}
