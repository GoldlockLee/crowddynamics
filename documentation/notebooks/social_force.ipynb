{
 "cells": [
  {
   "cell_type": "markdown",
   "metadata": {},
   "source": [
    "**Library Imports**"
   ]
  },
  {
   "cell_type": "code",
   "execution_count": 1,
   "metadata": {
    "collapsed": true
   },
   "outputs": [],
   "source": [
    "from __future__ import absolute_import\n",
    "from __future__ import division\n",
    "from __future__ import print_function\n",
    "from __future__ import unicode_literals"
   ]
  },
  {
   "cell_type": "code",
   "execution_count": 2,
   "metadata": {
    "collapsed": false
   },
   "outputs": [
    {
     "name": "stdout",
     "output_type": "stream",
     "text": [
      "3.4.4 |Anaconda 2.4.0 (64-bit)| (default, Jan 11 2016, 13:54:01) \n",
      "[GCC 4.4.7 20120313 (Red Hat 4.4.7-1)]\n"
     ]
    }
   ],
   "source": [
    "import os\n",
    "import sys\n",
    "print(sys.version)   # Python version information"
   ]
  },
  {
   "cell_type": "code",
   "execution_count": 3,
   "metadata": {
    "collapsed": true
   },
   "outputs": [],
   "source": [
    "from sympy import *  # Symbolic mathematics\n",
    "import sympy"
   ]
  },
  {
   "cell_type": "code",
   "execution_count": 4,
   "metadata": {
    "collapsed": true
   },
   "outputs": [],
   "source": [
    "import numpy as np   # N-Dimensional arrays and numerical routines\n",
    "import pandas as pd  # Data structures and data analysis tools\n",
    "import scipy         # Numerical routines"
   ]
  },
  {
   "cell_type": "code",
   "execution_count": 5,
   "metadata": {
    "collapsed": true
   },
   "outputs": [],
   "source": [
    "#import numba        # Decorators for speeding up python functions"
   ]
  },
  {
   "cell_type": "code",
   "execution_count": 6,
   "metadata": {
    "collapsed": true
   },
   "outputs": [],
   "source": [
    "#from astropy import constants  # Physical Constants\n",
    "#from astropy import units      # Physical Units"
   ]
  },
  {
   "cell_type": "code",
   "execution_count": 7,
   "metadata": {
    "collapsed": true
   },
   "outputs": [],
   "source": [
    "import matplotlib as mpl  # Standard plotting library\n",
    "import matplotlib.pyplot as plt \n",
    "import seaborn as sns     # Statistical plotting and improved plot style\n",
    "#import bokeh             # Interactive visualization library"
   ]
  },
  {
   "cell_type": "code",
   "execution_count": 8,
   "metadata": {
    "collapsed": true
   },
   "outputs": [],
   "source": [
    "from sympy.utilities.autowrap import ufuncify  # Creates numerical methods \n",
    "                                               # from symbolic expressions"
   ]
  },
  {
   "cell_type": "code",
   "execution_count": 9,
   "metadata": {
    "collapsed": true
   },
   "outputs": [],
   "source": [
    "from sympy import abc       # Symbolic variables\n",
    "from sympy import pi as Pi  # Symbolic pi\n",
    "from sympy import I as I    # Symbolic imaginary unit"
   ]
  },
  {
   "cell_type": "markdown",
   "metadata": {},
   "source": [
    "**Display**"
   ]
  },
  {
   "cell_type": "code",
   "execution_count": 10,
   "metadata": {
    "collapsed": true
   },
   "outputs": [],
   "source": [
    "from IPython.display import display"
   ]
  },
  {
   "cell_type": "code",
   "execution_count": 11,
   "metadata": {
    "collapsed": false
   },
   "outputs": [],
   "source": [
    "from IPython.display import set_matplotlib_formats  \n",
    "set_matplotlib_formats('pdf', 'png')"
   ]
  },
  {
   "cell_type": "code",
   "execution_count": 12,
   "metadata": {
    "collapsed": true
   },
   "outputs": [],
   "source": [
    "import ipywidgets"
   ]
  },
  {
   "cell_type": "markdown",
   "metadata": {},
   "source": [
    "**Settings & Options**"
   ]
  },
  {
   "cell_type": "code",
   "execution_count": 13,
   "metadata": {
    "collapsed": false
   },
   "outputs": [],
   "source": [
    "np.set_printoptions(precision=5, threshold=6, edgeitems=3, linewidth=75, \n",
    "                    suppress=False, nanstr=None, infstr=None, \n",
    "                    formatter=None)"
   ]
  },
  {
   "cell_type": "code",
   "execution_count": 14,
   "metadata": {
    "collapsed": false
   },
   "outputs": [],
   "source": [
    "pandas_options = {'display.chop_threshold': None,\n",
    "                  'display.precision': 4,\n",
    "                  'display.max_columns': 8,\n",
    "                  'display.max_rows': 8,\n",
    "                  'display.max_info_columns': 8,\n",
    "                  'display.max_info_rows': 8}\n",
    "for key, val in pandas_options.items():\n",
    "    pd.set_option(key, val)"
   ]
  },
  {
   "cell_type": "code",
   "execution_count": 15,
   "metadata": {
    "collapsed": true
   },
   "outputs": [],
   "source": [
    "sympy.interactive.printing.init_printing(use_latex='mathjax')"
   ]
  },
  {
   "cell_type": "code",
   "execution_count": 16,
   "metadata": {
    "collapsed": false
   },
   "outputs": [],
   "source": [
    "# os.system('jupyter nbconvert --to pdf {filename}.ipynb')"
   ]
  },
  {
   "cell_type": "markdown",
   "metadata": {},
   "source": [
    "**Custom functions**"
   ]
  },
  {
   "cell_type": "code",
   "execution_count": 17,
   "metadata": {
    "collapsed": false
   },
   "outputs": [
    {
     "name": "stdout",
     "output_type": "stream",
     "text": [
      "/home/jaan/Dropbox/Projects/Crowd-Dynamics/documentation/notebooks\n"
     ]
    }
   ],
   "source": [
    "latex_path = os.path.join(os.getcwd(), 'latex', 'figures')\n",
    "def figure_path(fname): \n",
    "    return os.path.join(latex_path, fname)\n",
    "print(os.getcwd())"
   ]
  },
  {
   "cell_type": "code",
   "execution_count": 18,
   "metadata": {
    "collapsed": true
   },
   "outputs": [],
   "source": [
    "import numba"
   ]
  },
  {
   "cell_type": "markdown",
   "metadata": {
    "collapsed": true
   },
   "source": [
    "# Adjusting force"
   ]
  },
  {
   "cell_type": "markdown",
   "metadata": {},
   "source": [
    "\\begin{align}\n",
    "\\mathbf{f}_{i}^{adj} &= \\frac{m_{i}}{\\tau_{i}^{adj}} (v_{i}^{0} \\cdot \\hat{\\mathbf{e}}_{i}^{0} - \\mathbf{v}_{i}) \n",
    "\\end{align}"
   ]
  },
  {
   "cell_type": "code",
   "execution_count": null,
   "metadata": {
    "collapsed": true
   },
   "outputs": [],
   "source": []
  },
  {
   "cell_type": "markdown",
   "metadata": {},
   "source": [
    "# Agent - Agent interaction forces $ \\mathbf{f}_{ij} $ "
   ]
  },
  {
   "cell_type": "markdown",
   "metadata": {},
   "source": [
    "## Social"
   ]
  },
  {
   "cell_type": "markdown",
   "metadata": {},
   "source": [
    "\\begin{align}\n",
    "\\mathbf{f}_{ij}^{pow} &= - \\left(\\frac{k}{a \\tau^{2}}\\right) \n",
    "\\left(\\frac{2}{\\tau} + \\frac{1}{\\tau_{0}}\\right) \n",
    "\\exp\\left (-\\frac{\\tau}{\\tau_{0}}\\right )\n",
    "\\left(\\mathbf{v}_{ij} -\\frac{a \\mathbf{x}_{ij} + b \\mathbf{v}_{ij}}{d} \\right)\n",
    "\\end{align}"
   ]
  },
  {
   "cell_type": "markdown",
   "metadata": {},
   "source": [
    "\\begin{align}\n",
    "a &= \\mathbf{v}_{ij} \\cdot \\mathbf{v}_{ij} \\\\\n",
    "b &= -\\mathbf{x}_{ij} \\cdot \\mathbf{v}_{ij} \\\\\n",
    "c &= \\mathbf{x}_{ij} \\cdot \\mathbf{x}_{ij} - r_{ij}^{2} \\\\\n",
    "d &= \\sqrt{b^{2} - a c} \\\\\n",
    "\\tau &= \\frac{b - d}{a} > 0.\n",
    "\\end{align}"
   ]
  },
  {
   "cell_type": "code",
   "execution_count": 19,
   "metadata": {
    "collapsed": false
   },
   "outputs": [],
   "source": [
    "x = symbols('x_0:2', real=True)\n",
    "v = symbols('v_0:2', real=True)\n",
    "r = symbols('r', positive=True)\n",
    "k = symbols('k', positive=True)\n",
    "tau_0 = symbols('tau_0', positive=True)"
   ]
  },
  {
   "cell_type": "code",
   "execution_count": 20,
   "metadata": {
    "collapsed": false
   },
   "outputs": [],
   "source": [
    "a = np.dot(v, v)\n",
    "b = - np.dot(x, v)\n",
    "c = np.dot(x, x) - r ** 2\n",
    "d = sqrt(b ** 2 - a * c)"
   ]
  },
  {
   "cell_type": "code",
   "execution_count": 21,
   "metadata": {
    "collapsed": true
   },
   "outputs": [],
   "source": [
    "x = Matrix(x)\n",
    "v = Matrix(v)"
   ]
  },
  {
   "cell_type": "code",
   "execution_count": 22,
   "metadata": {
    "collapsed": false
   },
   "outputs": [
    {
     "data": {
      "text/latex": [
       "$$\\left[\\begin{matrix}v_{0}^{2} + v_{1}^{2}\\\\- v_{0} x_{0} - v_{1} x_{1}\\\\- r^{2} + x_{0}^{2} + x_{1}^{2}\\\\\\sqrt{- \\left(v_{0}^{2} + v_{1}^{2}\\right) \\left(- r^{2} + x_{0}^{2} + x_{1}^{2}\\right) + \\left(- v_{0} x_{0} - v_{1} x_{1}\\right)^{2}}\\end{matrix}\\right]$$"
      ],
      "text/plain": [
       "⎡                          2     2                        ⎤\n",
       "⎢                        v₀  + v₁                         ⎥\n",
       "⎢                                                         ⎥\n",
       "⎢                     -v₀⋅x₀ - v₁⋅x₁                      ⎥\n",
       "⎢                                                         ⎥\n",
       "⎢                       2     2     2                     ⎥\n",
       "⎢                    - r  + x₀  + x₁                      ⎥\n",
       "⎢                                                         ⎥\n",
       "⎢   ______________________________________________________⎥\n",
       "⎢  ╱   ⎛  2     2⎞ ⎛   2     2     2⎞                   2 ⎥\n",
       "⎣╲╱  - ⎝v₀  + v₁ ⎠⋅⎝- r  + x₀  + x₁ ⎠ + (-v₀⋅x₀ - v₁⋅x₁)  ⎦"
      ]
     },
     "execution_count": 22,
     "metadata": {},
     "output_type": "execute_result"
    }
   ],
   "source": [
    "Matrix([a, b, c, d])"
   ]
  },
  {
   "cell_type": "code",
   "execution_count": 23,
   "metadata": {
    "collapsed": true
   },
   "outputs": [],
   "source": [
    "tau = (b - d) / a"
   ]
  },
  {
   "cell_type": "code",
   "execution_count": 24,
   "metadata": {
    "collapsed": false
   },
   "outputs": [
    {
     "data": {
      "text/latex": [
       "$$- \\frac{1}{v_{0}^{2} + v_{1}^{2}} \\left(v_{0} x_{0} + v_{1} x_{1} + \\sqrt{- \\left(v_{0}^{2} + v_{1}^{2}\\right) \\left(- r^{2} + x_{0}^{2} + x_{1}^{2}\\right) + \\left(v_{0} x_{0} + v_{1} x_{1}\\right)^{2}}\\right)$$"
      ],
      "text/plain": [
       " ⎛                   _____________________________________________________⎞ \n",
       " ⎜                  ╱   ⎛  2     2⎞ ⎛   2     2     2⎞                  2 ⎟ \n",
       "-⎝v₀⋅x₀ + v₁⋅x₁ + ╲╱  - ⎝v₀  + v₁ ⎠⋅⎝- r  + x₀  + x₁ ⎠ + (v₀⋅x₀ + v₁⋅x₁)  ⎠ \n",
       "────────────────────────────────────────────────────────────────────────────\n",
       "                                   2     2                                  \n",
       "                                 v₀  + v₁                                   "
      ]
     },
     "execution_count": 24,
     "metadata": {},
     "output_type": "execute_result"
    }
   ],
   "source": [
    "simplify(tau)"
   ]
  },
  {
   "cell_type": "code",
   "execution_count": 25,
   "metadata": {
    "collapsed": true
   },
   "outputs": [],
   "source": [
    "m = 2"
   ]
  },
  {
   "cell_type": "code",
   "execution_count": 26,
   "metadata": {
    "collapsed": false
   },
   "outputs": [
    {
     "data": {
      "text/latex": [
       "$$\\frac{k e^{- \\frac{1}{\\tau_{0} \\left(v_{0}^{2} + v_{1}^{2}\\right)} \\left(- v_{0} x_{0} - v_{1} x_{1} - \\sqrt{- \\left(v_{0}^{2} + v_{1}^{2}\\right) \\left(- r^{2} + x_{0}^{2} + x_{1}^{2}\\right) + \\left(- v_{0} x_{0} - v_{1} x_{1}\\right)^{2}}\\right)}}{\\left(- v_{0} x_{0} - v_{1} x_{1} - \\sqrt{- \\left(v_{0}^{2} + v_{1}^{2}\\right) \\left(- r^{2} + x_{0}^{2} + x_{1}^{2}\\right) + \\left(- v_{0} x_{0} - v_{1} x_{1}\\right)^{2}}\\right)^{2}} \\left(v_{0}^{2} + v_{1}^{2}\\right) \\left(\\frac{2 v_{0}^{2} + 2 v_{1}^{2}}{- v_{0} x_{0} - v_{1} x_{1} - \\sqrt{- \\left(v_{0}^{2} + v_{1}^{2}\\right) \\left(- r^{2} + x_{0}^{2} + x_{1}^{2}\\right) + \\left(- v_{0} x_{0} - v_{1} x_{1}\\right)^{2}}} + \\frac{1}{\\tau_{0}}\\right)$$"
      ],
      "text/plain": [
       "                                                                              \n",
       "                                                                              \n",
       "                                                                              \n",
       "                                                                              \n",
       "              ⎛                                ⎛  2     2⎞                    \n",
       "  ⎛  2     2⎞ ⎜                              2⋅⎝v₀  + v₁ ⎠                    \n",
       "k⋅⎝v₀  + v₁ ⎠⋅⎜───────────────────────────────────────────────────────────────\n",
       "              ⎜                    ___________________________________________\n",
       "              ⎜                   ╱   ⎛  2     2⎞ ⎛   2     2     2⎞          \n",
       "              ⎝-v₀⋅x₀ - v₁⋅x₁ - ╲╱  - ⎝v₀  + v₁ ⎠⋅⎝- r  + x₀  + x₁ ⎠ + (-v₀⋅x₀\n",
       "──────────────────────────────────────────────────────────────────────────────\n",
       "                                                                              \n",
       "                                                 ⎛                    ________\n",
       "                                                 ⎜                   ╱   ⎛  2 \n",
       "                                                 ⎝-v₀⋅x₀ - v₁⋅x₁ - ╲╱  - ⎝v₀  \n",
       "\n",
       "                    ⎛                    _____________________________________\n",
       "                    ⎜                   ╱   ⎛  2     2⎞ ⎛   2     2     2⎞    \n",
       "                   -⎝-v₀⋅x₀ - v₁⋅x₁ - ╲╱  - ⎝v₀  + v₁ ⎠⋅⎝- r  + x₀  + x₁ ⎠ + (\n",
       "                   ───────────────────────────────────────────────────────────\n",
       "                ⎞                                     ⎛  2     2⎞             \n",
       "              1 ⎟                                  τ₀⋅⎝v₀  + v₁ ⎠             \n",
       "─────────── + ──⎟⋅ℯ                                                           \n",
       "___________   τ₀⎟                                                             \n",
       "         2      ⎟                                                             \n",
       " - v₁⋅x₁)       ⎠                                                             \n",
       "──────────────────────────────────────────────────────────────────────────────\n",
       "                                               2                              \n",
       "______________________________________________⎞                               \n",
       "    2⎞ ⎛   2     2     2⎞                   2 ⎟                               \n",
       "+ v₁ ⎠⋅⎝- r  + x₀  + x₁ ⎠ + (-v₀⋅x₀ - v₁⋅x₁)  ⎠                               \n",
       "\n",
       "_________________⎞ \n",
       "               2 ⎟ \n",
       "-v₀⋅x₀ - v₁⋅x₁)  ⎠ \n",
       "───────────────────\n",
       "                   \n",
       "                   \n",
       "                   \n",
       "                   \n",
       "                   \n",
       "                   \n",
       "───────────────────\n",
       "                   \n",
       "                   \n",
       "                   \n",
       "                   "
      ]
     },
     "execution_count": 26,
     "metadata": {},
     "output_type": "execute_result"
    }
   ],
   "source": [
    "k / (a * tau ** m) * exp(-tau / tau_0) * (m / tau + 1 / tau_0)"
   ]
  },
  {
   "cell_type": "markdown",
   "metadata": {},
   "source": [
    "## Contact"
   ]
  },
  {
   "cell_type": "markdown",
   "metadata": {},
   "source": [
    "\\begin{align}\n",
    "\\mathbf{f}_{ij}^{c} &= \n",
    "\\begin{cases}\n",
    "h_{ij} \\cdot \\left(\\mu \\cdot \\hat{\\mathbf{n}}_{ij} - \\kappa \\cdot \\left(\\mathbf{v}_{ji} \\cdot \\hat{\\mathbf{t}}_{ij}\\right) \\hat{\\mathbf{t}}_{ij}\\right) & h_{ij} > 0 \\\\\n",
    "0 & \\text{otherwise}\n",
    "\\end{cases}\n",
    "\\end{align}"
   ]
  },
  {
   "cell_type": "code",
   "execution_count": null,
   "metadata": {
    "collapsed": true
   },
   "outputs": [],
   "source": []
  },
  {
   "cell_type": "markdown",
   "metadata": {},
   "source": [
    "# Agent - Wall interaction forces $ \\mathbf{f}_{iw} $ "
   ]
  },
  {
   "cell_type": "markdown",
   "metadata": {},
   "source": [
    "## Social"
   ]
  },
  {
   "cell_type": "markdown",
   "metadata": {},
   "source": [
    "\\begin{align}\n",
    "\\mathbf{f}_{iw}^{soc} &=\n",
    "\\begin{cases}\n",
    "A_{i} \\exp\\left(\\frac{h_{iw}}{B_{i}}\\right) \\hat{\\mathbf{n}}_{iw} &  d_{iw} \\leq \\text{sight} \\\\\n",
    "0 & \\text{otherwise}\n",
    "\\end{cases}\n",
    "\\end{align} "
   ]
  },
  {
   "cell_type": "code",
   "execution_count": 37,
   "metadata": {
    "collapsed": false
   },
   "outputs": [
    {
     "data": {
      "text/plain": [
       "[<matplotlib.lines.Line2D at 0x7f6812fb8710>]"
      ]
     },
     "execution_count": 37,
     "metadata": {},
     "output_type": "execute_result"
    },
    {
     "data": {
      "image/png": "[encoded data removed]",
      "text/plain": [
       "<matplotlib.figure.Figure at 0x7f681c2e4b00>"
      ]
     },
     "metadata": {},
     "output_type": "display_data"
    }
   ],
   "source": [
    "%matplotlib inline\n",
    "a = 2e3,\n",
    "b = 0.08\n",
    "x = np.linspace(-1, 0)\n",
    "plt.semilogy(x, a * np.exp(x / b))"
   ]
  },
  {
   "cell_type": "markdown",
   "metadata": {},
   "source": [
    "## Contact"
   ]
  },
  {
   "cell_type": "markdown",
   "metadata": {},
   "source": [
    "\\begin{align}\n",
    "\\mathbf{f}_{iw}^{c} &= \n",
    "\\begin{cases}\n",
    "h_{iw} \\cdot \\left(\\mu \\cdot \\hat{\\mathbf{n}}_{iw} - \\kappa \\cdot (\\mathbf{v}_{i} \\cdot \\hat{\\mathbf{t}}_{iw}) \\hat{\\mathbf{t}}_{iw}\\right) & h_{iw} > 0 \\\\\n",
    "0 & \\text{otherwise}\n",
    "\\end{cases}\n",
    "\\end{align}"
   ]
  },
  {
   "cell_type": "code",
   "execution_count": null,
   "metadata": {
    "collapsed": true
   },
   "outputs": [],
   "source": []
  },
  {
   "cell_type": "markdown",
   "metadata": {},
   "source": [
    "# Random fluctuation $ \\boldsymbol{\\xi}_{i} $ "
   ]
  },
  {
   "cell_type": "markdown",
   "metadata": {},
   "source": [
    "\\begin{align}\n",
    "\\boldsymbol{\\xi}_{i} &= f \\left[\\begin{matrix}\\cos{\\left (\\theta \\right )} & \\sin{\\left (\\theta \\right )}\\end{matrix}\\right] & f \\in \\mathcal{U}(0, f_{max}), \\quad \\theta \\in [0, \\pi) \\\\\n",
    "\\end{align}"
   ]
  },
  {
   "cell_type": "code",
   "execution_count": 27,
   "metadata": {
    "collapsed": true
   },
   "outputs": [],
   "source": [
    "r = symbols('r')\n",
    "theta = symbols('theta')"
   ]
  },
  {
   "cell_type": "code",
   "execution_count": 28,
   "metadata": {
    "collapsed": false
   },
   "outputs": [
    {
     "data": {
      "text/latex": [
       "$$\\left[\\begin{matrix}\\cos{\\left (\\theta \\right )}\\\\\\sin{\\left (\\theta \\right )}\\end{matrix}\\right]$$"
      ],
      "text/plain": [
       "⎡cos(θ)⎤\n",
       "⎢      ⎥\n",
       "⎣sin(θ)⎦"
      ]
     },
     "execution_count": 28,
     "metadata": {},
     "output_type": "execute_result"
    }
   ],
   "source": [
    "Matrix([cos(theta), sin(theta)])"
   ]
  },
  {
   "cell_type": "code",
   "execution_count": null,
   "metadata": {
    "collapsed": true
   },
   "outputs": [],
   "source": []
  }
 ],
 "metadata": {
  "kernelspec": {
   "display_name": "Python 3.4",
   "language": "python",
   "name": "python34"
  },
  "language_info": {
   "codemirror_mode": {
    "name": "ipython",
    "version": 3
   },
   "file_extension": ".py",
   "mimetype": "text/x-python",
   "name": "python",
   "nbconvert_exporter": "python",
   "pygments_lexer": "ipython3",
   "version": "3.4.4"
  }
 },
 "nbformat": 4,
 "nbformat_minor": 0
}
