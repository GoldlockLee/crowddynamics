{
 "cells": [
  {
   "cell_type": "markdown",
   "metadata": {},
   "source": [
    "**Library Imports**"
   ]
  },
  {
   "cell_type": "code",
   "execution_count": 1,
   "metadata": {
    "collapsed": true
   },
   "outputs": [],
   "source": [
    "from __future__ import absolute_import\n",
    "from __future__ import division\n",
    "from __future__ import print_function\n",
    "from __future__ import unicode_literals"
   ]
  },
  {
   "cell_type": "code",
   "execution_count": 2,
   "metadata": {
    "collapsed": false
   },
   "outputs": [
    {
     "name": "stdout",
     "output_type": "stream",
     "text": [
      "3.4.4 |Anaconda 2.4.0 (64-bit)| (default, Jan 11 2016, 13:54:01) \n",
      "[GCC 4.4.7 20120313 (Red Hat 4.4.7-1)]\n"
     ]
    }
   ],
   "source": [
    "import os\n",
    "import sys\n",
    "print(sys.version)   # Python version information"
   ]
  },
  {
   "cell_type": "code",
   "execution_count": 3,
   "metadata": {
    "collapsed": true
   },
   "outputs": [],
   "source": [
    "from sympy import *  # Symbolic mathematics\n",
    "import sympy"
   ]
  },
  {
   "cell_type": "code",
   "execution_count": 4,
   "metadata": {
    "collapsed": true
   },
   "outputs": [],
   "source": [
    "import numpy as np   # N-Dimensional arrays and numerical routines\n",
    "import pandas as pd  # Data structures and data analysis tools\n",
    "import scipy         # Numerical routines"
   ]
  },
  {
   "cell_type": "code",
   "execution_count": 5,
   "metadata": {
    "collapsed": true
   },
   "outputs": [],
   "source": [
    "#import numba        # Decorators for speeding up python functions"
   ]
  },
  {
   "cell_type": "code",
   "execution_count": 6,
   "metadata": {
    "collapsed": true
   },
   "outputs": [],
   "source": [
    "#from astropy import constants  # Physical Constants\n",
    "#from astropy import units      # Physical Units"
   ]
  },
  {
   "cell_type": "code",
   "execution_count": 7,
   "metadata": {
    "collapsed": true
   },
   "outputs": [],
   "source": [
    "import matplotlib as mpl  # Standard plotting library\n",
    "import matplotlib.pyplot as plt \n",
    "import seaborn as sns     # Statistical plotting and improved plot style\n",
    "#import bokeh             # Interactive visualization library"
   ]
  },
  {
   "cell_type": "code",
   "execution_count": 8,
   "metadata": {
    "collapsed": true
   },
   "outputs": [],
   "source": [
    "from sympy.utilities.autowrap import ufuncify  # Creates numerical methods \n",
    "                                               # from symbolic expressions"
   ]
  },
  {
   "cell_type": "code",
   "execution_count": 9,
   "metadata": {
    "collapsed": true
   },
   "outputs": [],
   "source": [
    "from sympy import abc       # Symbolic variables\n",
    "from sympy import pi as Pi  # Symbolic pi\n",
    "from sympy import I as I    # Symbolic imaginary unit"
   ]
  },
  {
   "cell_type": "markdown",
   "metadata": {},
   "source": [
    "**Display**"
   ]
  },
  {
   "cell_type": "code",
   "execution_count": 10,
   "metadata": {
    "collapsed": true
   },
   "outputs": [],
   "source": [
    "from IPython.display import display"
   ]
  },
  {
   "cell_type": "code",
   "execution_count": 11,
   "metadata": {
    "collapsed": false
   },
   "outputs": [],
   "source": [
    "from IPython.display import set_matplotlib_formats  \n",
    "set_matplotlib_formats('pdf', 'png')"
   ]
  },
  {
   "cell_type": "code",
   "execution_count": 12,
   "metadata": {
    "collapsed": true
   },
   "outputs": [],
   "source": [
    "import ipywidgets"
   ]
  },
  {
   "cell_type": "markdown",
   "metadata": {},
   "source": [
    "**Settings & Options**"
   ]
  },
  {
   "cell_type": "code",
   "execution_count": 13,
   "metadata": {
    "collapsed": false
   },
   "outputs": [],
   "source": [
    "np.set_printoptions(precision=5, threshold=1000, edgeitems=3, linewidth=75, \n",
    "                    suppress=False, nanstr=None, infstr=None, \n",
    "                    formatter=None)"
   ]
  },
  {
   "cell_type": "code",
   "execution_count": 14,
   "metadata": {
    "collapsed": false
   },
   "outputs": [],
   "source": [
    "pandas_options = {'display.chop_threshold': None,\n",
    "                  'display.precision': 4,\n",
    "                  'display.max_columns': 8,\n",
    "                  'display.max_rows': 8,\n",
    "                  'display.max_info_columns': 8,\n",
    "                  'display.max_info_rows': 8}\n",
    "for key, val in pandas_options.items():\n",
    "    pd.set_option(key, val)"
   ]
  },
  {
   "cell_type": "code",
   "execution_count": 15,
   "metadata": {
    "collapsed": true
   },
   "outputs": [],
   "source": [
    "sympy.interactive.printing.init_printing(use_latex='mathjax')"
   ]
  },
  {
   "cell_type": "code",
   "execution_count": 16,
   "metadata": {
    "collapsed": false
   },
   "outputs": [],
   "source": [
    "# os.system('ipython nbconvert --to pdf {filename}.ipynb')"
   ]
  },
  {
   "cell_type": "markdown",
   "metadata": {},
   "source": [
    "**Resources**"
   ]
  },
  {
   "cell_type": "markdown",
   "metadata": {},
   "source": [
    "- [Simulating dynamical features of escape panic](http://www.nature.com/nature/journal/v407/n6803/full/407487a0.html)\n",
    "\n",
    "- [Patient and impatient pedestrians in a spatial game for egress congestion](http://journals.aps.org/pre/abstract/10.1103/PhysRevE.87.012802)\n",
    "\n",
    "- [Power Law](http://motion.cs.umn.edu/PowerLaw/)\n",
    "\n",
    "- [Universal Power Law Governing Pedestrian Interactions](http://journals.aps.org/prl/abstract/10.1103/PhysRevLett.113.238701)\n"
   ]
  },
  {
   "cell_type": "markdown",
   "metadata": {
    "collapsed": true
   },
   "source": [
    "# Scratch"
   ]
  },
  {
   "cell_type": "code",
   "execution_count": 17,
   "metadata": {
    "collapsed": true
   },
   "outputs": [],
   "source": [
    "%matplotlib inline"
   ]
  },
  {
   "cell_type": "code",
   "execution_count": 18,
   "metadata": {
    "collapsed": false
   },
   "outputs": [
    {
     "data": {
      "text/plain": [
       "array([ 0.23533,  0.21691,  0.21574,  0.21518,  0.23621,  0.23564,\n",
       "        0.23871,  0.22938,  0.22644,  0.24244,  0.23542,  0.23087,\n",
       "        0.22941,  0.23942,  0.21639,  0.22285,  0.22783,  0.21717,\n",
       "        0.20539,  0.21959,  0.21562,  0.22792,  0.22518,  0.22984,\n",
       "        0.21357,  0.21351,  0.22118,  0.20121,  0.21516,  0.20997,\n",
       "        0.23408,  0.22402,  0.20416,  0.23058,  0.22092,  0.20591,\n",
       "        0.23429,  0.21901,  0.21076,  0.21137,  0.21982,  0.22111,\n",
       "        0.21472,  0.2144 ,  0.22874,  0.22857,  0.22392,  0.23429,\n",
       "        0.20948,  0.22416,  0.22278,  0.20987,  0.19614,  0.23619,\n",
       "        0.21799,  0.21278,  0.23684,  0.24144,  0.22818,  0.21478,\n",
       "        0.22559,  0.22242,  0.22033,  0.23595,  0.21815,  0.20273,\n",
       "        0.22855,  0.21741,  0.23729,  0.21721,  0.22441,  0.24109,\n",
       "        0.22955,  0.21343,  0.22232,  0.22981,  0.20872,  0.22601,\n",
       "        0.22034,  0.22807,  0.21535,  0.20926,  0.21719,  0.2182 ,\n",
       "        0.22109,  0.22542,  0.23087,  0.23281,  0.22613,  0.21475,\n",
       "        0.22216,  0.21812,  0.2142 ,  0.19099,  0.21553,  0.21386,\n",
       "        0.23041,  0.21558,  0.23326,  0.22259])"
      ]
     },
     "execution_count": 18,
     "metadata": {},
     "output_type": "execute_result"
    }
   ],
   "source": [
    "arr = np.random.normal(loc=0.22, scale=0.01, size=100)\n",
    "arr"
   ]
  },
  {
   "cell_type": "code",
   "execution_count": 19,
   "metadata": {
    "collapsed": false
   },
   "outputs": [
    {
     "data": {
      "text/plain": [
       "array([ 65.53604,  72.28234,  74.67196,  63.38476,  73.13287,  91.1206 ,\n",
       "        70.96938,  67.06321,  61.08122,  59.52158,  69.77856,  77.99871,\n",
       "        76.67196,  69.82123,  69.01933,  62.55422,  78.90537,  72.13553,\n",
       "        68.94823,  75.44605,  68.37462,  63.78811,  69.15603,  93.80182,\n",
       "        74.89446,  56.32957,  73.45169,  86.08185,  50.8403 ,  97.80747,\n",
       "        70.67407,  64.63236,  73.76662,  65.01756,  71.29107,  70.70747,\n",
       "        56.48419,  66.47839,  69.11613,  74.76241,  63.48358,  64.02592,\n",
       "        54.39337,  76.37988,  67.83977,  75.57786,  86.57949,  70.09961,\n",
       "        57.61327,  85.1192 ,  64.13541,  65.6411 ,  67.79147,  80.10878,\n",
       "        83.75949,  65.99287,  70.27292,  77.84368,  78.859  ,  66.59389,\n",
       "        72.03015,  75.61426,  70.42273,  69.80393,  81.84671,  69.63972,\n",
       "        77.86402,  86.91551,  78.72749,  59.26821,  89.18736,  51.41824,\n",
       "        74.42252,  69.22155,  74.82039,  71.42347,  67.59038,  84.80137,\n",
       "        79.89953,  63.0702 ,  68.37867,  71.44637,  83.34947,  52.35875,\n",
       "        62.12001,  53.70971,  52.95333,  72.37431,  72.0271 ,  74.53026,\n",
       "        66.97559,  61.17694,  78.28684,  61.84125,  61.76631,  69.99836,\n",
       "        68.05003,  86.93251,  63.29422,  81.03069])"
      ]
     },
     "execution_count": 19,
     "metadata": {},
     "output_type": "execute_result"
    }
   ],
   "source": [
    "arr = np.random.normal(loc=70, scale=10,size=100)\n",
    "arr"
   ]
  },
  {
   "cell_type": "code",
   "execution_count": 20,
   "metadata": {
    "collapsed": true
   },
   "outputs": [],
   "source": [
    "arr -= arr.min()"
   ]
  },
  {
   "cell_type": "code",
   "execution_count": 21,
   "metadata": {
    "collapsed": true
   },
   "outputs": [],
   "source": [
    "arr /= arr.max()"
   ]
  },
  {
   "cell_type": "code",
   "execution_count": 22,
   "metadata": {
    "collapsed": false
   },
   "outputs": [
    {
     "data": {
      "image/png": "[encoded data removed]",
      "text/plain": [
       "<matplotlib.figure.Figure at 0x7f6aa3429240>"
      ]
     },
     "metadata": {},
     "output_type": "display_data"
    }
   ],
   "source": [
    "plt.hist(arr, bins=10);"
   ]
  },
  {
   "cell_type": "code",
   "execution_count": 23,
   "metadata": {
    "collapsed": false
   },
   "outputs": [],
   "source": [
    "arr.sort()"
   ]
  },
  {
   "cell_type": "code",
   "execution_count": 24,
   "metadata": {
    "collapsed": false
   },
   "outputs": [
    {
     "data": {
      "image/png": "[encoded data removed]",
      "text/plain": [
       "<matplotlib.figure.Figure at 0x7f6aa07d7dd8>"
      ]
     },
     "metadata": {},
     "output_type": "display_data"
    }
   ],
   "source": [
    "plt.plot(np.arange(arr.size), arr);"
   ]
  },
  {
   "cell_type": "markdown",
   "metadata": {},
   "source": [
    "# Numba"
   ]
  },
  {
   "cell_type": "code",
   "execution_count": 25,
   "metadata": {
    "collapsed": true
   },
   "outputs": [],
   "source": [
    "from bokeh.plotting import *"
   ]
  },
  {
   "cell_type": "code",
   "execution_count": 26,
   "metadata": {
    "collapsed": false
   },
   "outputs": [
    {
     "data": {
      "text/html": [
       "\n",
       "    <div class=\"bk-banner\">\n",
       "        <a href=\"http://bokeh.pydata.org\" target=\"_blank\" class=\"bk-logo bk-logo-small bk-logo-notebook\"></a>\n",
       "        <span id=\"555de985-251a-4827-8c2f-c98781e421e5\">Loading BokehJS ...</span>\n",
       "    </div>"
      ]
     },
     "metadata": {},
     "output_type": "display_data"
    },
    {
     "data": {
      "application/javascript": [
       "\n",
       "(function(global) {\n",
       "  function now() {\n",
       "    return new Date();\n",
       "  }\n",
       "\n",
       "  if (typeof (window._bokeh_onload_callbacks) === \"undefined\") {\n",
       "    window._bokeh_onload_callbacks = [];\n",
       "  }\n",
       "\n",
       "  function run_callbacks() {\n",
       "    window._bokeh_onload_callbacks.forEach(function(callback) { callback() });\n",
       "    delete window._bokeh_onload_callbacks\n",
       "    console.info(\"Bokeh: all callbacks have finished\");\n",
       "  }\n",
       "\n",
       "  function load_libs(js_urls, callback) {\n",
       "    window._bokeh_onload_callbacks.push(callback);\n",
       "    if (window._bokeh_is_loading > 0) {\n",
       "      console.log(\"Bokeh: BokehJS is being loaded, scheduling callback at\", now());\n",
       "      return null;\n",
       "    }\n",
       "    if (js_urls == null || js_urls.length === 0) {\n",
       "      run_callbacks();\n",
       "      return null;\n",
       "    }\n",
       "    console.log(\"Bokeh: BokehJS not loaded, scheduling load and callback at\", now());\n",
       "    window._bokeh_is_loading = js_urls.length;\n",
       "    for (var i = 0; i < js_urls.length; i++) {\n",
       "      var url = js_urls[i];\n",
       "      var s = document.createElement('script');\n",
       "      s.src = url;\n",
       "      s.async = false;\n",
       "      s.onreadystatechange = s.onload = function() {\n",
       "        window._bokeh_is_loading--;\n",
       "        if (window._bokeh_is_loading === 0) {\n",
       "          console.log(\"Bokeh: all BokehJS libraries loaded\");\n",
       "          run_callbacks()\n",
       "        }\n",
       "      };\n",
       "      s.onerror = function() {\n",
       "        console.warn(\"failed to load library \" + url);\n",
       "      };\n",
       "      console.log(\"Bokeh: injecting script tag for BokehJS library: \", url);\n",
       "      document.getElementsByTagName(\"head\")[0].appendChild(s);\n",
       "    }\n",
       "  };\n",
       "\n",
       "  var js_urls = ['https://cdn.pydata.org/bokeh/release/bokeh-0.11.1.min.js', 'https://cdn.pydata.org/bokeh/release/bokeh-widgets-0.11.1.min.js', 'https://cdn.pydata.org/bokeh/release/bokeh-compiler-0.11.1.min.js'];\n",
       "\n",
       "  var inline_js = [\n",
       "    function(Bokeh) {\n",
       "      Bokeh.set_log_level(\"info\");\n",
       "    },\n",
       "    \n",
       "    function(Bokeh) {\n",
       "      Bokeh.$(\"#555de985-251a-4827-8c2f-c98781e421e5\").text(\"BokehJS successfully loaded\");\n",
       "    },\n",
       "    function(Bokeh) {\n",
       "      console.log(\"Bokeh: injecting CSS: https://cdn.pydata.org/bokeh/release/bokeh-0.11.1.min.css\");\n",
       "      Bokeh.embed.inject_css(\"https://cdn.pydata.org/bokeh/release/bokeh-0.11.1.min.css\");\n",
       "      console.log(\"Bokeh: injecting CSS: https://cdn.pydata.org/bokeh/release/bokeh-widgets-0.11.1.min.css\");\n",
       "      Bokeh.embed.inject_css(\"https://cdn.pydata.org/bokeh/release/bokeh-widgets-0.11.1.min.css\");\n",
       "    }\n",
       "  ];\n",
       "\n",
       "  function run_inline_js() {\n",
       "    for (var i = 0; i < inline_js.length; i++) {\n",
       "      inline_js[i](window.Bokeh);\n",
       "    }\n",
       "  }\n",
       "\n",
       "  if (window._bokeh_is_loading === 0) {\n",
       "    console.log(\"Bokeh: BokehJS loaded, going straight to plotting\");\n",
       "    run_inline_js();\n",
       "  } else {\n",
       "    load_libs(js_urls, function() {\n",
       "      console.log(\"Bokeh: BokehJS plotting callback run at\", now());\n",
       "      run_inline_js();\n",
       "    });\n",
       "  }\n",
       "}(this));"
      ]
     },
     "metadata": {},
     "output_type": "display_data"
    }
   ],
   "source": [
    "output_notebook()"
   ]
  },
  {
   "cell_type": "code",
   "execution_count": 27,
   "metadata": {
    "collapsed": true
   },
   "outputs": [],
   "source": [
    "import numba"
   ]
  },
  {
   "cell_type": "code",
   "execution_count": 29,
   "metadata": {
    "collapsed": false
   },
   "outputs": [],
   "source": [
    "position = np.random.uniform(size=400)\n",
    "position = position.reshape((position.size // 2, 2))"
   ]
  },
  {
   "cell_type": "code",
   "execution_count": 30,
   "metadata": {
    "collapsed": false
   },
   "outputs": [
    {
     "data": {
      "text/html": [
       "\n",
       "\n",
       "    <div class=\"plotdiv\" id=\"f1d9c1da-9347-483c-bde6-aa85df7c9d46\"></div>\n",
       "<script type=\"text/javascript\">\n",
       "  \n",
       "  (function(global) {\n",
       "    function now() {\n",
       "      return new Date();\n",
       "    }\n",
       "  \n",
       "    if (typeof (window._bokeh_onload_callbacks) === \"undefined\") {\n",
       "      window._bokeh_onload_callbacks = [];\n",
       "    }\n",
       "  \n",
       "    function run_callbacks() {\n",
       "      window._bokeh_onload_callbacks.forEach(function(callback) { callback() });\n",
       "      delete window._bokeh_onload_callbacks\n",
       "      console.info(\"Bokeh: all callbacks have finished\");\n",
       "    }\n",
       "  \n",
       "    function load_libs(js_urls, callback) {\n",
       "      window._bokeh_onload_callbacks.push(callback);\n",
       "      if (window._bokeh_is_loading > 0) {\n",
       "        console.log(\"Bokeh: BokehJS is being loaded, scheduling callback at\", now());\n",
       "        return null;\n",
       "      }\n",
       "      if (js_urls == null || js_urls.length === 0) {\n",
       "        run_callbacks();\n",
       "        return null;\n",
       "      }\n",
       "      console.log(\"Bokeh: BokehJS not loaded, scheduling load and callback at\", now());\n",
       "      window._bokeh_is_loading = js_urls.length;\n",
       "      for (var i = 0; i < js_urls.length; i++) {\n",
       "        var url = js_urls[i];\n",
       "        var s = document.createElement('script');\n",
       "        s.src = url;\n",
       "        s.async = false;\n",
       "        s.onreadystatechange = s.onload = function() {\n",
       "          window._bokeh_is_loading--;\n",
       "          if (window._bokeh_is_loading === 0) {\n",
       "            console.log(\"Bokeh: all BokehJS libraries loaded\");\n",
       "            run_callbacks()\n",
       "          }\n",
       "        };\n",
       "        s.onerror = function() {\n",
       "          console.warn(\"failed to load library \" + url);\n",
       "        };\n",
       "        console.log(\"Bokeh: injecting script tag for BokehJS library: \", url);\n",
       "        document.getElementsByTagName(\"head\")[0].appendChild(s);\n",
       "      }\n",
       "    };var element = document.getElementById(\"f1d9c1da-9347-483c-bde6-aa85df7c9d46\");\n",
       "    if (element == null) {\n",
       "      console.log(\"Bokeh: ERROR: autoload.js configured with elementid 'f1d9c1da-9347-483c-bde6-aa85df7c9d46' but no matching script tag was found. \")\n",
       "      return false;\n",
       "    }\n",
       "  \n",
       "    var js_urls = [];\n",
       "  \n",
       "    var inline_js = [\n",
       "      function(Bokeh) {\n",
       "        Bokeh.$(function() {\n",
       "            var docs_json = {\"b6e87cac-6459-4568-b193-6068985e4c03\":{\"roots\":{\"references\":[{\"attributes\":{\"plot\":{\"id\":\"1303a3e6-87e9-4aca-a19c-7c7bae326db7\",\"subtype\":\"Figure\",\"type\":\"Plot\"}},\"id\":\"0d6b7b04-096c-4f4b-b5db-a79a6386365f\",\"type\":\"HelpTool\"},{\"attributes\":{\"below\":[{\"id\":\"caed94fc-6ff8-4ed0-9105-cbb7c8b2105a\",\"type\":\"LinearAxis\"}],\"left\":[{\"id\":\"6ad91bf8-1f38-4de0-b8c2-2b06d10b1d24\",\"type\":\"LinearAxis\"}],\"renderers\":[{\"id\":\"caed94fc-6ff8-4ed0-9105-cbb7c8b2105a\",\"type\":\"LinearAxis\"},{\"id\":\"f44465cc-0ba8-4a12-904c-c11805e833a9\",\"type\":\"Grid\"},{\"id\":\"6ad91bf8-1f38-4de0-b8c2-2b06d10b1d24\",\"type\":\"LinearAxis\"},{\"id\":\"a872b3a2-0c12-4eec-ae2c-2153e341bfcc\",\"type\":\"Grid\"},{\"id\":\"e6f9ea18-ffbd-4fc8-b3ed-a8aa4d4f634c\",\"type\":\"BoxAnnotation\"},{\"id\":\"c9867cb0-0797-4f56-9fef-dfe7f888f0df\",\"type\":\"GlyphRenderer\"}],\"tool_events\":{\"id\":\"fa942fd3-739e-4600-823a-4907a761667a\",\"type\":\"ToolEvents\"},\"tools\":[{\"id\":\"fa76a11f-5d82-4040-ae10-c58bf6753566\",\"type\":\"PanTool\"},{\"id\":\"2afa9938-533c-43ea-97b8-633c261516f6\",\"type\":\"WheelZoomTool\"},{\"id\":\"c2aaa4ae-e96c-4db1-b166-22c8eef0378d\",\"type\":\"BoxZoomTool\"},{\"id\":\"d2e3ef0d-b726-4d4f-af4a-5c225da832ad\",\"type\":\"PreviewSaveTool\"},{\"id\":\"7aeab6e3-70fc-4fc0-85e0-988f954b827b\",\"type\":\"ResizeTool\"},{\"id\":\"85100a0f-0fdd-42c5-b138-056070dd53db\",\"type\":\"ResetTool\"},{\"id\":\"0d6b7b04-096c-4f4b-b5db-a79a6386365f\",\"type\":\"HelpTool\"}],\"x_range\":{\"id\":\"056b4634-fd2a-4327-b3c8-6d53094c2ad6\",\"type\":\"DataRange1d\"},\"y_range\":{\"id\":\"72172ec3-e206-4834-8779-72eccfe1b125\",\"type\":\"DataRange1d\"}},\"id\":\"1303a3e6-87e9-4aca-a19c-7c7bae326db7\",\"subtype\":\"Figure\",\"type\":\"Plot\"},{\"attributes\":{},\"id\":\"fa942fd3-739e-4600-823a-4907a761667a\",\"type\":\"ToolEvents\"},{\"attributes\":{\"dimension\":1,\"plot\":{\"id\":\"1303a3e6-87e9-4aca-a19c-7c7bae326db7\",\"subtype\":\"Figure\",\"type\":\"Plot\"},\"ticker\":{\"id\":\"cd601a54-18bd-4f59-a735-446e297325cb\",\"type\":\"BasicTicker\"}},\"id\":\"a872b3a2-0c12-4eec-ae2c-2153e341bfcc\",\"type\":\"Grid\"},{\"attributes\":{},\"id\":\"9975f47e-26a6-41a4-9121-e1c2d8cc3e51\",\"type\":\"BasicTickFormatter\"},{\"attributes\":{\"plot\":{\"id\":\"1303a3e6-87e9-4aca-a19c-7c7bae326db7\",\"subtype\":\"Figure\",\"type\":\"Plot\"}},\"id\":\"2afa9938-533c-43ea-97b8-633c261516f6\",\"type\":\"WheelZoomTool\"},{\"attributes\":{\"plot\":{\"id\":\"1303a3e6-87e9-4aca-a19c-7c7bae326db7\",\"subtype\":\"Figure\",\"type\":\"Plot\"}},\"id\":\"d2e3ef0d-b726-4d4f-af4a-5c225da832ad\",\"type\":\"PreviewSaveTool\"},{\"attributes\":{\"plot\":{\"id\":\"1303a3e6-87e9-4aca-a19c-7c7bae326db7\",\"subtype\":\"Figure\",\"type\":\"Plot\"}},\"id\":\"fa76a11f-5d82-4040-ae10-c58bf6753566\",\"type\":\"PanTool\"},{\"attributes\":{\"plot\":{\"id\":\"1303a3e6-87e9-4aca-a19c-7c7bae326db7\",\"subtype\":\"Figure\",\"type\":\"Plot\"},\"ticker\":{\"id\":\"b97e38ac-b2e8-4a2c-9ebf-06f268915ecc\",\"type\":\"BasicTicker\"}},\"id\":\"f44465cc-0ba8-4a12-904c-c11805e833a9\",\"type\":\"Grid\"},{\"attributes\":{\"plot\":{\"id\":\"1303a3e6-87e9-4aca-a19c-7c7bae326db7\",\"subtype\":\"Figure\",\"type\":\"Plot\"}},\"id\":\"7aeab6e3-70fc-4fc0-85e0-988f954b827b\",\"type\":\"ResizeTool\"},{\"attributes\":{},\"id\":\"ce85f661-2018-452c-b1c8-3e1d905e34c2\",\"type\":\"BasicTickFormatter\"},{\"attributes\":{},\"id\":\"b97e38ac-b2e8-4a2c-9ebf-06f268915ecc\",\"type\":\"BasicTicker\"},{\"attributes\":{\"formatter\":{\"id\":\"ce85f661-2018-452c-b1c8-3e1d905e34c2\",\"type\":\"BasicTickFormatter\"},\"plot\":{\"id\":\"1303a3e6-87e9-4aca-a19c-7c7bae326db7\",\"subtype\":\"Figure\",\"type\":\"Plot\"},\"ticker\":{\"id\":\"cd601a54-18bd-4f59-a735-446e297325cb\",\"type\":\"BasicTicker\"}},\"id\":\"6ad91bf8-1f38-4de0-b8c2-2b06d10b1d24\",\"type\":\"LinearAxis\"},{\"attributes\":{\"plot\":{\"id\":\"1303a3e6-87e9-4aca-a19c-7c7bae326db7\",\"subtype\":\"Figure\",\"type\":\"Plot\"}},\"id\":\"85100a0f-0fdd-42c5-b138-056070dd53db\",\"type\":\"ResetTool\"},{\"attributes\":{\"callback\":null},\"id\":\"72172ec3-e206-4834-8779-72eccfe1b125\",\"type\":\"DataRange1d\"},{\"attributes\":{\"fill_color\":{\"value\":\"#1f77b4\"},\"line_color\":{\"value\":\"#1f77b4\"},\"x\":{\"field\":\"x\"},\"y\":{\"field\":\"y\"}},\"id\":\"86ed6e3d-7210-432b-b47e-d85ca9865701\",\"type\":\"Circle\"},{\"attributes\":{\"callback\":null},\"id\":\"056b4634-fd2a-4327-b3c8-6d53094c2ad6\",\"type\":\"DataRange1d\"},{\"attributes\":{\"bottom_units\":\"screen\",\"fill_alpha\":{\"value\":0.5},\"fill_color\":{\"value\":\"lightgrey\"},\"left_units\":\"screen\",\"level\":\"overlay\",\"line_alpha\":{\"value\":1.0},\"line_color\":{\"value\":\"black\"},\"line_dash\":[4,4],\"line_width\":{\"value\":2},\"plot\":null,\"render_mode\":\"css\",\"right_units\":\"screen\",\"top_units\":\"screen\"},\"id\":\"e6f9ea18-ffbd-4fc8-b3ed-a8aa4d4f634c\",\"type\":\"BoxAnnotation\"},{\"attributes\":{\"callback\":null,\"column_names\":[\"x\",\"y\"],\"data\":{\"x\":[0.5526112803332272,0.047231896722676026,0.9474864440961183,0.8586867342794415,0.5337166978709742,0.44196197081047983,0.4806560217218788,0.7165230408904107,0.1336678465518143,0.02701478147485792,0.0959922394718129,0.6999324368315412,0.2017704657160887,0.4495201984699114,0.06259232758120314,0.29916350484208143,0.0036425365637889895,0.8951845778368029,0.8582426135792119,0.47479414408346166,0.9040498066805123,0.6842875836575543,0.15190042052245722,0.10693485946008774,0.52729353879112,0.6479357561132144,0.29482255648236677,0.41134749169805573,0.3742812441520964,0.3071768462166824,0.49644634319986647,0.7624867130141708,0.4779414763490145,0.9857050909271916,0.6286077267943091,0.4558033100155151,0.15301874711714014,0.4773786697598641,0.6104130168872149,0.09474809726596312,0.5415539588662566,0.9476239791006179,0.9119270782058381,0.0418350711559643,0.9594044328681,0.487052365682915,0.903605846297734,0.7515175740277399,0.2564360213405389,0.9390824659745125,0.079931357845065,0.515177150905974,0.04057472916513993,0.16592100363371365,0.07350907133060536,0.022968294197901917,0.3594726512727786,0.8770352855036848,0.39337201283871015,0.21786339887242312,0.882451601439815,0.810480233512688,0.11648328517178907,0.025687400652746106,0.5080208893832672,0.12723076002442102,0.2956217965108926,0.23043650146718342,0.6794927081538941,0.4696491225781416,0.7685107143445572,0.5253465416965991,0.6136105837786551,0.06488401555175538,0.8692439832499829,0.03053138971511915,0.8524605308176144,0.5834753426095562,0.8062304308289934,0.08898057599771536,0.4871206408390537,0.7365589300856519,0.15089034768787168,0.5006509735826234,0.29263521779745594,0.7631094284003166,0.5881302706624842,0.8374770631144013,0.4151962317986526,0.2471035458634503,0.544005741571782,0.4449396853245233,0.39204027339530234,0.9616216056794319,0.576034738695104,0.8909132393734098,0.18710218796630107,0.01079077760885172,0.22474005016173004,0.7247776162928737,0.8097293716036341,0.7961373642104476,0.9475758110670963,0.5535309076748693,0.34721019087661154,0.8734956069062993,0.7125137149183265,0.525090358870398,0.7058151154383872,0.9569023173142274,0.17061645437982298,0.6340723356366653,0.4960313642394475,0.08744354564530687,0.51493344676317,0.8003312611020433,0.9985421408981099,0.32591590444569607,0.23730004870413157,0.05354039757258844,0.4967232177217511,0.24399681046169497,0.8798107830850352,0.32414863718600706,0.3219040804593405,0.9291563556892676,0.2014233141220616,0.3038550157734854,0.25544928366685127,0.8651133284449309,0.4900920384070222,0.5356523574689558,0.6276858010845507,0.4833692525097729,0.0943018763378013,0.05294466380332974,0.5063261687226415,0.46128143638471497,0.27344982324202993,0.47970044998244477,0.5862039360906298,0.8888807936277331,0.5194780872026211,0.47564763486756845,0.807918617674078,0.36929289217040884,0.1444131067706309,0.7958920790020386,0.1113863822293939,0.09788262572362416,0.6943633885043076,0.6467621670174457,0.6488009946695507,0.4735731624606785,0.510063083664724,0.019420520209736614,0.6217710006320352,0.3877986457170941,0.9040082338186656,0.10248270234319323,0.15913273933326633,0.7608368285441055,0.93039161369663,0.038558712503341086,0.5721003674161336,0.08157786224645869,0.3326026940430675,0.5287029497693405,0.6127451152937764,0.2318815533765789,0.4681476372291956,0.529320138494815,0.37756297705325204,0.2397347487816146,0.6206964527852756,0.04028899750722614,0.5510663425221705,0.7893828003969376,0.4998639918061948,0.29501250449167327,0.023979721028994372,0.22262816531856344,0.6249479022750211,0.2906035156313035,0.24349278270614216,0.007631527764183188,0.3942249358823734,0.06106705838127102,0.3074207517222315,0.5465995430132189,0.09493700690464568,0.9869235234203702,0.9755277073288257,0.4488832249944895,0.25637379334090304,0.5464757745999076,0.08727318511434679,0.22600850739135303,0.7765316863704328,0.6731560189754051],\"y\":[0.49738587782881927,0.9450098238021095,0.4805703640482687,0.7402212294746613,0.45815097904338364,0.6411468242301893,0.9333106112046281,0.5189497215571836,0.618594874972929,0.12657622654612255,0.9834378849514513,0.22350638101318332,0.7193705007028974,0.22143076840448117,0.47961530208509606,0.8076866716456222,0.5486310459904906,0.49278240547745067,0.06970402622674043,0.8722012632802725,0.8782936953848441,0.011770231591565095,0.3800947658275142,0.04298931791614413,0.4598479632923458,0.12004490923776745,0.5989318558044162,0.03513437264429642,0.914666618237375,0.7596051147688223,0.4804313114795179,0.1421416617747292,0.16094877384964612,0.28560001069111074,0.5747674530058269,0.24762605195691856,0.37426552459218054,0.22693475198901136,0.5973550227809963,0.19425190153154648,0.6362757324426616,0.41975935305244916,0.7638766911651448,0.12966132030146293,0.10145020884786782,0.989578481669103,0.5762201317801938,0.4591441744279464,0.4100299795817346,0.7799331555901224,0.0213948330311432,0.5778863620539322,0.9087043749108381,0.0031919354130073296,0.21135831099434088,0.7006027144289662,0.474667363726196,0.2513959907656621,0.5877274839808547,0.8750434785849507,0.1715785762932741,0.96828120996412,0.7505404779665196,0.8932292286299465,0.7589905603844734,0.9470217172337277,0.6198830255336684,0.45860047803385107,0.9614654987573076,0.3912388190469104,0.09444153965949709,0.40425114970839393,0.9405960939881933,0.056911293689826836,0.10127843916154511,0.23507153099022926,0.7061166120401534,0.24431198638148366,0.7771983290439723,0.04492025507687292,0.06299066789328323,0.42231310652962994,0.19886989571738556,0.4813965316747284,0.8053411636855736,0.137492899388025,0.39956916344780036,0.8951757372978275,0.878361287522735,0.49712456197531063,0.7494316284407682,0.5013065750064978,0.9810003002159593,0.5720926207636345,0.963555971121508,0.41323868323622304,0.9102329960038517,0.2737641840304338,0.2788738127991822,0.6552481954379796,0.7452938781408,0.7007976204456386,0.5242269421331122,0.8577515701953798,0.8239626554607183,0.2726997462286348,0.8808861961463785,0.09195836395970225,0.8388379829079343,0.08213974310568395,0.18828177448891525,0.3524190971340738,0.9324623201937293,0.46839488431605725,0.07951068446760168,0.7576517276821069,0.22167156697150958,0.7866763490679684,0.3561384478532248,0.13266709675616828,0.24346260200144187,0.7655346166154289,0.2399979837998678,0.0777495220030564,0.9515343249562204,0.6935934812172135,0.07133110135908372,0.822358983252588,0.24060623248602175,0.7072263162685366,0.24807983972154735,0.6218119782241309,0.9854359371490855,0.8400444757392304,0.08594966064245646,0.37919125011848676,0.8689864387090006,0.037688943116213514,0.9236627501830188,0.8016809724117082,0.6113021703352429,0.9815689409641728,0.9481471325532161,0.6401391071052339,0.664907439387822,0.1119540278409149,0.2604201636511042,0.42511783338560727,0.5134188506439196,0.7489433970150068,0.3887806964686429,0.5453007630939943,0.47060582598174994,0.46964455199118826,0.3967740293273627,0.13264670435269188,0.38840501925677706,0.5424450905006132,0.10785021160884667,0.026975666902241735,0.7607608373490802,0.8989843563195091,0.6480633891265455,0.6782402822171576,0.4025456025204759,0.6678815320965459,0.06450762592058801,0.6777799596543244,0.02373131466282241,0.6571169737240368,0.13399849806192077,0.29143827107365206,0.871310013493927,0.3384004126008342,0.5288224075300193,0.21344383381582188,0.8029350105102355,0.18036198940072723,0.8516649456199796,0.1292116416283141,0.174262327705332,0.9196547301024772,0.39770130493343436,0.6379819215120233,0.4285237075263416,0.16376072968628852,0.5838030750554223,0.13596440696458212,0.23316412631704664,0.06037801601448134,0.6870090781196352,0.9153029827171248,0.7729926600001572,0.4872798761695799,0.35243052196006086,0.5617373679721548,0.8582456061027496,0.6004211620397562,0.9458296492419223,0.9211324605192811]}},\"id\":\"28cbeb49-3c89-462b-a57b-9e884a4b50d3\",\"type\":\"ColumnDataSource\"},{\"attributes\":{\"fill_alpha\":{\"value\":0.1},\"fill_color\":{\"value\":\"#1f77b4\"},\"line_alpha\":{\"value\":0.1},\"line_color\":{\"value\":\"#1f77b4\"},\"x\":{\"field\":\"x\"},\"y\":{\"field\":\"y\"}},\"id\":\"754c60f1-57ce-4af3-808a-6e2e6c7322c6\",\"type\":\"Circle\"},{\"attributes\":{},\"id\":\"cd601a54-18bd-4f59-a735-446e297325cb\",\"type\":\"BasicTicker\"},{\"attributes\":{\"formatter\":{\"id\":\"9975f47e-26a6-41a4-9121-e1c2d8cc3e51\",\"type\":\"BasicTickFormatter\"},\"plot\":{\"id\":\"1303a3e6-87e9-4aca-a19c-7c7bae326db7\",\"subtype\":\"Figure\",\"type\":\"Plot\"},\"ticker\":{\"id\":\"b97e38ac-b2e8-4a2c-9ebf-06f268915ecc\",\"type\":\"BasicTicker\"}},\"id\":\"caed94fc-6ff8-4ed0-9105-cbb7c8b2105a\",\"type\":\"LinearAxis\"},{\"attributes\":{\"overlay\":{\"id\":\"e6f9ea18-ffbd-4fc8-b3ed-a8aa4d4f634c\",\"type\":\"BoxAnnotation\"},\"plot\":{\"id\":\"1303a3e6-87e9-4aca-a19c-7c7bae326db7\",\"subtype\":\"Figure\",\"type\":\"Plot\"}},\"id\":\"c2aaa4ae-e96c-4db1-b166-22c8eef0378d\",\"type\":\"BoxZoomTool\"},{\"attributes\":{\"data_source\":{\"id\":\"28cbeb49-3c89-462b-a57b-9e884a4b50d3\",\"type\":\"ColumnDataSource\"},\"glyph\":{\"id\":\"86ed6e3d-7210-432b-b47e-d85ca9865701\",\"type\":\"Circle\"},\"hover_glyph\":null,\"nonselection_glyph\":{\"id\":\"754c60f1-57ce-4af3-808a-6e2e6c7322c6\",\"type\":\"Circle\"},\"selection_glyph\":null},\"id\":\"c9867cb0-0797-4f56-9fef-dfe7f888f0df\",\"type\":\"GlyphRenderer\"}],\"root_ids\":[\"1303a3e6-87e9-4aca-a19c-7c7bae326db7\"]},\"title\":\"Bokeh Application\",\"version\":\"0.11.1\"}};\n",
       "            var render_items = [{\"docid\":\"b6e87cac-6459-4568-b193-6068985e4c03\",\"elementid\":\"f1d9c1da-9347-483c-bde6-aa85df7c9d46\",\"modelid\":\"1303a3e6-87e9-4aca-a19c-7c7bae326db7\",\"notebook_comms_target\":\"7e030382-2f08-4e90-a1ce-674acdb4b141\"}];\n",
       "            \n",
       "            Bokeh.embed.embed_items(docs_json, render_items);\n",
       "        });\n",
       "      },\n",
       "      function(Bokeh) {\n",
       "      }\n",
       "    ];\n",
       "  \n",
       "    function run_inline_js() {\n",
       "      for (var i = 0; i < inline_js.length; i++) {\n",
       "        inline_js[i](window.Bokeh);\n",
       "      }\n",
       "    }\n",
       "  \n",
       "    if (window._bokeh_is_loading === 0) {\n",
       "      console.log(\"Bokeh: BokehJS loaded, going straight to plotting\");\n",
       "      run_inline_js();\n",
       "    } else {\n",
       "      load_libs(js_urls, function() {\n",
       "        console.log(\"Bokeh: BokehJS plotting callback run at\", now());\n",
       "        run_inline_js();\n",
       "      });\n",
       "    }\n",
       "  }(this));\n",
       "</script>"
      ]
     },
     "metadata": {},
     "output_type": "display_data"
    },
    {
     "data": {
      "text/html": [
       "<p><code>&lt;Bokeh Notebook handle for <strong>In[30]</strong>&gt;</code></p>"
      ],
      "text/plain": [
       "<bokeh.io._CommsHandle at 0x7f6a9d2bb390>"
      ]
     },
     "execution_count": 30,
     "metadata": {},
     "output_type": "execute_result"
    }
   ],
   "source": [
    "p = figure()\n",
    "p.circle(x=position[:, 0], y=position[:, 1])\n",
    "show(p)"
   ]
  },
  {
   "cell_type": "markdown",
   "metadata": {
    "collapsed": true
   },
   "source": [
    "# plt"
   ]
  },
  {
   "cell_type": "code",
   "execution_count": 32,
   "metadata": {
    "collapsed": true
   },
   "outputs": [],
   "source": [
    "%matplotlib inline"
   ]
  },
  {
   "cell_type": "code",
   "execution_count": 33,
   "metadata": {
    "collapsed": false
   },
   "outputs": [
    {
     "data": {
      "image/png": "[encoded data removed]",
      "text/plain": [
       "<matplotlib.figure.Figure at 0x7f6a9d2e5a58>"
      ]
     },
     "metadata": {},
     "output_type": "display_data"
    }
   ],
   "source": [
    "import matplotlib.pyplot as plt\n",
    "import numpy as np\n",
    "from matplotlib.collections import LineCollection\n",
    "\n",
    "# In order to efficiently plot many lines in a single set of axes,\n",
    "# Matplotlib has the ability to add the lines all at once. Here is a\n",
    "# simple example showing how it is done.\n",
    "\n",
    "N = 50\n",
    "x = np.arange(N)\n",
    "# Here are many sets of y to plot vs x\n",
    "ys = [x + i for i in x]\n",
    "\n",
    "# We need to set the plot limits, they will not autoscale\n",
    "ax = plt.axes()\n",
    "\n",
    "ax.set_xlim((np.amin(x), np.amax(x)))\n",
    "ax.set_ylim((np.amin(np.amin(ys)), np.amax(np.amax(ys))))\n",
    "\n",
    "# colors is sequence of rgba tuples\n",
    "# linestyle is a string or dash tuple. Legal string values are\n",
    "#          solid|dashed|dashdot|dotted.  The dash tuple is (offset, onoffseq)\n",
    "#          where onoffseq is an even length tuple of on and off ink in points.\n",
    "#          If linestyle is omitted, 'solid' is used\n",
    "# See matplotlib.collections.LineCollection for more information\n",
    "\n",
    "# Make a sequence of x,y pairs\n",
    "line_segments = LineCollection([list(zip(x, y)) for y in ys],\n",
    "                               linewidths=(0.5, 1, 1.5, 2),\n",
    "                               linestyles='solid')\n",
    "line_segments.set_array(x)\n",
    "ax.add_collection(line_segments)\n",
    "fig = plt.gcf()\n",
    "axcb = fig.colorbar(line_segments)\n",
    "axcb.set_label('Line Number')\n",
    "ax.set_title('Line Collection with mapped colors')\n",
    "plt.sci(line_segments)  # This allows interactive changing of the colormap.\n",
    "plt.show()"
   ]
  },
  {
   "cell_type": "code",
   "execution_count": 34,
   "metadata": {
    "collapsed": true
   },
   "outputs": [],
   "source": [
    "import os"
   ]
  },
  {
   "cell_type": "code",
   "execution_count": 39,
   "metadata": {
    "collapsed": false
   },
   "outputs": [
    {
     "data": {
      "text/plain": [
       "'asd'"
      ]
     },
     "execution_count": 39,
     "metadata": {},
     "output_type": "execute_result"
    }
   ],
   "source": [
    "os.path.join(\"asd\", *())"
   ]
  },
  {
   "cell_type": "code",
   "execution_count": 68,
   "metadata": {
    "collapsed": false
   },
   "outputs": [],
   "source": [
    "a = pd.DataFrame(np.ones(10).reshape(1, 10))\n",
    "b = pd.DataFrame(2 * np.ones(10).reshape(1, 10))"
   ]
  },
  {
   "cell_type": "code",
   "execution_count": 69,
   "metadata": {
    "collapsed": true
   },
   "outputs": [],
   "source": [
    "c = pd.DataFrame(3 * np.ones(10).reshape(1, 10))"
   ]
  },
  {
   "cell_type": "code",
   "execution_count": 70,
   "metadata": {
    "collapsed": false
   },
   "outputs": [
    {
     "data": {
      "text/html": [
       "<div>\n",
       "<table border=\"1\" class=\"dataframe\">\n",
       "  <thead>\n",
       "    <tr style=\"text-align: right;\">\n",
       "      <th></th>\n",
       "      <th>0</th>\n",
       "      <th>1</th>\n",
       "      <th>2</th>\n",
       "      <th>3</th>\n",
       "      <th>...</th>\n",
       "      <th>6</th>\n",
       "      <th>7</th>\n",
       "      <th>8</th>\n",
       "      <th>9</th>\n",
       "    </tr>\n",
       "  </thead>\n",
       "  <tbody>\n",
       "    <tr>\n",
       "      <th>0</th>\n",
       "      <td>1.0</td>\n",
       "      <td>1.0</td>\n",
       "      <td>1.0</td>\n",
       "      <td>1.0</td>\n",
       "      <td>...</td>\n",
       "      <td>1.0</td>\n",
       "      <td>1.0</td>\n",
       "      <td>1.0</td>\n",
       "      <td>1.0</td>\n",
       "    </tr>\n",
       "    <tr>\n",
       "      <th>1</th>\n",
       "      <td>2.0</td>\n",
       "      <td>2.0</td>\n",
       "      <td>2.0</td>\n",
       "      <td>2.0</td>\n",
       "      <td>...</td>\n",
       "      <td>2.0</td>\n",
       "      <td>2.0</td>\n",
       "      <td>2.0</td>\n",
       "      <td>2.0</td>\n",
       "    </tr>\n",
       "  </tbody>\n",
       "</table>\n",
       "<p>2 rows × 10 columns</p>\n",
       "</div>"
      ],
      "text/plain": [
       "     0    1    2    3 ...     6    7    8    9\n",
       "0  1.0  1.0  1.0  1.0 ...   1.0  1.0  1.0  1.0\n",
       "1  2.0  2.0  2.0  2.0 ...   2.0  2.0  2.0  2.0\n",
       "\n",
       "[2 rows x 10 columns]"
      ]
     },
     "execution_count": 70,
     "metadata": {},
     "output_type": "execute_result"
    }
   ],
   "source": [
    "pd.concat((a, b), ignore_index=True)"
   ]
  },
  {
   "cell_type": "code",
   "execution_count": 71,
   "metadata": {
    "collapsed": false
   },
   "outputs": [
    {
     "data": {
      "text/html": [
       "<div>\n",
       "<table border=\"1\" class=\"dataframe\">\n",
       "  <thead>\n",
       "    <tr style=\"text-align: right;\">\n",
       "      <th></th>\n",
       "      <th>0</th>\n",
       "      <th>1</th>\n",
       "      <th>2</th>\n",
       "      <th>3</th>\n",
       "      <th>...</th>\n",
       "      <th>6</th>\n",
       "      <th>7</th>\n",
       "      <th>8</th>\n",
       "      <th>9</th>\n",
       "    </tr>\n",
       "  </thead>\n",
       "  <tbody>\n",
       "    <tr>\n",
       "      <th>0</th>\n",
       "      <td>1.0</td>\n",
       "      <td>1.0</td>\n",
       "      <td>1.0</td>\n",
       "      <td>1.0</td>\n",
       "      <td>...</td>\n",
       "      <td>1.0</td>\n",
       "      <td>1.0</td>\n",
       "      <td>1.0</td>\n",
       "      <td>1.0</td>\n",
       "    </tr>\n",
       "    <tr>\n",
       "      <th>1</th>\n",
       "      <td>2.0</td>\n",
       "      <td>2.0</td>\n",
       "      <td>2.0</td>\n",
       "      <td>2.0</td>\n",
       "      <td>...</td>\n",
       "      <td>2.0</td>\n",
       "      <td>2.0</td>\n",
       "      <td>2.0</td>\n",
       "      <td>2.0</td>\n",
       "    </tr>\n",
       "    <tr>\n",
       "      <th>2</th>\n",
       "      <td>3.0</td>\n",
       "      <td>3.0</td>\n",
       "      <td>3.0</td>\n",
       "      <td>3.0</td>\n",
       "      <td>...</td>\n",
       "      <td>3.0</td>\n",
       "      <td>3.0</td>\n",
       "      <td>3.0</td>\n",
       "      <td>3.0</td>\n",
       "    </tr>\n",
       "  </tbody>\n",
       "</table>\n",
       "<p>3 rows × 10 columns</p>\n",
       "</div>"
      ],
      "text/plain": [
       "     0    1    2    3 ...     6    7    8    9\n",
       "0  1.0  1.0  1.0  1.0 ...   1.0  1.0  1.0  1.0\n",
       "1  2.0  2.0  2.0  2.0 ...   2.0  2.0  2.0  2.0\n",
       "2  3.0  3.0  3.0  3.0 ...   3.0  3.0  3.0  3.0\n",
       "\n",
       "[3 rows x 10 columns]"
      ]
     },
     "execution_count": 71,
     "metadata": {},
     "output_type": "execute_result"
    }
   ],
   "source": [
    "pd.concat((_, c), ignore_index=True)"
   ]
  },
  {
   "cell_type": "code",
   "execution_count": null,
   "metadata": {
    "collapsed": true
   },
   "outputs": [],
   "source": []
  }
 ],
 "metadata": {
  "kernelspec": {
   "display_name": "Python 3.4",
   "language": "python",
   "name": "python34"
  },
  "language_info": {
   "codemirror_mode": {
    "name": "ipython",
    "version": 3
   },
   "file_extension": ".py",
   "mimetype": "text/x-python",
   "name": "python",
   "nbconvert_exporter": "python",
   "pygments_lexer": "ipython3",
   "version": "3.4.4"
  }
 },
 "nbformat": 4,
 "nbformat_minor": 0
}
