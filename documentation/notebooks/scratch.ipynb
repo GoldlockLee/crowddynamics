{
 "cells": [
  {
   "cell_type": "markdown",
   "metadata": {},
   "source": [
    "**Library Imports**"
   ]
  },
  {
   "cell_type": "code",
   "execution_count": 1,
   "metadata": {
    "collapsed": true
   },
   "outputs": [],
   "source": [
    "from __future__ import absolute_import\n",
    "from __future__ import division\n",
    "from __future__ import print_function\n",
    "from __future__ import unicode_literals"
   ]
  },
  {
   "cell_type": "code",
   "execution_count": 2,
   "metadata": {
    "collapsed": false
   },
   "outputs": [
    {
     "name": "stdout",
     "output_type": "stream",
     "text": [
      "3.4.4 |Anaconda 2.4.0 (64-bit)| (default, Jan 11 2016, 13:54:01) \n",
      "[GCC 4.4.7 20120313 (Red Hat 4.4.7-1)]\n"
     ]
    }
   ],
   "source": [
    "import os\n",
    "import sys\n",
    "print(sys.version)   # Python version information"
   ]
  },
  {
   "cell_type": "code",
   "execution_count": 3,
   "metadata": {
    "collapsed": true
   },
   "outputs": [],
   "source": [
    "from sympy import *  # Symbolic mathematics\n",
    "import sympy"
   ]
  },
  {
   "cell_type": "code",
   "execution_count": 4,
   "metadata": {
    "collapsed": true
   },
   "outputs": [],
   "source": [
    "import numpy as np   # N-Dimensional arrays and numerical routines\n",
    "import pandas as pd  # Data structures and data analysis tools\n",
    "import scipy         # Numerical routines"
   ]
  },
  {
   "cell_type": "code",
   "execution_count": 5,
   "metadata": {
    "collapsed": true
   },
   "outputs": [],
   "source": [
    "#import numba        # Decorators for speeding up python functions"
   ]
  },
  {
   "cell_type": "code",
   "execution_count": 6,
   "metadata": {
    "collapsed": true
   },
   "outputs": [],
   "source": [
    "#from astropy import constants  # Physical Constants\n",
    "#from astropy import units      # Physical Units"
   ]
  },
  {
   "cell_type": "code",
   "execution_count": 7,
   "metadata": {
    "collapsed": true
   },
   "outputs": [],
   "source": [
    "import matplotlib as mpl  # Standard plotting library\n",
    "import matplotlib.pyplot as plt \n",
    "import seaborn as sns     # Statistical plotting and improved plot style\n",
    "#import bokeh             # Interactive visualization library"
   ]
  },
  {
   "cell_type": "code",
   "execution_count": 8,
   "metadata": {
    "collapsed": true
   },
   "outputs": [],
   "source": [
    "from sympy.utilities.autowrap import ufuncify  # Creates numerical methods \n",
    "                                               # from symbolic expressions"
   ]
  },
  {
   "cell_type": "code",
   "execution_count": 9,
   "metadata": {
    "collapsed": true
   },
   "outputs": [],
   "source": [
    "from sympy import abc       # Symbolic variables\n",
    "from sympy import pi as Pi  # Symbolic pi\n",
    "from sympy import I as I    # Symbolic imaginary unit"
   ]
  },
  {
   "cell_type": "markdown",
   "metadata": {},
   "source": [
    "**Display**"
   ]
  },
  {
   "cell_type": "code",
   "execution_count": 10,
   "metadata": {
    "collapsed": true
   },
   "outputs": [],
   "source": [
    "from IPython.display import display"
   ]
  },
  {
   "cell_type": "code",
   "execution_count": 11,
   "metadata": {
    "collapsed": false
   },
   "outputs": [],
   "source": [
    "from IPython.display import set_matplotlib_formats  \n",
    "set_matplotlib_formats('pdf', 'png')"
   ]
  },
  {
   "cell_type": "code",
   "execution_count": 12,
   "metadata": {
    "collapsed": true
   },
   "outputs": [],
   "source": [
    "import ipywidgets"
   ]
  },
  {
   "cell_type": "markdown",
   "metadata": {},
   "source": [
    "**Settings & Options**"
   ]
  },
  {
   "cell_type": "code",
   "execution_count": 13,
   "metadata": {
    "collapsed": false
   },
   "outputs": [],
   "source": [
    "np.set_printoptions(precision=5, threshold=1000, edgeitems=3, linewidth=75, \n",
    "                    suppress=False, nanstr=None, infstr=None, \n",
    "                    formatter=None)"
   ]
  },
  {
   "cell_type": "code",
   "execution_count": 14,
   "metadata": {
    "collapsed": false
   },
   "outputs": [],
   "source": [
    "pandas_options = {'display.chop_threshold': None,\n",
    "                  'display.precision': 4,\n",
    "                  'display.max_columns': 8,\n",
    "                  'display.max_rows': 8,\n",
    "                  'display.max_info_columns': 8,\n",
    "                  'display.max_info_rows': 8}\n",
    "for key, val in pandas_options.items():\n",
    "    pd.set_option(key, val)"
   ]
  },
  {
   "cell_type": "code",
   "execution_count": 15,
   "metadata": {
    "collapsed": true
   },
   "outputs": [],
   "source": [
    "sympy.interactive.printing.init_printing(use_latex='mathjax')"
   ]
  },
  {
   "cell_type": "markdown",
   "metadata": {},
   "source": [
    "**Resources**"
   ]
  },
  {
   "cell_type": "markdown",
   "metadata": {},
   "source": [
    "- [Simulating dynamical features of escape panic](http://www.nature.com/nature/journal/v407/n6803/full/407487a0.html)\n",
    "\n",
    "- [Patient and impatient pedestrians in a spatial game for egress congestion](http://journals.aps.org/pre/abstract/10.1103/PhysRevE.87.012802)\n",
    "\n",
    "- [Power Law](http://motion.cs.umn.edu/PowerLaw/)\n",
    "\n",
    "- [Universal Power Law Governing Pedestrian Interactions](http://journals.aps.org/prl/abstract/10.1103/PhysRevLett.113.238701)\n"
   ]
  },
  {
   "cell_type": "markdown",
   "metadata": {
    "collapsed": true
   },
   "source": [
    "# Scratch"
   ]
  },
  {
   "cell_type": "code",
   "execution_count": 16,
   "metadata": {
    "collapsed": true
   },
   "outputs": [],
   "source": [
    "%matplotlib inline"
   ]
  },
  {
   "cell_type": "code",
   "execution_count": 17,
   "metadata": {
    "collapsed": false
   },
   "outputs": [
    {
     "data": {
      "text/plain": [
       "array([ 0.20676,  0.217  ,  0.24551,  0.21719,  0.22374,  0.21493,\n",
       "        0.23267,  0.21149,  0.22325,  0.22172,  0.21774,  0.22852,\n",
       "        0.2318 ,  0.21203,  0.21979,  0.21591,  0.2116 ,  0.21908,\n",
       "        0.20677,  0.2085 ,  0.22565,  0.22882,  0.22096,  0.21296,\n",
       "        0.21829,  0.2248 ,  0.21164,  0.22001,  0.22005,  0.23041,\n",
       "        0.2224 ,  0.24253,  0.21771,  0.217  ,  0.23574,  0.21617,\n",
       "        0.22831,  0.22027,  0.21759,  0.22896,  0.21029,  0.22281,\n",
       "        0.20826,  0.21777,  0.22042,  0.21035,  0.21494,  0.22886,\n",
       "        0.21908,  0.23588,  0.22516,  0.21472,  0.21499,  0.21264,\n",
       "        0.22973,  0.2092 ,  0.23689,  0.21338,  0.19362,  0.23274,\n",
       "        0.22409,  0.23814,  0.23773,  0.21322,  0.23028,  0.23032,\n",
       "        0.22452,  0.23186,  0.22185,  0.21723,  0.2074 ,  0.21557,\n",
       "        0.20607,  0.22319,  0.23576,  0.23274,  0.23263,  0.21026,\n",
       "        0.22699,  0.21395,  0.23388,  0.22524,  0.2116 ,  0.21664,\n",
       "        0.22064,  0.20635,  0.23349,  0.20962,  0.20652,  0.22072,\n",
       "        0.23147,  0.23133,  0.21826,  0.19943,  0.24771,  0.2358 ,\n",
       "        0.22368,  0.22194,  0.22486,  0.23115])"
      ]
     },
     "execution_count": 17,
     "metadata": {},
     "output_type": "execute_result"
    }
   ],
   "source": [
    "arr = np.random.normal(loc=0.22, scale=0.01, size=100)\n",
    "arr"
   ]
  },
  {
   "cell_type": "code",
   "execution_count": 18,
   "metadata": {
    "collapsed": false
   },
   "outputs": [
    {
     "data": {
      "text/plain": [
       "array([ 72.56073,  55.77853,  75.47573,  71.47444,  71.25231,  72.35984,\n",
       "        74.60015,  70.09261,  73.42116,  56.68056,  77.5087 ,  83.81114,\n",
       "        84.91279,  74.69013,  74.90495,  58.61982,  71.80456,  57.70956,\n",
       "        72.78696,  71.95975,  67.81382,  76.10958,  77.90998,  64.87806,\n",
       "        71.50804,  68.12366,  70.55303,  85.84268,  85.50639,  72.58045,\n",
       "        51.73435,  69.21988,  86.90543,  69.55435,  63.08614,  59.00698,\n",
       "        73.20308,  80.09279,  71.68526,  79.43704,  66.69901,  74.87026,\n",
       "        87.00824,  70.53209,  61.55182,  61.06403,  70.66825,  81.92589,\n",
       "        70.03088,  85.08511,  68.9906 ,  66.53221,  61.69592,  73.47323,\n",
       "        69.22758,  62.09551,  83.9534 ,  51.35371,  72.33951,  58.14459,\n",
       "        80.99213,  84.25055,  71.66125,  68.17822,  65.97208,  70.01935,\n",
       "        71.74787,  84.69807,  80.09491,  63.37682,  70.47601,  66.19759,\n",
       "        81.8455 ,  77.87112,  64.56283,  65.76665,  65.41624,  66.95283,\n",
       "        65.17375,  76.90883,  76.05736,  79.16288,  55.79914,  76.11603,\n",
       "        71.8005 ,  63.24129,  72.2443 ,  67.30636,  71.63477,  72.62654,\n",
       "        67.59007,  63.35493,  70.46822,  67.60874,  54.61361,  65.27952,\n",
       "        54.26536,  56.65232,  85.63109,  76.35101])"
      ]
     },
     "execution_count": 18,
     "metadata": {},
     "output_type": "execute_result"
    }
   ],
   "source": [
    "arr = np.random.normal(loc=70, scale=10,size=100)\n",
    "arr"
   ]
  },
  {
   "cell_type": "code",
   "execution_count": 19,
   "metadata": {
    "collapsed": true
   },
   "outputs": [],
   "source": [
    "arr -= arr.min()"
   ]
  },
  {
   "cell_type": "code",
   "execution_count": 20,
   "metadata": {
    "collapsed": true
   },
   "outputs": [],
   "source": [
    "arr /= arr.max()"
   ]
  },
  {
   "cell_type": "code",
   "execution_count": 21,
   "metadata": {
    "collapsed": false
   },
   "outputs": [
    {
     "data": {
      "image/png": "[encoded data removed]",
      "text/plain": [
       "<matplotlib.figure.Figure at 0x7f2aa6b61208>"
      ]
     },
     "metadata": {},
     "output_type": "display_data"
    }
   ],
   "source": [
    "plt.hist(arr, bins=10);"
   ]
  },
  {
   "cell_type": "code",
   "execution_count": 22,
   "metadata": {
    "collapsed": false
   },
   "outputs": [],
   "source": [
    "arr.sort()"
   ]
  },
  {
   "cell_type": "code",
   "execution_count": 23,
   "metadata": {
    "collapsed": false
   },
   "outputs": [
    {
     "data": {
      "image/png": "[encoded data removed]",
      "text/plain": [
       "<matplotlib.figure.Figure at 0x7f2aa494e160>"
      ]
     },
     "metadata": {},
     "output_type": "display_data"
    }
   ],
   "source": [
    "plt.plot(np.arange(arr.size), arr);"
   ]
  },
  {
   "cell_type": "markdown",
   "metadata": {},
   "source": [
    "# Numba"
   ]
  },
  {
   "cell_type": "code",
   "execution_count": 24,
   "metadata": {
    "collapsed": true
   },
   "outputs": [],
   "source": [
    "from bokeh.plotting import *"
   ]
  },
  {
   "cell_type": "code",
   "execution_count": 25,
   "metadata": {
    "collapsed": false
   },
   "outputs": [
    {
     "data": {
      "text/html": [
       "\n",
       "    <div class=\"bk-banner\">\n",
       "        <a href=\"http://bokeh.pydata.org\" target=\"_blank\" class=\"bk-logo bk-logo-small bk-logo-notebook\"></a>\n",
       "        <span id=\"56252901-bd8f-42e2-aa24-767b06d8b035\">Loading BokehJS ...</span>\n",
       "    </div>"
      ]
     },
     "metadata": {},
     "output_type": "display_data"
    },
    {
     "data": {
      "application/javascript": [
       "\n",
       "(function(global) {\n",
       "  function now() {\n",
       "    return new Date();\n",
       "  }\n",
       "\n",
       "  if (typeof (window._bokeh_onload_callbacks) === \"undefined\") {\n",
       "    window._bokeh_onload_callbacks = [];\n",
       "  }\n",
       "\n",
       "  function run_callbacks() {\n",
       "    window._bokeh_onload_callbacks.forEach(function(callback) { callback() });\n",
       "    delete window._bokeh_onload_callbacks\n",
       "    console.info(\"Bokeh: all callbacks have finished\");\n",
       "  }\n",
       "\n",
       "  function load_libs(js_urls, callback) {\n",
       "    window._bokeh_onload_callbacks.push(callback);\n",
       "    if (window._bokeh_is_loading > 0) {\n",
       "      console.log(\"Bokeh: BokehJS is being loaded, scheduling callback at\", now());\n",
       "      return null;\n",
       "    }\n",
       "    if (js_urls == null || js_urls.length === 0) {\n",
       "      run_callbacks();\n",
       "      return null;\n",
       "    }\n",
       "    console.log(\"Bokeh: BokehJS not loaded, scheduling load and callback at\", now());\n",
       "    window._bokeh_is_loading = js_urls.length;\n",
       "    for (var i = 0; i < js_urls.length; i++) {\n",
       "      var url = js_urls[i];\n",
       "      var s = document.createElement('script');\n",
       "      s.src = url;\n",
       "      s.async = false;\n",
       "      s.onreadystatechange = s.onload = function() {\n",
       "        window._bokeh_is_loading--;\n",
       "        if (window._bokeh_is_loading === 0) {\n",
       "          console.log(\"Bokeh: all BokehJS libraries loaded\");\n",
       "          run_callbacks()\n",
       "        }\n",
       "      };\n",
       "      s.onerror = function() {\n",
       "        console.warn(\"failed to load library \" + url);\n",
       "      };\n",
       "      console.log(\"Bokeh: injecting script tag for BokehJS library: \", url);\n",
       "      document.getElementsByTagName(\"head\")[0].appendChild(s);\n",
       "    }\n",
       "  };\n",
       "\n",
       "  var js_urls = ['https://cdn.pydata.org/bokeh/release/bokeh-0.11.1.min.js', 'https://cdn.pydata.org/bokeh/release/bokeh-widgets-0.11.1.min.js', 'https://cdn.pydata.org/bokeh/release/bokeh-compiler-0.11.1.min.js'];\n",
       "\n",
       "  var inline_js = [\n",
       "    function(Bokeh) {\n",
       "      Bokeh.set_log_level(\"info\");\n",
       "    },\n",
       "    \n",
       "    function(Bokeh) {\n",
       "      Bokeh.$(\"#56252901-bd8f-42e2-aa24-767b06d8b035\").text(\"BokehJS successfully loaded\");\n",
       "    },\n",
       "    function(Bokeh) {\n",
       "      console.log(\"Bokeh: injecting CSS: https://cdn.pydata.org/bokeh/release/bokeh-0.11.1.min.css\");\n",
       "      Bokeh.embed.inject_css(\"https://cdn.pydata.org/bokeh/release/bokeh-0.11.1.min.css\");\n",
       "      console.log(\"Bokeh: injecting CSS: https://cdn.pydata.org/bokeh/release/bokeh-widgets-0.11.1.min.css\");\n",
       "      Bokeh.embed.inject_css(\"https://cdn.pydata.org/bokeh/release/bokeh-widgets-0.11.1.min.css\");\n",
       "    }\n",
       "  ];\n",
       "\n",
       "  function run_inline_js() {\n",
       "    for (var i = 0; i < inline_js.length; i++) {\n",
       "      inline_js[i](window.Bokeh);\n",
       "    }\n",
       "  }\n",
       "\n",
       "  if (window._bokeh_is_loading === 0) {\n",
       "    console.log(\"Bokeh: BokehJS loaded, going straight to plotting\");\n",
       "    run_inline_js();\n",
       "  } else {\n",
       "    load_libs(js_urls, function() {\n",
       "      console.log(\"Bokeh: BokehJS plotting callback run at\", now());\n",
       "      run_inline_js();\n",
       "    });\n",
       "  }\n",
       "}(this));"
      ]
     },
     "metadata": {},
     "output_type": "display_data"
    }
   ],
   "source": [
    "output_notebook()"
   ]
  },
  {
   "cell_type": "code",
   "execution_count": 26,
   "metadata": {
    "collapsed": true
   },
   "outputs": [],
   "source": [
    "import numba"
   ]
  },
  {
   "cell_type": "code",
   "execution_count": 27,
   "metadata": {
    "collapsed": false
   },
   "outputs": [],
   "source": [
    "position = np.random.uniform(size=400)\n",
    "position = position.reshape((position.size // 2, 2))"
   ]
  },
  {
   "cell_type": "code",
   "execution_count": 28,
   "metadata": {
    "collapsed": false
   },
   "outputs": [
    {
     "data": {
      "text/html": [
       "\n",
       "\n",
       "    <div class=\"plotdiv\" id=\"400aea7d-987a-452f-9ae8-4915fdcc520b\"></div>\n",
       "<script type=\"text/javascript\">\n",
       "  \n",
       "  (function(global) {\n",
       "    function now() {\n",
       "      return new Date();\n",
       "    }\n",
       "  \n",
       "    if (typeof (window._bokeh_onload_callbacks) === \"undefined\") {\n",
       "      window._bokeh_onload_callbacks = [];\n",
       "    }\n",
       "  \n",
       "    function run_callbacks() {\n",
       "      window._bokeh_onload_callbacks.forEach(function(callback) { callback() });\n",
       "      delete window._bokeh_onload_callbacks\n",
       "      console.info(\"Bokeh: all callbacks have finished\");\n",
       "    }\n",
       "  \n",
       "    function load_libs(js_urls, callback) {\n",
       "      window._bokeh_onload_callbacks.push(callback);\n",
       "      if (window._bokeh_is_loading > 0) {\n",
       "        console.log(\"Bokeh: BokehJS is being loaded, scheduling callback at\", now());\n",
       "        return null;\n",
       "      }\n",
       "      if (js_urls == null || js_urls.length === 0) {\n",
       "        run_callbacks();\n",
       "        return null;\n",
       "      }\n",
       "      console.log(\"Bokeh: BokehJS not loaded, scheduling load and callback at\", now());\n",
       "      window._bokeh_is_loading = js_urls.length;\n",
       "      for (var i = 0; i < js_urls.length; i++) {\n",
       "        var url = js_urls[i];\n",
       "        var s = document.createElement('script');\n",
       "        s.src = url;\n",
       "        s.async = false;\n",
       "        s.onreadystatechange = s.onload = function() {\n",
       "          window._bokeh_is_loading--;\n",
       "          if (window._bokeh_is_loading === 0) {\n",
       "            console.log(\"Bokeh: all BokehJS libraries loaded\");\n",
       "            run_callbacks()\n",
       "          }\n",
       "        };\n",
       "        s.onerror = function() {\n",
       "          console.warn(\"failed to load library \" + url);\n",
       "        };\n",
       "        console.log(\"Bokeh: injecting script tag for BokehJS library: \", url);\n",
       "        document.getElementsByTagName(\"head\")[0].appendChild(s);\n",
       "      }\n",
       "    };var element = document.getElementById(\"400aea7d-987a-452f-9ae8-4915fdcc520b\");\n",
       "    if (element == null) {\n",
       "      console.log(\"Bokeh: ERROR: autoload.js configured with elementid '400aea7d-987a-452f-9ae8-4915fdcc520b' but no matching script tag was found. \")\n",
       "      return false;\n",
       "    }\n",
       "  \n",
       "    var js_urls = [];\n",
       "  \n",
       "    var inline_js = [\n",
       "      function(Bokeh) {\n",
       "        Bokeh.$(function() {\n",
       "            var docs_json = {\"804f0915-e686-4420-825b-8b4feecf69bf\":{\"roots\":{\"references\":[{\"attributes\":{\"fill_color\":{\"value\":\"#1f77b4\"},\"line_color\":{\"value\":\"#1f77b4\"},\"x\":{\"field\":\"x\"},\"y\":{\"field\":\"y\"}},\"id\":\"57cb0975-7844-4e53-bd27-5dbd27e15f5f\",\"type\":\"Circle\"},{\"attributes\":{\"bottom_units\":\"screen\",\"fill_alpha\":{\"value\":0.5},\"fill_color\":{\"value\":\"lightgrey\"},\"left_units\":\"screen\",\"level\":\"overlay\",\"line_alpha\":{\"value\":1.0},\"line_color\":{\"value\":\"black\"},\"line_dash\":[4,4],\"line_width\":{\"value\":2},\"plot\":null,\"render_mode\":\"css\",\"right_units\":\"screen\",\"top_units\":\"screen\"},\"id\":\"da7d2c3d-74f5-404a-b841-0c97cf5e5b36\",\"type\":\"BoxAnnotation\"},{\"attributes\":{\"plot\":{\"id\":\"ee26e21c-05a0-470a-849c-cd1898231801\",\"subtype\":\"Figure\",\"type\":\"Plot\"}},\"id\":\"3ec9ff8d-f093-45ac-81d0-14a7fb092e1c\",\"type\":\"PanTool\"},{\"attributes\":{\"dimension\":1,\"plot\":{\"id\":\"ee26e21c-05a0-470a-849c-cd1898231801\",\"subtype\":\"Figure\",\"type\":\"Plot\"},\"ticker\":{\"id\":\"9c727298-344f-4a66-9223-2d17c8f807c5\",\"type\":\"BasicTicker\"}},\"id\":\"714900d3-1673-45e2-9943-fdb4a1505e1f\",\"type\":\"Grid\"},{\"attributes\":{\"fill_alpha\":{\"value\":0.1},\"fill_color\":{\"value\":\"#1f77b4\"},\"line_alpha\":{\"value\":0.1},\"line_color\":{\"value\":\"#1f77b4\"},\"x\":{\"field\":\"x\"},\"y\":{\"field\":\"y\"}},\"id\":\"447b5edf-fc49-4d23-99ff-c19f875d673c\",\"type\":\"Circle\"},{\"attributes\":{\"plot\":{\"id\":\"ee26e21c-05a0-470a-849c-cd1898231801\",\"subtype\":\"Figure\",\"type\":\"Plot\"}},\"id\":\"949da730-3195-4a26-8189-f30dfe2d9324\",\"type\":\"ResetTool\"},{\"attributes\":{\"plot\":{\"id\":\"ee26e21c-05a0-470a-849c-cd1898231801\",\"subtype\":\"Figure\",\"type\":\"Plot\"}},\"id\":\"c36df065-168a-4cda-817c-13474efaa605\",\"type\":\"WheelZoomTool\"},{\"attributes\":{},\"id\":\"9c727298-344f-4a66-9223-2d17c8f807c5\",\"type\":\"BasicTicker\"},{\"attributes\":{\"plot\":{\"id\":\"ee26e21c-05a0-470a-849c-cd1898231801\",\"subtype\":\"Figure\",\"type\":\"Plot\"}},\"id\":\"7dee77dd-2316-4299-bf48-4cef5548f95d\",\"type\":\"HelpTool\"},{\"attributes\":{\"plot\":{\"id\":\"ee26e21c-05a0-470a-849c-cd1898231801\",\"subtype\":\"Figure\",\"type\":\"Plot\"}},\"id\":\"898f1429-5ad5-450d-9aa8-578c37895f58\",\"type\":\"ResizeTool\"},{\"attributes\":{},\"id\":\"0682a92a-31e8-4d41-9938-2c44e8a5c81d\",\"type\":\"BasicTickFormatter\"},{\"attributes\":{\"below\":[{\"id\":\"40b921cb-49a9-49ea-807d-260f9c3e1340\",\"type\":\"LinearAxis\"}],\"left\":[{\"id\":\"d6aeceac-eddc-464e-ae1d-14aa3c783b43\",\"type\":\"LinearAxis\"}],\"renderers\":[{\"id\":\"40b921cb-49a9-49ea-807d-260f9c3e1340\",\"type\":\"LinearAxis\"},{\"id\":\"de4739bb-aed6-4415-8197-ab9720eba54d\",\"type\":\"Grid\"},{\"id\":\"d6aeceac-eddc-464e-ae1d-14aa3c783b43\",\"type\":\"LinearAxis\"},{\"id\":\"714900d3-1673-45e2-9943-fdb4a1505e1f\",\"type\":\"Grid\"},{\"id\":\"da7d2c3d-74f5-404a-b841-0c97cf5e5b36\",\"type\":\"BoxAnnotation\"},{\"id\":\"ac79f800-2347-4414-905c-13b51fe652ee\",\"type\":\"GlyphRenderer\"}],\"tool_events\":{\"id\":\"5822abdd-0e8c-4420-b123-06d7d8fd2ad7\",\"type\":\"ToolEvents\"},\"tools\":[{\"id\":\"3ec9ff8d-f093-45ac-81d0-14a7fb092e1c\",\"type\":\"PanTool\"},{\"id\":\"c36df065-168a-4cda-817c-13474efaa605\",\"type\":\"WheelZoomTool\"},{\"id\":\"841e4ffc-4258-4b8d-9ef0-7c413f4f9fb7\",\"type\":\"BoxZoomTool\"},{\"id\":\"244112c8-8f64-4621-91fe-1bb4b7ed1471\",\"type\":\"PreviewSaveTool\"},{\"id\":\"898f1429-5ad5-450d-9aa8-578c37895f58\",\"type\":\"ResizeTool\"},{\"id\":\"949da730-3195-4a26-8189-f30dfe2d9324\",\"type\":\"ResetTool\"},{\"id\":\"7dee77dd-2316-4299-bf48-4cef5548f95d\",\"type\":\"HelpTool\"}],\"x_range\":{\"id\":\"62400849-f91d-479d-a609-8bf1d50bf88a\",\"type\":\"DataRange1d\"},\"y_range\":{\"id\":\"ed111fa1-b083-4913-b250-0d4452b12406\",\"type\":\"DataRange1d\"}},\"id\":\"ee26e21c-05a0-470a-849c-cd1898231801\",\"subtype\":\"Figure\",\"type\":\"Plot\"},{\"attributes\":{\"plot\":{\"id\":\"ee26e21c-05a0-470a-849c-cd1898231801\",\"subtype\":\"Figure\",\"type\":\"Plot\"},\"ticker\":{\"id\":\"c2b02162-d466-48a1-8e29-a7234c738f9b\",\"type\":\"BasicTicker\"}},\"id\":\"de4739bb-aed6-4415-8197-ab9720eba54d\",\"type\":\"Grid\"},{\"attributes\":{},\"id\":\"5822abdd-0e8c-4420-b123-06d7d8fd2ad7\",\"type\":\"ToolEvents\"},{\"attributes\":{\"plot\":{\"id\":\"ee26e21c-05a0-470a-849c-cd1898231801\",\"subtype\":\"Figure\",\"type\":\"Plot\"}},\"id\":\"244112c8-8f64-4621-91fe-1bb4b7ed1471\",\"type\":\"PreviewSaveTool\"},{\"attributes\":{\"data_source\":{\"id\":\"b976c57d-0de1-483b-9d4c-f305c1ba9ab4\",\"type\":\"ColumnDataSource\"},\"glyph\":{\"id\":\"57cb0975-7844-4e53-bd27-5dbd27e15f5f\",\"type\":\"Circle\"},\"hover_glyph\":null,\"nonselection_glyph\":{\"id\":\"447b5edf-fc49-4d23-99ff-c19f875d673c\",\"type\":\"Circle\"},\"selection_glyph\":null},\"id\":\"ac79f800-2347-4414-905c-13b51fe652ee\",\"type\":\"GlyphRenderer\"},{\"attributes\":{},\"id\":\"70c3b19c-4913-4fbb-8543-ed25ca7baa70\",\"type\":\"BasicTickFormatter\"},{\"attributes\":{\"formatter\":{\"id\":\"0682a92a-31e8-4d41-9938-2c44e8a5c81d\",\"type\":\"BasicTickFormatter\"},\"plot\":{\"id\":\"ee26e21c-05a0-470a-849c-cd1898231801\",\"subtype\":\"Figure\",\"type\":\"Plot\"},\"ticker\":{\"id\":\"9c727298-344f-4a66-9223-2d17c8f807c5\",\"type\":\"BasicTicker\"}},\"id\":\"d6aeceac-eddc-464e-ae1d-14aa3c783b43\",\"type\":\"LinearAxis\"},{\"attributes\":{\"formatter\":{\"id\":\"70c3b19c-4913-4fbb-8543-ed25ca7baa70\",\"type\":\"BasicTickFormatter\"},\"plot\":{\"id\":\"ee26e21c-05a0-470a-849c-cd1898231801\",\"subtype\":\"Figure\",\"type\":\"Plot\"},\"ticker\":{\"id\":\"c2b02162-d466-48a1-8e29-a7234c738f9b\",\"type\":\"BasicTicker\"}},\"id\":\"40b921cb-49a9-49ea-807d-260f9c3e1340\",\"type\":\"LinearAxis\"},{\"attributes\":{\"callback\":null},\"id\":\"62400849-f91d-479d-a609-8bf1d50bf88a\",\"type\":\"DataRange1d\"},{\"attributes\":{},\"id\":\"c2b02162-d466-48a1-8e29-a7234c738f9b\",\"type\":\"BasicTicker\"},{\"attributes\":{\"overlay\":{\"id\":\"da7d2c3d-74f5-404a-b841-0c97cf5e5b36\",\"type\":\"BoxAnnotation\"},\"plot\":{\"id\":\"ee26e21c-05a0-470a-849c-cd1898231801\",\"subtype\":\"Figure\",\"type\":\"Plot\"}},\"id\":\"841e4ffc-4258-4b8d-9ef0-7c413f4f9fb7\",\"type\":\"BoxZoomTool\"},{\"attributes\":{\"callback\":null,\"column_names\":[\"y\",\"x\"],\"data\":{\"x\":[0.7127392310093058,0.3670537373344329,0.2529184128460157,0.6911825796973273,0.7159108233243292,0.9296958661424699,0.578476076809704,0.25450196433445993,0.31439522617108484,0.6064639488972857,0.18534228937695152,0.9201991000322842,0.6060459161326933,0.5221463236974171,0.5370255121850326,0.30075713499065426,0.16359226258861914,0.18980455135340812,0.33465263530990286,0.5445066792665149,0.41723014610569276,0.9688395561680622,0.9828842902660586,0.5526168855901028,0.8100965791259743,0.19967192405635792,0.20044752896079576,0.7486630625622295,0.4603116728302692,0.2517876537705168,0.08808127426132784,0.7561667130891397,0.32322686220795915,0.5481086660287418,0.5588152904536472,0.5798820719543294,0.6032636418778076,0.3915613120469341,0.7367669873376481,0.1391890309610211,0.30228487901962175,0.3636266479615048,0.0517039986138641,0.0888802638137205,0.9075788571744331,0.46520844432971453,0.2842174244245057,0.7542737543079783,0.8881985033360387,0.12052755484208089,0.5099296248685925,0.4207235256436014,0.2624619148823423,0.26887696145792706,0.9743481080078138,0.589543037146931,0.008444509634061403,0.7547513413901601,0.6709774782259464,0.42540742473725845,0.8123585841502499,0.9311979645666425,0.48805534553637653,0.675232195698975,0.3513851053614667,0.5105460552300215,0.01579212515538453,0.12747399871285325,0.3080250389901472,0.554921693970772,0.4824048363087121,0.5491902083990551,0.06857444606997165,0.28159833551047997,0.707433108445417,0.503453361745725,0.3199168960881249,0.12247804552149488,0.007840664109489026,0.2617692231600218,0.6478019567467052,0.6032623842736291,0.7418774994462405,0.44141738846462397,0.7610316402216545,0.529746133237102,0.9461081428127814,0.4563123092455581,0.3405153815659131,0.3244551640669706,0.028319836782457863,0.2834812184813643,0.06498080652378824,0.0567266804855181,0.9112089664091009,0.11952928932389162,0.0721354869349844,0.6462391118466639,0.6074896544998608,0.8365463568775771,0.7346607616302107,0.23836671051197922,0.8975199814359955,0.007656758981106737,0.588188576394801,0.2543447452646822,0.13106772039559222,0.6377495488815715,0.7808033792715039,0.2540813576810923,0.9625138349834554,0.8653684151391814,0.4243453774565472,0.5109073774309651,0.20745370295066723,0.7461493550521335,0.7747327641855561,0.8361659080661373,0.33332080047248813,0.523360534686297,0.18270377350156042,0.330542417687691,0.5505697384370813,0.585294904134545,0.5443002720761424,0.3298364260257842,0.05337630233936508,0.6255383436779688,0.577096645437194,0.3624066178858615,0.14500730479797885,0.3482229115358635,0.6572583831932087,0.6861850308619247,0.483531275681245,0.7460272701855549,0.04410447015618868,0.8868342367184243,0.5928470126878539,0.7119190475850251,0.9456062961364502,0.29245840556102554,0.6021553060574194,0.4263265592412955,0.09638291682714017,0.06556101202931575,0.9172443052927857,0.4295359588989539,0.5235856553448792,0.7732093185428716,0.6137849373165268,0.09872099104263676,0.6089336295832214,0.8142737794942863,0.04254821207242232,0.4199719736609373,0.8788939931385656,0.039097508829159855,0.6900799174506256,0.73085361681401,0.6866782248332628,0.877868039373431,0.9215880585809118,0.11925624680455071,0.08032505797439049,0.9159964607165408,0.051671087647605196,0.6104989970694831,0.727178574625282,0.825504605961127,0.4130428366762169,0.9965453215884287,0.0842268782996185,0.6929542390306199,0.5450836707565849,0.1537488348309214,0.5469056215393224,0.08298051481729696,0.4664602722849205,0.6143338197643672,0.8626496369549628,0.23778679862094587,0.9802825941167,0.24719413426968262,0.8792108204771867,0.4152739903257515,0.21882642389346696,0.04082420209571547,0.292006416780194,0.72343664384712,0.9846778360823695,0.19097752442974614,0.6827306191654564,0.4338922753152631,0.6145095029190579,0.14032488331955262,0.2102635006575474,0.34237006175670537,0.21464609934133916,0.41303485279335794],\"y\":[0.32653008227358826,0.5343570265781741,0.04841470335682563,0.6791859063154664,0.9660341792215128,0.6567890458763765,0.6747749531746033,0.19742013380069634,0.5584669955752828,0.450113957696752,0.1542793986402341,0.7826777635982077,0.7446353665201535,0.5218518569255276,0.18437041709796897,0.6699961417890689,0.6986826973407306,0.47234388075537836,0.29698843532410013,0.5059126943422412,0.8944754779493244,0.9885959064912749,0.49987281509635273,0.47797640993778934,0.8265940284036095,0.7703212649484923,0.8409674957310103,0.853540729482736,0.7528333360467832,0.05871946068257583,0.881399650692627,0.9720712580726578,0.35362486895870227,0.8176298827157107,0.6045863335618944,0.7111556862964326,0.04990735670299984,0.4057792026311128,0.9673580723928655,0.49387263016337124,0.4507946339787372,0.2436817485974202,0.2333845851886729,0.7827140916519729,0.9815339836682672,0.696818920881102,0.3993441797428523,0.15152969143236994,0.6499149102553492,0.7783472016503294,0.9857642877003767,0.2525368261777673,0.44448122762010467,0.901373270471492,0.1248252966140756,0.1457308566513824,0.49857432187032547,0.43661922148488186,0.2856751224534768,0.9986121329077183,0.3718316284245302,0.5341324610674794,0.12244578188483923,0.9137220303128378,0.9646694975618828,0.8431833962625163,0.7240468107559145,0.524329212553807,0.8209829594411229,0.6064630787276115,0.08279759561713207,0.8625701531836848,0.48832959299796186,0.27224323799721817,0.10307551541962612,0.8975452320116196,0.8327370599567573,0.888561683424719,0.9821852504255786,0.8842264352469911,0.7828220622463719,0.685243287327058,0.22431968058106977,0.532218437179547,0.12893554150426778,0.5132479099058689,0.33430038115363914,0.16731739486643693,0.19169862164440044,0.633656550577415,0.18434475267670614,0.36867353095330335,0.5428510985478647,0.8141416068782404,0.5492251893375498,0.13615057381402185,0.5478750857509965,0.15413073954597445,0.48896025650861374,0.2050071347870135,0.26638353396966485,0.22618464567130148,0.036268137774303266,0.09182350521429294,0.0019522258234256906,0.2703070164261454,0.5069847294210326,0.2421996924718084,0.36485034349122747,0.9612887123229924,0.5860634304450327,0.5921136487946363,0.15092532494873723,0.8687358133814448,0.23767057063881292,0.175399044155224,0.9181947421384258,0.3830752698936356,0.0039578411055565255,0.6343078862139067,0.5640988810143909,0.4361142882972914,0.6046385979211085,0.05367688994072706,0.23578780863523818,0.9901759178822466,0.20738578649461625,0.9425719657110656,0.5697815928830886,0.41495309177805717,0.3994731067617837,0.0051173481444847235,0.36376280478724865,0.016150820223538642,0.30097132001944693,0.9052285042380286,0.8647642906948814,0.8843181391956945,0.7220978025626434,0.5634842469055734,0.12605440086102015,0.5491267624873749,0.05895849341898707,0.8034176432863525,0.906552192502494,0.9692896453096252,0.7947595150539672,0.735934762478034,0.49834778266092516,0.22026400978494876,0.09225180012302647,0.40135026045958344,0.7746836820052133,0.23416829603740963,0.715343785504571,0.8021362863058467,0.7775797817018701,0.047444891735041406,0.01658854372861074,0.39220152945089704,0.10258731672678867,0.8383172220158326,0.21298787011040077,0.9064713100896472,0.3518983175384591,0.888307338336623,0.45341087298620086,0.592064837424656,0.7557892530900671,0.21494122756256007,0.5075732008766344,0.23585426117663966,0.7286082069228064,0.0885392262380108,0.2124561090515653,0.6649320218947197,0.21358826456281044,0.3284623442494343,0.3724811750578876,0.8953634772001126,0.39349928786810817,0.34215768662645796,0.6307861675586541,0.1660292748027251,0.9951305084529876,0.45682277222797907,0.5716046951441544,0.8456082912909264,0.10907696058286764,0.5860628503142,0.8553229172184188,0.44227148842649655,0.4884088812659041,0.6598029202364598,0.7000157252148098,0.7231054100620191,0.6549641873086125,0.9648101131913942,0.40458396100638416,0.7894132031332294]}},\"id\":\"b976c57d-0de1-483b-9d4c-f305c1ba9ab4\",\"type\":\"ColumnDataSource\"},{\"attributes\":{\"callback\":null},\"id\":\"ed111fa1-b083-4913-b250-0d4452b12406\",\"type\":\"DataRange1d\"}],\"root_ids\":[\"ee26e21c-05a0-470a-849c-cd1898231801\"]},\"title\":\"Bokeh Application\",\"version\":\"0.11.1\"}};\n",
       "            var render_items = [{\"docid\":\"804f0915-e686-4420-825b-8b4feecf69bf\",\"elementid\":\"400aea7d-987a-452f-9ae8-4915fdcc520b\",\"modelid\":\"ee26e21c-05a0-470a-849c-cd1898231801\",\"notebook_comms_target\":\"7797c16e-a176-4a06-b6cd-de766de11383\"}];\n",
       "            \n",
       "            Bokeh.embed.embed_items(docs_json, render_items);\n",
       "        });\n",
       "      },\n",
       "      function(Bokeh) {\n",
       "      }\n",
       "    ];\n",
       "  \n",
       "    function run_inline_js() {\n",
       "      for (var i = 0; i < inline_js.length; i++) {\n",
       "        inline_js[i](window.Bokeh);\n",
       "      }\n",
       "    }\n",
       "  \n",
       "    if (window._bokeh_is_loading === 0) {\n",
       "      console.log(\"Bokeh: BokehJS loaded, going straight to plotting\");\n",
       "      run_inline_js();\n",
       "    } else {\n",
       "      load_libs(js_urls, function() {\n",
       "        console.log(\"Bokeh: BokehJS plotting callback run at\", now());\n",
       "        run_inline_js();\n",
       "      });\n",
       "    }\n",
       "  }(this));\n",
       "</script>"
      ]
     },
     "metadata": {},
     "output_type": "display_data"
    },
    {
     "data": {
      "text/html": [
       "<p><code>&lt;Bokeh Notebook handle for <strong>In[28]</strong>&gt;</code></p>"
      ],
      "text/plain": [
       "<bokeh.io._CommsHandle at 0x7f2aa0dd0a58>"
      ]
     },
     "execution_count": 28,
     "metadata": {},
     "output_type": "execute_result"
    }
   ],
   "source": [
    "p = figure()\n",
    "p.circle(x=position[:, 0], y=position[:, 1])\n",
    "show(p)"
   ]
  },
  {
   "cell_type": "markdown",
   "metadata": {},
   "source": [
    "numpy concatenate"
   ]
  },
  {
   "cell_type": "code",
   "execution_count": 29,
   "metadata": {
    "collapsed": true
   },
   "outputs": [],
   "source": [
    "l = []"
   ]
  },
  {
   "cell_type": "code",
   "execution_count": 30,
   "metadata": {
    "collapsed": false
   },
   "outputs": [],
   "source": [
    "arr = np.random.uniform(size=200).reshape((2, 100))"
   ]
  },
  {
   "cell_type": "code",
   "execution_count": 31,
   "metadata": {
    "collapsed": false
   },
   "outputs": [],
   "source": [
    "for _ in range(1000):\n",
    "    l.append(arr)"
   ]
  },
  {
   "cell_type": "code",
   "execution_count": 32,
   "metadata": {
    "collapsed": false
   },
   "outputs": [],
   "source": [
    "a = np.array(l)"
   ]
  },
  {
   "cell_type": "code",
   "execution_count": 33,
   "metadata": {
    "collapsed": false
   },
   "outputs": [
    {
     "data": {
      "text/latex": [
       "$$\\left ( 1000, \\quad 2, \\quad 100\\right )$$"
      ],
      "text/plain": [
       "(1000, 2, 100)"
      ]
     },
     "execution_count": 33,
     "metadata": {},
     "output_type": "execute_result"
    }
   ],
   "source": [
    "a.shape"
   ]
  },
  {
   "cell_type": "code",
   "execution_count": 34,
   "metadata": {
    "collapsed": false
   },
   "outputs": [
    {
     "name": "stdout",
     "output_type": "stream",
     "text": [
      "field.ipynb        parameters.ipynb  scratch.ipynb       system.ipynb\r\n",
      "game_theory.ipynb  save.ipynb        social_force.ipynb  visualization.ipynb\r\n"
     ]
    }
   ],
   "source": [
    "ls"
   ]
  },
  {
   "cell_type": "code",
   "execution_count": 67,
   "metadata": {
    "collapsed": true
   },
   "outputs": [],
   "source": [
    "import time"
   ]
  },
  {
   "cell_type": "code",
   "execution_count": 70,
   "metadata": {
    "collapsed": true
   },
   "outputs": [],
   "source": [
    "from timeit import default_timer as timer\n",
    "\n",
    "class Intervals:\n",
    "    def __init__(self, interval):\n",
    "        self.interval = interval\n",
    "        if self.interval < 0:\n",
    "            raise ValueError(\"Interval should be > 0\")\n",
    "        self.prev = timer()\n",
    "\n",
    "    @property\n",
    "    def name(self):\n",
    "        return self.__class__.__name__\n",
    "\n",
    "    def __call__(self, *args, **kwargs):\n",
    "        if self.interval == 0:\n",
    "            return True\n",
    "        else:\n",
    "            current = timer()\n",
    "            diff = current - self.prev\n",
    "            ret = diff >= self.interval\n",
    "            if ret:\n",
    "                self.prev = current\n",
    "            return ret\n",
    "\n",
    "    def __str__(self):\n",
    "        return \"{name}({interval})\".format(name=self.name,\n",
    "                                           interval=self.interval)"
   ]
  },
  {
   "cell_type": "code",
   "execution_count": 94,
   "metadata": {
    "collapsed": false
   },
   "outputs": [],
   "source": [
    "def foo(is_save):\n",
    "    end = 1\n",
    "    start = end-1\n",
    "    buffer = 0\n",
    "    while True:\n",
    "        buffer += 1\n",
    "        if is_save():\n",
    "            print(start, end, buffer)\n",
    "            buffer = 0\n",
    "            start = end\n",
    "        end += 1\n",
    "        yield"
   ]
  },
  {
   "cell_type": "code",
   "execution_count": 95,
   "metadata": {
    "collapsed": true
   },
   "outputs": [],
   "source": [
    "gen = foo(Intervals(2.0))"
   ]
  },
  {
   "cell_type": "code",
   "execution_count": 96,
   "metadata": {
    "collapsed": false
   },
   "outputs": [
    {
     "name": "stdout",
     "output_type": "stream",
     "text": [
      "0 10 10\n",
      "10 20 10\n",
      "20 30 10\n",
      "30 40 10\n",
      "40 50 10\n",
      "50 60 10\n",
      "60 70 10\n",
      "70 80 10\n",
      "80 90 10\n",
      "90 100 10\n"
     ]
    }
   ],
   "source": [
    "for _ in range(100):\n",
    "    next(gen)\n",
    "    time.sleep(0.20)"
   ]
  },
  {
   "cell_type": "code",
   "execution_count": 98,
   "metadata": {
    "collapsed": false
   },
   "outputs": [],
   "source": [
    "def f():\n",
    "    pass"
   ]
  },
  {
   "cell_type": "code",
   "execution_count": 103,
   "metadata": {
    "collapsed": false
   },
   "outputs": [
    {
     "data": {
      "text/plain": [
       "True"
      ]
     },
     "execution_count": 103,
     "metadata": {},
     "output_type": "execute_result"
    }
   ],
   "source": [
    "callable(f)"
   ]
  },
  {
   "cell_type": "code",
   "execution_count": null,
   "metadata": {
    "collapsed": true
   },
   "outputs": [],
   "source": []
  }
 ],
 "metadata": {
  "kernelspec": {
   "display_name": "Python 3.4",
   "language": "python",
   "name": "python34"
  },
  "language_info": {
   "codemirror_mode": {
    "name": "ipython",
    "version": 3
   },
   "file_extension": ".py",
   "mimetype": "text/x-python",
   "name": "python",
   "nbconvert_exporter": "python",
   "pygments_lexer": "ipython3",
   "version": "3.4.4"
  }
 },
 "nbformat": 4,
 "nbformat_minor": 0
}
