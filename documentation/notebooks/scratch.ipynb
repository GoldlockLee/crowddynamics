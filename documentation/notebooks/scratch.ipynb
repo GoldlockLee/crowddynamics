{
 "cells": [
  {
   "cell_type": "markdown",
   "metadata": {},
   "source": [
    "**Library Imports**"
   ]
  },
  {
   "cell_type": "code",
   "execution_count": 1,
   "metadata": {
    "collapsed": true
   },
   "outputs": [],
   "source": [
    "from __future__ import absolute_import\n",
    "from __future__ import division\n",
    "from __future__ import print_function\n",
    "from __future__ import unicode_literals"
   ]
  },
  {
   "cell_type": "code",
   "execution_count": 2,
   "metadata": {
    "collapsed": false
   },
   "outputs": [
    {
     "name": "stdout",
     "output_type": "stream",
     "text": [
      "3.4.4 |Anaconda 2.4.0 (64-bit)| (default, Jan 11 2016, 13:54:01) \n",
      "[GCC 4.4.7 20120313 (Red Hat 4.4.7-1)]\n"
     ]
    }
   ],
   "source": [
    "import os\n",
    "import sys\n",
    "print(sys.version)   # Python version information"
   ]
  },
  {
   "cell_type": "code",
   "execution_count": 3,
   "metadata": {
    "collapsed": true
   },
   "outputs": [],
   "source": [
    "from sympy import *  # Symbolic mathematics\n",
    "import sympy"
   ]
  },
  {
   "cell_type": "code",
   "execution_count": 4,
   "metadata": {
    "collapsed": true
   },
   "outputs": [],
   "source": [
    "import numpy as np   # N-Dimensional arrays and numerical routines\n",
    "import pandas as pd  # Data structures and data analysis tools\n",
    "import scipy         # Numerical routines"
   ]
  },
  {
   "cell_type": "code",
   "execution_count": 5,
   "metadata": {
    "collapsed": true
   },
   "outputs": [],
   "source": [
    "#import numba        # Decorators for speeding up python functions"
   ]
  },
  {
   "cell_type": "code",
   "execution_count": 6,
   "metadata": {
    "collapsed": true
   },
   "outputs": [],
   "source": [
    "#from astropy import constants  # Physical Constants\n",
    "#from astropy import units      # Physical Units"
   ]
  },
  {
   "cell_type": "code",
   "execution_count": 7,
   "metadata": {
    "collapsed": true
   },
   "outputs": [],
   "source": [
    "import matplotlib as mpl  # Standard plotting library\n",
    "import matplotlib.pyplot as plt \n",
    "import seaborn as sns     # Statistical plotting and improved plot style\n",
    "#import bokeh             # Interactive visualization library"
   ]
  },
  {
   "cell_type": "code",
   "execution_count": 8,
   "metadata": {
    "collapsed": true
   },
   "outputs": [],
   "source": [
    "from sympy.utilities.autowrap import ufuncify  # Creates numerical methods \n",
    "                                               # from symbolic expressions"
   ]
  },
  {
   "cell_type": "code",
   "execution_count": 9,
   "metadata": {
    "collapsed": true
   },
   "outputs": [],
   "source": [
    "from sympy import abc       # Symbolic variables\n",
    "from sympy import pi as Pi  # Symbolic pi\n",
    "from sympy import I as I    # Symbolic imaginary unit"
   ]
  },
  {
   "cell_type": "markdown",
   "metadata": {},
   "source": [
    "**Display**"
   ]
  },
  {
   "cell_type": "code",
   "execution_count": 10,
   "metadata": {
    "collapsed": true
   },
   "outputs": [],
   "source": [
    "from IPython.display import display"
   ]
  },
  {
   "cell_type": "code",
   "execution_count": 11,
   "metadata": {
    "collapsed": false
   },
   "outputs": [],
   "source": [
    "from IPython.display import set_matplotlib_formats  \n",
    "set_matplotlib_formats('pdf', 'png')"
   ]
  },
  {
   "cell_type": "code",
   "execution_count": 12,
   "metadata": {
    "collapsed": true
   },
   "outputs": [],
   "source": [
    "import ipywidgets"
   ]
  },
  {
   "cell_type": "markdown",
   "metadata": {},
   "source": [
    "**Settings & Options**"
   ]
  },
  {
   "cell_type": "code",
   "execution_count": 13,
   "metadata": {
    "collapsed": false
   },
   "outputs": [],
   "source": [
    "np.set_printoptions(precision=5, threshold=1000, edgeitems=3, linewidth=75, \n",
    "                    suppress=False, nanstr=None, infstr=None, \n",
    "                    formatter=None)"
   ]
  },
  {
   "cell_type": "code",
   "execution_count": 14,
   "metadata": {
    "collapsed": false
   },
   "outputs": [],
   "source": [
    "pandas_options = {'display.chop_threshold': None,\n",
    "                  'display.precision': 4,\n",
    "                  'display.max_columns': 8,\n",
    "                  'display.max_rows': 8,\n",
    "                  'display.max_info_columns': 8,\n",
    "                  'display.max_info_rows': 8}\n",
    "for key, val in pandas_options.items():\n",
    "    pd.set_option(key, val)"
   ]
  },
  {
   "cell_type": "code",
   "execution_count": 15,
   "metadata": {
    "collapsed": true
   },
   "outputs": [],
   "source": [
    "sympy.interactive.printing.init_printing(use_latex='mathjax')"
   ]
  },
  {
   "cell_type": "code",
   "execution_count": 16,
   "metadata": {
    "collapsed": false
   },
   "outputs": [],
   "source": [
    "# os.system('ipython nbconvert --to pdf {filename}.ipynb')"
   ]
  },
  {
   "cell_type": "markdown",
   "metadata": {},
   "source": [
    "**Resources**"
   ]
  },
  {
   "cell_type": "markdown",
   "metadata": {},
   "source": [
    "- [Simulating dynamical features of escape panic](http://www.nature.com/nature/journal/v407/n6803/full/407487a0.html)\n",
    "\n",
    "- [Patient and impatient pedestrians in a spatial game for egress congestion](http://journals.aps.org/pre/abstract/10.1103/PhysRevE.87.012802)\n",
    "\n",
    "- [Power Law](http://motion.cs.umn.edu/PowerLaw/)\n",
    "\n",
    "- [Universal Power Law Governing Pedestrian Interactions](http://journals.aps.org/prl/abstract/10.1103/PhysRevLett.113.238701)\n"
   ]
  },
  {
   "cell_type": "markdown",
   "metadata": {
    "collapsed": true
   },
   "source": [
    "# Scratch"
   ]
  },
  {
   "cell_type": "code",
   "execution_count": 17,
   "metadata": {
    "collapsed": true
   },
   "outputs": [],
   "source": [
    "%matplotlib inline"
   ]
  },
  {
   "cell_type": "code",
   "execution_count": 18,
   "metadata": {
    "collapsed": false
   },
   "outputs": [
    {
     "data": {
      "text/plain": [
       "array([ 0.22471,  0.22082,  0.22414,  0.21839,  0.21898,  0.23035,\n",
       "        0.20839,  0.20846,  0.20797,  0.20962,  0.23656,  0.21859,\n",
       "        0.22089,  0.21557,  0.21164,  0.20133,  0.2305 ,  0.24308,\n",
       "        0.21629,  0.21611,  0.22392,  0.23452,  0.22384,  0.23553,\n",
       "        0.21581,  0.2161 ,  0.2297 ,  0.21585,  0.22472,  0.22452,\n",
       "        0.23332,  0.22082,  0.22222,  0.21865,  0.19396,  0.22737,\n",
       "        0.21634,  0.22844,  0.24129,  0.22992,  0.22149,  0.22489,\n",
       "        0.20251,  0.22678,  0.21941,  0.21196,  0.22073,  0.20952,\n",
       "        0.20771,  0.23673,  0.21934,  0.21913,  0.23898,  0.21228,\n",
       "        0.22048,  0.22053,  0.21935,  0.21931,  0.23288,  0.21206,\n",
       "        0.20556,  0.2157 ,  0.20799,  0.21835,  0.20949,  0.23409,\n",
       "        0.22832,  0.23306,  0.21906,  0.2047 ,  0.22721,  0.22681,\n",
       "        0.23684,  0.21966,  0.22794,  0.21677,  0.20495,  0.2169 ,\n",
       "        0.21484,  0.21605,  0.21834,  0.21794,  0.19872,  0.20949,\n",
       "        0.22456,  0.22908,  0.23394,  0.22522,  0.22392,  0.21042,\n",
       "        0.21073,  0.22556,  0.22862,  0.24069,  0.2197 ,  0.21851,\n",
       "        0.22208,  0.22414,  0.21038,  0.20506])"
      ]
     },
     "execution_count": 18,
     "metadata": {},
     "output_type": "execute_result"
    }
   ],
   "source": [
    "arr = np.random.normal(loc=0.22, scale=0.01, size=100)\n",
    "arr"
   ]
  },
  {
   "cell_type": "code",
   "execution_count": 19,
   "metadata": {
    "collapsed": false
   },
   "outputs": [
    {
     "data": {
      "text/plain": [
       "array([ 79.50605,  78.3026 ,  57.53277,  54.19153,  67.59121,  70.03217,\n",
       "        75.53549,  64.21562,  72.76333,  77.19523,  75.35471,  65.8171 ,\n",
       "        76.93913,  69.5174 ,  72.10338,  71.7824 ,  69.97936,  56.97412,\n",
       "        63.38438,  76.29026,  73.53078,  64.58464,  75.54118,  92.61201,\n",
       "        71.79567,  69.13522,  57.41196,  73.36111,  56.39334,  60.70727,\n",
       "        59.14104,  76.27039,  85.14511,  79.98222,  75.35873,  73.9558 ,\n",
       "        61.09652,  72.34831,  69.16   ,  67.05005,  76.86479,  63.80562,\n",
       "        67.17303,  67.68799,  64.22511,  67.67359,  62.59152,  59.98472,\n",
       "        71.2421 ,  66.97611,  64.00643,  87.00183,  76.59533,  72.01928,\n",
       "        62.39002,  69.34417,  46.77963,  58.48632,  86.83817,  75.26042,\n",
       "        59.30484,  82.74003,  70.69315,  51.12997,  60.54636,  57.59507,\n",
       "        65.79744,  77.20989,  80.05604,  65.86479,  86.43546,  61.47966,\n",
       "        66.44447,  91.14588,  64.84438,  68.90872,  67.29027,  73.74362,\n",
       "        60.43845,  69.97977,  58.73612,  80.16848,  48.66267,  80.94907,\n",
       "        59.28747,  73.19775,  70.64386,  92.68547,  83.8963 ,  86.31658,\n",
       "        76.2293 ,  72.28073,  69.14762,  64.18075,  75.35101,  67.95335,\n",
       "        56.76988,  66.40279,  49.37085,  61.94287])"
      ]
     },
     "execution_count": 19,
     "metadata": {},
     "output_type": "execute_result"
    }
   ],
   "source": [
    "arr = np.random.normal(loc=70, scale=10,size=100)\n",
    "arr"
   ]
  },
  {
   "cell_type": "code",
   "execution_count": 20,
   "metadata": {
    "collapsed": true
   },
   "outputs": [],
   "source": [
    "arr -= arr.min()"
   ]
  },
  {
   "cell_type": "code",
   "execution_count": 21,
   "metadata": {
    "collapsed": true
   },
   "outputs": [],
   "source": [
    "arr /= arr.max()"
   ]
  },
  {
   "cell_type": "code",
   "execution_count": 22,
   "metadata": {
    "collapsed": false
   },
   "outputs": [
    {
     "data": {
      "image/png": "[encoded data removed]",
      "text/plain": [
       "<matplotlib.figure.Figure at 0x7fbc99f66208>"
      ]
     },
     "metadata": {},
     "output_type": "display_data"
    }
   ],
   "source": [
    "plt.hist(arr, bins=10);"
   ]
  },
  {
   "cell_type": "code",
   "execution_count": 23,
   "metadata": {
    "collapsed": false
   },
   "outputs": [],
   "source": [
    "arr.sort()"
   ]
  },
  {
   "cell_type": "code",
   "execution_count": 24,
   "metadata": {
    "collapsed": false
   },
   "outputs": [
    {
     "data": {
      "image/png": "[encoded data removed]",
      "text/plain": [
       "<matplotlib.figure.Figure at 0x7fbc97315320>"
      ]
     },
     "metadata": {},
     "output_type": "display_data"
    }
   ],
   "source": [
    "plt.plot(np.arange(arr.size), arr);"
   ]
  },
  {
   "cell_type": "markdown",
   "metadata": {},
   "source": [
    "# Numba"
   ]
  },
  {
   "cell_type": "code",
   "execution_count": 25,
   "metadata": {
    "collapsed": true
   },
   "outputs": [],
   "source": [
    "from bokeh.plotting import *"
   ]
  },
  {
   "cell_type": "code",
   "execution_count": 26,
   "metadata": {
    "collapsed": false
   },
   "outputs": [
    {
     "data": {
      "text/html": [
       "\n",
       "    <div class=\"bk-banner\">\n",
       "        <a href=\"http://bokeh.pydata.org\" target=\"_blank\" class=\"bk-logo bk-logo-small bk-logo-notebook\"></a>\n",
       "        <span id=\"71ad63ef-028a-4b1c-850a-e7c07c81690a\">Loading BokehJS ...</span>\n",
       "    </div>"
      ]
     },
     "metadata": {},
     "output_type": "display_data"
    },
    {
     "data": {
      "application/javascript": [
       "\n",
       "(function(global) {\n",
       "  function now() {\n",
       "    return new Date();\n",
       "  }\n",
       "\n",
       "  if (typeof (window._bokeh_onload_callbacks) === \"undefined\") {\n",
       "    window._bokeh_onload_callbacks = [];\n",
       "  }\n",
       "\n",
       "  function run_callbacks() {\n",
       "    window._bokeh_onload_callbacks.forEach(function(callback) { callback() });\n",
       "    delete window._bokeh_onload_callbacks\n",
       "    console.info(\"Bokeh: all callbacks have finished\");\n",
       "  }\n",
       "\n",
       "  function load_libs(js_urls, callback) {\n",
       "    window._bokeh_onload_callbacks.push(callback);\n",
       "    if (window._bokeh_is_loading > 0) {\n",
       "      console.log(\"Bokeh: BokehJS is being loaded, scheduling callback at\", now());\n",
       "      return null;\n",
       "    }\n",
       "    if (js_urls == null || js_urls.length === 0) {\n",
       "      run_callbacks();\n",
       "      return null;\n",
       "    }\n",
       "    console.log(\"Bokeh: BokehJS not loaded, scheduling load and callback at\", now());\n",
       "    window._bokeh_is_loading = js_urls.length;\n",
       "    for (var i = 0; i < js_urls.length; i++) {\n",
       "      var url = js_urls[i];\n",
       "      var s = document.createElement('script');\n",
       "      s.src = url;\n",
       "      s.async = false;\n",
       "      s.onreadystatechange = s.onload = function() {\n",
       "        window._bokeh_is_loading--;\n",
       "        if (window._bokeh_is_loading === 0) {\n",
       "          console.log(\"Bokeh: all BokehJS libraries loaded\");\n",
       "          run_callbacks()\n",
       "        }\n",
       "      };\n",
       "      s.onerror = function() {\n",
       "        console.warn(\"failed to load library \" + url);\n",
       "      };\n",
       "      console.log(\"Bokeh: injecting script tag for BokehJS library: \", url);\n",
       "      document.getElementsByTagName(\"head\")[0].appendChild(s);\n",
       "    }\n",
       "  };\n",
       "\n",
       "  var js_urls = ['https://cdn.pydata.org/bokeh/release/bokeh-0.11.1.min.js', 'https://cdn.pydata.org/bokeh/release/bokeh-widgets-0.11.1.min.js', 'https://cdn.pydata.org/bokeh/release/bokeh-compiler-0.11.1.min.js'];\n",
       "\n",
       "  var inline_js = [\n",
       "    function(Bokeh) {\n",
       "      Bokeh.set_log_level(\"info\");\n",
       "    },\n",
       "    \n",
       "    function(Bokeh) {\n",
       "      Bokeh.$(\"#71ad63ef-028a-4b1c-850a-e7c07c81690a\").text(\"BokehJS successfully loaded\");\n",
       "    },\n",
       "    function(Bokeh) {\n",
       "      console.log(\"Bokeh: injecting CSS: https://cdn.pydata.org/bokeh/release/bokeh-0.11.1.min.css\");\n",
       "      Bokeh.embed.inject_css(\"https://cdn.pydata.org/bokeh/release/bokeh-0.11.1.min.css\");\n",
       "      console.log(\"Bokeh: injecting CSS: https://cdn.pydata.org/bokeh/release/bokeh-widgets-0.11.1.min.css\");\n",
       "      Bokeh.embed.inject_css(\"https://cdn.pydata.org/bokeh/release/bokeh-widgets-0.11.1.min.css\");\n",
       "    }\n",
       "  ];\n",
       "\n",
       "  function run_inline_js() {\n",
       "    for (var i = 0; i < inline_js.length; i++) {\n",
       "      inline_js[i](window.Bokeh);\n",
       "    }\n",
       "  }\n",
       "\n",
       "  if (window._bokeh_is_loading === 0) {\n",
       "    console.log(\"Bokeh: BokehJS loaded, going straight to plotting\");\n",
       "    run_inline_js();\n",
       "  } else {\n",
       "    load_libs(js_urls, function() {\n",
       "      console.log(\"Bokeh: BokehJS plotting callback run at\", now());\n",
       "      run_inline_js();\n",
       "    });\n",
       "  }\n",
       "}(this));"
      ]
     },
     "metadata": {},
     "output_type": "display_data"
    }
   ],
   "source": [
    "output_notebook()"
   ]
  },
  {
   "cell_type": "code",
   "execution_count": 27,
   "metadata": {
    "collapsed": true
   },
   "outputs": [],
   "source": [
    "import numba"
   ]
  },
  {
   "cell_type": "code",
   "execution_count": 28,
   "metadata": {
    "collapsed": false
   },
   "outputs": [],
   "source": [
    "position = np.random.uniform(size=400)\n",
    "position = position.reshape((position.size // 2, 2))"
   ]
  },
  {
   "cell_type": "code",
   "execution_count": 29,
   "metadata": {
    "collapsed": false
   },
   "outputs": [
    {
     "data": {
      "text/html": [
       "\n",
       "\n",
       "    <div class=\"plotdiv\" id=\"fbcba41d-2106-4e49-8278-8225590fb9a4\"></div>\n",
       "<script type=\"text/javascript\">\n",
       "  \n",
       "  (function(global) {\n",
       "    function now() {\n",
       "      return new Date();\n",
       "    }\n",
       "  \n",
       "    if (typeof (window._bokeh_onload_callbacks) === \"undefined\") {\n",
       "      window._bokeh_onload_callbacks = [];\n",
       "    }\n",
       "  \n",
       "    function run_callbacks() {\n",
       "      window._bokeh_onload_callbacks.forEach(function(callback) { callback() });\n",
       "      delete window._bokeh_onload_callbacks\n",
       "      console.info(\"Bokeh: all callbacks have finished\");\n",
       "    }\n",
       "  \n",
       "    function load_libs(js_urls, callback) {\n",
       "      window._bokeh_onload_callbacks.push(callback);\n",
       "      if (window._bokeh_is_loading > 0) {\n",
       "        console.log(\"Bokeh: BokehJS is being loaded, scheduling callback at\", now());\n",
       "        return null;\n",
       "      }\n",
       "      if (js_urls == null || js_urls.length === 0) {\n",
       "        run_callbacks();\n",
       "        return null;\n",
       "      }\n",
       "      console.log(\"Bokeh: BokehJS not loaded, scheduling load and callback at\", now());\n",
       "      window._bokeh_is_loading = js_urls.length;\n",
       "      for (var i = 0; i < js_urls.length; i++) {\n",
       "        var url = js_urls[i];\n",
       "        var s = document.createElement('script');\n",
       "        s.src = url;\n",
       "        s.async = false;\n",
       "        s.onreadystatechange = s.onload = function() {\n",
       "          window._bokeh_is_loading--;\n",
       "          if (window._bokeh_is_loading === 0) {\n",
       "            console.log(\"Bokeh: all BokehJS libraries loaded\");\n",
       "            run_callbacks()\n",
       "          }\n",
       "        };\n",
       "        s.onerror = function() {\n",
       "          console.warn(\"failed to load library \" + url);\n",
       "        };\n",
       "        console.log(\"Bokeh: injecting script tag for BokehJS library: \", url);\n",
       "        document.getElementsByTagName(\"head\")[0].appendChild(s);\n",
       "      }\n",
       "    };var element = document.getElementById(\"fbcba41d-2106-4e49-8278-8225590fb9a4\");\n",
       "    if (element == null) {\n",
       "      console.log(\"Bokeh: ERROR: autoload.js configured with elementid 'fbcba41d-2106-4e49-8278-8225590fb9a4' but no matching script tag was found. \")\n",
       "      return false;\n",
       "    }\n",
       "  \n",
       "    var js_urls = [];\n",
       "  \n",
       "    var inline_js = [\n",
       "      function(Bokeh) {\n",
       "        Bokeh.$(function() {\n",
       "            var docs_json = {\"71b4927b-536c-48fb-b2ca-aaa57cd9e35a\":{\"roots\":{\"references\":[{\"attributes\":{},\"id\":\"e4d72a0a-e9b1-4f17-8793-19d98fb2a5aa\",\"type\":\"ToolEvents\"},{\"attributes\":{},\"id\":\"2697d519-d8e5-4626-8c8f-6ffe82070752\",\"type\":\"BasicTicker\"},{\"attributes\":{\"dimension\":1,\"plot\":{\"id\":\"39b6f78a-0bf8-46fc-a4aa-dd8e46beb2d3\",\"subtype\":\"Figure\",\"type\":\"Plot\"},\"ticker\":{\"id\":\"2697d519-d8e5-4626-8c8f-6ffe82070752\",\"type\":\"BasicTicker\"}},\"id\":\"4bce0e14-ef8f-48c6-8306-1d03c3a9e346\",\"type\":\"Grid\"},{\"attributes\":{},\"id\":\"20f189c6-361e-4a88-bdfd-412fd72f32ab\",\"type\":\"BasicTicker\"},{\"attributes\":{\"plot\":{\"id\":\"39b6f78a-0bf8-46fc-a4aa-dd8e46beb2d3\",\"subtype\":\"Figure\",\"type\":\"Plot\"}},\"id\":\"222ac5d7-8a1c-4309-a7a7-41b685662d3a\",\"type\":\"WheelZoomTool\"},{\"attributes\":{\"bottom_units\":\"screen\",\"fill_alpha\":{\"value\":0.5},\"fill_color\":{\"value\":\"lightgrey\"},\"left_units\":\"screen\",\"level\":\"overlay\",\"line_alpha\":{\"value\":1.0},\"line_color\":{\"value\":\"black\"},\"line_dash\":[4,4],\"line_width\":{\"value\":2},\"plot\":null,\"render_mode\":\"css\",\"right_units\":\"screen\",\"top_units\":\"screen\"},\"id\":\"276d1a20-1a17-4c33-9f99-08d9fe0a4566\",\"type\":\"BoxAnnotation\"},{\"attributes\":{},\"id\":\"ac7c83e4-9ca2-41b3-b6b4-3b3216347aaf\",\"type\":\"BasicTickFormatter\"},{\"attributes\":{\"overlay\":{\"id\":\"276d1a20-1a17-4c33-9f99-08d9fe0a4566\",\"type\":\"BoxAnnotation\"},\"plot\":{\"id\":\"39b6f78a-0bf8-46fc-a4aa-dd8e46beb2d3\",\"subtype\":\"Figure\",\"type\":\"Plot\"}},\"id\":\"ab546c4e-b66d-4074-9df9-83225dce8292\",\"type\":\"BoxZoomTool\"},{\"attributes\":{},\"id\":\"df1ae74a-6eb7-4ba9-8365-2d7df49fd53f\",\"type\":\"BasicTickFormatter\"},{\"attributes\":{\"below\":[{\"id\":\"a3057d5d-b3ea-4fd9-9306-2b2060ed6eb5\",\"type\":\"LinearAxis\"}],\"left\":[{\"id\":\"17ccc724-e65e-4ea6-9140-a1691647ac9d\",\"type\":\"LinearAxis\"}],\"renderers\":[{\"id\":\"a3057d5d-b3ea-4fd9-9306-2b2060ed6eb5\",\"type\":\"LinearAxis\"},{\"id\":\"52edda9e-f521-42e3-a09b-8a269067e065\",\"type\":\"Grid\"},{\"id\":\"17ccc724-e65e-4ea6-9140-a1691647ac9d\",\"type\":\"LinearAxis\"},{\"id\":\"4bce0e14-ef8f-48c6-8306-1d03c3a9e346\",\"type\":\"Grid\"},{\"id\":\"276d1a20-1a17-4c33-9f99-08d9fe0a4566\",\"type\":\"BoxAnnotation\"},{\"id\":\"1b61e82a-1988-4f9a-886d-a14dc11f28d4\",\"type\":\"GlyphRenderer\"}],\"tool_events\":{\"id\":\"e4d72a0a-e9b1-4f17-8793-19d98fb2a5aa\",\"type\":\"ToolEvents\"},\"tools\":[{\"id\":\"678a5599-275b-4656-8700-c9462832316d\",\"type\":\"PanTool\"},{\"id\":\"222ac5d7-8a1c-4309-a7a7-41b685662d3a\",\"type\":\"WheelZoomTool\"},{\"id\":\"ab546c4e-b66d-4074-9df9-83225dce8292\",\"type\":\"BoxZoomTool\"},{\"id\":\"47053ff3-3a14-4fcb-915e-44ab80dcdbda\",\"type\":\"PreviewSaveTool\"},{\"id\":\"6e274aee-61ac-40bd-8550-eebcd8851f59\",\"type\":\"ResizeTool\"},{\"id\":\"fab21155-e729-4b42-8b96-f00fb04b25f7\",\"type\":\"ResetTool\"},{\"id\":\"eb7b8439-d6a8-41cd-9a42-b15293e994e9\",\"type\":\"HelpTool\"}],\"x_range\":{\"id\":\"94bf1e03-8d3e-47dd-8bc2-fd8ef594676a\",\"type\":\"DataRange1d\"},\"y_range\":{\"id\":\"670c1ac1-aaa9-4d7b-8ffd-bd0f1b003714\",\"type\":\"DataRange1d\"}},\"id\":\"39b6f78a-0bf8-46fc-a4aa-dd8e46beb2d3\",\"subtype\":\"Figure\",\"type\":\"Plot\"},{\"attributes\":{\"plot\":{\"id\":\"39b6f78a-0bf8-46fc-a4aa-dd8e46beb2d3\",\"subtype\":\"Figure\",\"type\":\"Plot\"}},\"id\":\"47053ff3-3a14-4fcb-915e-44ab80dcdbda\",\"type\":\"PreviewSaveTool\"},{\"attributes\":{\"plot\":{\"id\":\"39b6f78a-0bf8-46fc-a4aa-dd8e46beb2d3\",\"subtype\":\"Figure\",\"type\":\"Plot\"}},\"id\":\"6e274aee-61ac-40bd-8550-eebcd8851f59\",\"type\":\"ResizeTool\"},{\"attributes\":{\"callback\":null,\"column_names\":[\"x\",\"y\"],\"data\":{\"x\":[0.7047511853433336,0.29076074992112144,0.035628153887287684,0.6111742237038612,0.9724382100015073,0.9803731160029988,0.4739902139049298,0.7117235549027731,0.9183917823904051,0.1725535159463838,0.9450998881888948,0.146040615191543,0.7395488234785473,0.801908019817122,0.14916816073075212,0.43211154468333357,0.6360446375343982,0.20047828979455007,0.17801264111165782,0.9921728624028361,0.5005060449808502,0.6121976917599322,0.7033700411733143,0.0063215502601637885,0.6665214325175182,0.7227142792266497,0.5675069608754275,0.7082149674705444,0.07467178479773762,0.9368296468800308,0.4099714307960338,0.1983721809455271,0.6663638010874074,0.6430724338990726,0.02341364411270841,0.587308128151534,0.1609919796666236,0.28681913993812425,0.8750505467927139,0.323120814303703,0.7287846202473481,0.9826645632548769,0.5330823366600613,0.6905280679751574,0.19776573457132818,0.13686669532155227,0.241116542571578,0.6023934745091681,0.09939714910802167,0.648934027956197,0.04172048506616033,0.06622289090030353,0.368264486053564,0.3850345844639098,0.36507458707006946,0.7509200099098475,0.5540164221692646,0.2823168816370534,0.7014670530729437,0.8827503067158123,0.9972281440905992,0.14144638544827426,0.5103663202612837,0.15706247990311262,0.821232678154062,0.5220708972928008,0.9685261473177434,0.44249280550148395,0.7382783303828744,0.6657286280152223,0.04920538860029244,0.48479500610173354,0.6229249854393057,0.5296532101163625,0.7962581500469733,0.6083378324991,0.9914826468996408,0.009949938655441692,0.044127676247004755,0.18390254223729097,0.526358486486605,0.9607711195677677,0.8852236812017357,0.9898639166312833,0.5577564701005899,0.5973798409722713,0.10009777813318732,0.8194949406810524,0.355119324708038,0.7714559629519335,0.49831146780808155,0.45563974650267525,0.11968569834790521,0.7042108152503909,0.703894300072897,0.3362905147097166,0.7594459314364858,0.8724393827706398,0.449212901361841,0.8131743900052573,0.6565237162638424,0.6062479261648177,0.2080859212281514,0.8783187165674435,0.9356177474146496,0.07107651164186046,0.8860509251688794,0.49049976312848276,0.577631692931322,0.782585325350201,0.29597088195072074,0.1474265994009628,0.46719692885019903,0.44119911396790334,0.766464432196743,0.8429681510044786,0.5442335290710308,0.36418206444194834,0.1667028140256337,0.7355122214404131,0.9201105198944969,0.2594914380532559,0.4283590647366031,0.059227181058370104,0.4236443288092615,0.7298412887520963,0.6982862913224095,0.9988557720254191,0.16009578395067758,0.4617778582117942,0.6386317049789921,0.5026483156922751,0.12909496582983626,0.6229633176456143,0.39254194905167095,0.47804334336671317,0.3704203797711566,0.009495833901739359,0.27755053807206,0.9212604368741545,0.05648680480547408,0.5612834046910727,0.5944475335072167,0.42466364741636575,0.23945916711481186,0.5602977918704392,0.09471191436931758,0.06897820875052052,0.5281776285833699,0.1722982358943057,0.8827491214126245,0.471928494425386,0.18051403706821612,0.22484592806818704,0.45256525472179276,0.10326576871789483,0.8756310139146131,0.410652193067771,0.42476294812596915,0.22019417999549773,0.40602408008541946,0.6787285082667958,0.08260380769364795,0.7424556718333756,0.21249483310266815,0.11849913685976798,0.7352674644172271,0.02905832110354889,0.012931562832625088,0.7395801885769838,0.37844035767033524,0.7500485678842688,0.22672874288263678,0.7778150008600891,0.9688230437282163,0.7011029436063838,0.9448647214023996,0.9197809698397419,0.08950612662242607,0.4569382925319695,0.6263500517974231,0.17783479195089968,0.6839504552443787,0.8003878967023527,0.4863400037914465,0.38550981658011185,0.8634373099640353,0.260630925711708,0.5775766157134341,0.45206579534527,0.7009717232307633,0.3682801175532907,0.434384984474653,0.4098056160764051,0.4288534794831169,0.2265603681882309,0.9615978021417065,0.8920247572494915,0.12205105819506923,0.23021215643510384],\"y\":[0.5076744006569556,0.10506212106373258,0.16892385168266777,0.8649529518601291,0.05326477032037502,0.8607469647070225,0.32356961858104816,0.5530752898669439,0.18371585967658643,0.8106918820198898,0.5289360611918439,0.563788822914386,0.2871082488792235,0.23082602167467592,0.862052975806694,0.39564897867806925,0.708934568591259,0.7420107043700319,0.899373781582563,0.09381528090737412,0.4007755613158096,0.9941863907000154,0.3772232214838389,0.7042919879905284,0.9959401527741575,0.49970693332322114,0.493555798752206,0.20422621012338604,0.23904290197172495,0.6390173411365557,0.8450437715170379,0.029383985170654214,0.18779127011418995,0.5274075184418212,0.46902949219108103,0.43357990534187374,0.2920646118100835,0.42871121515756494,0.15785518321685044,0.7105733844848802,0.8866923656698683,0.15397147203932293,0.5164596479684244,0.5421368079201602,0.013226222610984162,0.9053674894748125,0.4529439077583035,0.23527103765665247,0.35254155987368163,0.5688635647941724,0.4640191127805986,0.9887158661822959,0.24670070248159115,0.8979350597913044,0.1423069078785616,0.33834945037844766,0.5515344660643017,0.7625959465202939,0.7938255500936294,0.9174164984653012,0.37597722698209846,0.6274501572014608,0.955844396238429,0.9949593386130633,0.7606521586467908,0.8814031408718417,0.5213365128159558,0.6235318873275243,0.12505473181193816,0.24454003590171114,0.17750783216989596,0.6945035816742494,0.980938556510168,0.2536970136901009,0.9564891302961906,0.06563965902896629,0.05127874952072309,0.18347137026867122,0.577186438454293,0.22584095704041296,0.25935270722195247,0.36262926071543844,0.3981449881847102,0.438575952120254,0.35721623203717157,0.7936249339867475,0.635635123206588,0.14830805489548582,0.6853084827398163,0.2561944863509428,0.4796127744344625,0.28542728597533773,0.2622369322420268,0.5824008369589682,0.11315443690851035,0.43584561191610305,0.2843895517158558,0.20680814143333703,0.5533832588058193,0.6604016976791945,0.2476992318405138,0.40012123433507385,0.25861453884229024,0.40086009863599326,0.03628867509459499,0.012829109516151571,0.6775262407529037,0.7183865574655249,0.12200528190546589,0.9229663390027529,0.7715165626963861,0.2259344417708571,0.7846066954956868,0.8452240134353628,0.5262444582576224,0.8376737853947938,0.2815516915585353,0.3858215541835285,0.5704169520462409,0.3814680716348511,0.3738489823368105,0.8697543688982676,0.16500314937180638,0.44627369782592974,0.9027959697406879,0.4956467906404881,0.9809835042704493,0.4708746418807285,0.7677038921919053,0.3915935747700189,0.4368239361222289,0.8274061946098952,0.9648336602688428,0.36060197343995615,0.9743968196243494,0.7623843995814523,0.0824557915130012,0.19202673579275598,0.602513813010301,0.25435383380797083,0.6486962720018566,0.2750133605795385,0.2545891392309817,0.31962400696386295,0.24955141665369174,0.17896779681948782,0.7810140603099496,0.5865289701081768,0.39516844343767776,0.5863269977351061,0.13905113317652007,0.14713831015924905,0.26308593123289126,0.5816823711937009,0.43267403622844847,0.8630873759560856,0.8564463879515418,0.7557405096107702,0.17908197341412535,0.15019084926973603,0.6528114668253749,0.6976193902263805,0.5204050429015296,0.09294658514737575,0.15792213911257558,0.5376088673438688,0.7244657808758188,0.2329093722100133,0.8728612880588243,0.04997382311969434,0.19352344593140958,0.12900088969741208,0.005118853056071293,0.7429153958170829,0.8986687934611658,0.09006100515547266,0.4828721280519761,0.5997564750624531,0.4023943993140643,0.018880383767036824,0.3361702462321505,0.6071635574711395,0.3801679924079142,0.30342050865330183,0.7569061995227411,0.17584262173451448,0.9342351471051294,0.2253504690352891,0.5057748025242964,0.4372884520625745,0.8587651921066347,0.4767666371587026,0.7695022492244399,0.298811146426578,0.4233634810455913,0.9037033150349719,0.6524615862458243,0.8482866555714049,0.02905886681375036,0.6995105277060958]}},\"id\":\"d899ff43-5aa0-447d-8b06-e5529eebeb8b\",\"type\":\"ColumnDataSource\"},{\"attributes\":{\"plot\":{\"id\":\"39b6f78a-0bf8-46fc-a4aa-dd8e46beb2d3\",\"subtype\":\"Figure\",\"type\":\"Plot\"}},\"id\":\"678a5599-275b-4656-8700-c9462832316d\",\"type\":\"PanTool\"},{\"attributes\":{\"callback\":null},\"id\":\"670c1ac1-aaa9-4d7b-8ffd-bd0f1b003714\",\"type\":\"DataRange1d\"},{\"attributes\":{\"data_source\":{\"id\":\"d899ff43-5aa0-447d-8b06-e5529eebeb8b\",\"type\":\"ColumnDataSource\"},\"glyph\":{\"id\":\"e8a9b089-6c15-409d-9c38-ae1a6a984f7d\",\"type\":\"Circle\"},\"hover_glyph\":null,\"nonselection_glyph\":{\"id\":\"d7fc6ab8-916b-4846-8144-02c370695f1f\",\"type\":\"Circle\"},\"selection_glyph\":null},\"id\":\"1b61e82a-1988-4f9a-886d-a14dc11f28d4\",\"type\":\"GlyphRenderer\"},{\"attributes\":{\"fill_color\":{\"value\":\"#1f77b4\"},\"line_color\":{\"value\":\"#1f77b4\"},\"x\":{\"field\":\"x\"},\"y\":{\"field\":\"y\"}},\"id\":\"e8a9b089-6c15-409d-9c38-ae1a6a984f7d\",\"type\":\"Circle\"},{\"attributes\":{\"formatter\":{\"id\":\"df1ae74a-6eb7-4ba9-8365-2d7df49fd53f\",\"type\":\"BasicTickFormatter\"},\"plot\":{\"id\":\"39b6f78a-0bf8-46fc-a4aa-dd8e46beb2d3\",\"subtype\":\"Figure\",\"type\":\"Plot\"},\"ticker\":{\"id\":\"2697d519-d8e5-4626-8c8f-6ffe82070752\",\"type\":\"BasicTicker\"}},\"id\":\"17ccc724-e65e-4ea6-9140-a1691647ac9d\",\"type\":\"LinearAxis\"},{\"attributes\":{\"fill_alpha\":{\"value\":0.1},\"fill_color\":{\"value\":\"#1f77b4\"},\"line_alpha\":{\"value\":0.1},\"line_color\":{\"value\":\"#1f77b4\"},\"x\":{\"field\":\"x\"},\"y\":{\"field\":\"y\"}},\"id\":\"d7fc6ab8-916b-4846-8144-02c370695f1f\",\"type\":\"Circle\"},{\"attributes\":{\"callback\":null},\"id\":\"94bf1e03-8d3e-47dd-8bc2-fd8ef594676a\",\"type\":\"DataRange1d\"},{\"attributes\":{\"plot\":{\"id\":\"39b6f78a-0bf8-46fc-a4aa-dd8e46beb2d3\",\"subtype\":\"Figure\",\"type\":\"Plot\"},\"ticker\":{\"id\":\"20f189c6-361e-4a88-bdfd-412fd72f32ab\",\"type\":\"BasicTicker\"}},\"id\":\"52edda9e-f521-42e3-a09b-8a269067e065\",\"type\":\"Grid\"},{\"attributes\":{\"plot\":{\"id\":\"39b6f78a-0bf8-46fc-a4aa-dd8e46beb2d3\",\"subtype\":\"Figure\",\"type\":\"Plot\"}},\"id\":\"fab21155-e729-4b42-8b96-f00fb04b25f7\",\"type\":\"ResetTool\"},{\"attributes\":{\"plot\":{\"id\":\"39b6f78a-0bf8-46fc-a4aa-dd8e46beb2d3\",\"subtype\":\"Figure\",\"type\":\"Plot\"}},\"id\":\"eb7b8439-d6a8-41cd-9a42-b15293e994e9\",\"type\":\"HelpTool\"},{\"attributes\":{\"formatter\":{\"id\":\"ac7c83e4-9ca2-41b3-b6b4-3b3216347aaf\",\"type\":\"BasicTickFormatter\"},\"plot\":{\"id\":\"39b6f78a-0bf8-46fc-a4aa-dd8e46beb2d3\",\"subtype\":\"Figure\",\"type\":\"Plot\"},\"ticker\":{\"id\":\"20f189c6-361e-4a88-bdfd-412fd72f32ab\",\"type\":\"BasicTicker\"}},\"id\":\"a3057d5d-b3ea-4fd9-9306-2b2060ed6eb5\",\"type\":\"LinearAxis\"}],\"root_ids\":[\"39b6f78a-0bf8-46fc-a4aa-dd8e46beb2d3\"]},\"title\":\"Bokeh Application\",\"version\":\"0.11.1\"}};\n",
       "            var render_items = [{\"docid\":\"71b4927b-536c-48fb-b2ca-aaa57cd9e35a\",\"elementid\":\"fbcba41d-2106-4e49-8278-8225590fb9a4\",\"modelid\":\"39b6f78a-0bf8-46fc-a4aa-dd8e46beb2d3\",\"notebook_comms_target\":\"5abf2a73-6278-4318-a696-457fc4fb34e2\"}];\n",
       "            \n",
       "            Bokeh.embed.embed_items(docs_json, render_items);\n",
       "        });\n",
       "      },\n",
       "      function(Bokeh) {\n",
       "      }\n",
       "    ];\n",
       "  \n",
       "    function run_inline_js() {\n",
       "      for (var i = 0; i < inline_js.length; i++) {\n",
       "        inline_js[i](window.Bokeh);\n",
       "      }\n",
       "    }\n",
       "  \n",
       "    if (window._bokeh_is_loading === 0) {\n",
       "      console.log(\"Bokeh: BokehJS loaded, going straight to plotting\");\n",
       "      run_inline_js();\n",
       "    } else {\n",
       "      load_libs(js_urls, function() {\n",
       "        console.log(\"Bokeh: BokehJS plotting callback run at\", now());\n",
       "        run_inline_js();\n",
       "      });\n",
       "    }\n",
       "  }(this));\n",
       "</script>"
      ]
     },
     "metadata": {},
     "output_type": "display_data"
    },
    {
     "data": {
      "text/html": [
       "<p><code>&lt;Bokeh Notebook handle for <strong>In[29]</strong>&gt;</code></p>"
      ],
      "text/plain": [
       "<bokeh.io._CommsHandle at 0x7fbc941d6a90>"
      ]
     },
     "execution_count": 29,
     "metadata": {},
     "output_type": "execute_result"
    }
   ],
   "source": [
    "p = figure()\n",
    "p.circle(x=position[:, 0], y=position[:, 1])\n",
    "show(p)"
   ]
  },
  {
   "cell_type": "code",
   "execution_count": 38,
   "metadata": {
    "collapsed": false
   },
   "outputs": [
    {
     "data": {
      "text/plain": [
       "array([ 1.])"
      ]
     },
     "execution_count": 38,
     "metadata": {},
     "output_type": "execute_result"
    }
   ],
   "source": [
    "np.ones(1)"
   ]
  },
  {
   "cell_type": "code",
   "execution_count": 39,
   "metadata": {
    "collapsed": false
   },
   "outputs": [
    {
     "data": {
      "text/latex": [
       "$$8$$"
      ],
      "text/plain": [
       "8"
      ]
     },
     "execution_count": 39,
     "metadata": {},
     "output_type": "execute_result"
    }
   ],
   "source": [
    "_.nbytes"
   ]
  },
  {
   "cell_type": "code",
   "execution_count": null,
   "metadata": {
    "collapsed": true
   },
   "outputs": [],
   "source": []
  }
 ],
 "metadata": {
  "kernelspec": {
   "display_name": "Python 3.4",
   "language": "python",
   "name": "python34"
  },
  "language_info": {
   "codemirror_mode": {
    "name": "ipython",
    "version": 3
   },
   "file_extension": ".py",
   "mimetype": "text/x-python",
   "name": "python",
   "nbconvert_exporter": "python",
   "pygments_lexer": "ipython3",
   "version": "3.4.4"
  }
 },
 "nbformat": 4,
 "nbformat_minor": 0
}
