{
 "cells": [
  {
   "cell_type": "markdown",
   "metadata": {},
   "source": [
    "**Library Imports**"
   ]
  },
  {
   "cell_type": "code",
   "execution_count": 1,
   "metadata": {
    "collapsed": true
   },
   "outputs": [],
   "source": [
    "from __future__ import absolute_import\n",
    "from __future__ import division\n",
    "from __future__ import print_function\n",
    "from __future__ import unicode_literals"
   ]
  },
  {
   "cell_type": "code",
   "execution_count": 2,
   "metadata": {
    "collapsed": false
   },
   "outputs": [
    {
     "name": "stdout",
     "output_type": "stream",
     "text": [
      "3.4.4 |Anaconda 2.4.0 (64-bit)| (default, Jan 11 2016, 13:54:01) \n",
      "[GCC 4.4.7 20120313 (Red Hat 4.4.7-1)]\n"
     ]
    }
   ],
   "source": [
    "import os\n",
    "import sys\n",
    "print(sys.version)   # Python version information"
   ]
  },
  {
   "cell_type": "code",
   "execution_count": 3,
   "metadata": {
    "collapsed": true
   },
   "outputs": [],
   "source": [
    "from sympy import *  # Symbolic mathematics\n",
    "import sympy"
   ]
  },
  {
   "cell_type": "code",
   "execution_count": 4,
   "metadata": {
    "collapsed": true
   },
   "outputs": [],
   "source": [
    "import numpy as np   # N-Dimensional arrays and numerical routines\n",
    "import pandas as pd  # Data structures and data analysis tools\n",
    "import scipy         # Numerical routines"
   ]
  },
  {
   "cell_type": "code",
   "execution_count": 5,
   "metadata": {
    "collapsed": true
   },
   "outputs": [],
   "source": [
    "#import numba        # Decorators for speeding up python functions"
   ]
  },
  {
   "cell_type": "code",
   "execution_count": 6,
   "metadata": {
    "collapsed": true
   },
   "outputs": [],
   "source": [
    "#from astropy import constants  # Physical Constants\n",
    "#from astropy import units      # Physical Units"
   ]
  },
  {
   "cell_type": "code",
   "execution_count": 7,
   "metadata": {
    "collapsed": true
   },
   "outputs": [],
   "source": [
    "import matplotlib as mpl  # Standard plotting library\n",
    "import matplotlib.pyplot as plt \n",
    "import seaborn as sns     # Statistical plotting and improved plot style\n",
    "#import bokeh             # Interactive visualization library"
   ]
  },
  {
   "cell_type": "code",
   "execution_count": 8,
   "metadata": {
    "collapsed": true
   },
   "outputs": [],
   "source": [
    "from sympy.utilities.autowrap import ufuncify  # Creates numerical methods \n",
    "                                               # from symbolic expressions"
   ]
  },
  {
   "cell_type": "code",
   "execution_count": 9,
   "metadata": {
    "collapsed": true
   },
   "outputs": [],
   "source": [
    "from sympy import abc       # Symbolic variables\n",
    "from sympy import pi as Pi  # Symbolic pi\n",
    "from sympy import I as I    # Symbolic imaginary unit"
   ]
  },
  {
   "cell_type": "markdown",
   "metadata": {},
   "source": [
    "**Display**"
   ]
  },
  {
   "cell_type": "code",
   "execution_count": 10,
   "metadata": {
    "collapsed": true
   },
   "outputs": [],
   "source": [
    "from IPython.display import display"
   ]
  },
  {
   "cell_type": "code",
   "execution_count": 11,
   "metadata": {
    "collapsed": false
   },
   "outputs": [],
   "source": [
    "from IPython.display import set_matplotlib_formats  \n",
    "set_matplotlib_formats('pdf', 'png')"
   ]
  },
  {
   "cell_type": "code",
   "execution_count": 12,
   "metadata": {
    "collapsed": true
   },
   "outputs": [],
   "source": [
    "import ipywidgets"
   ]
  },
  {
   "cell_type": "markdown",
   "metadata": {},
   "source": [
    "**Settings & Options**"
   ]
  },
  {
   "cell_type": "code",
   "execution_count": 13,
   "metadata": {
    "collapsed": false
   },
   "outputs": [],
   "source": [
    "np.set_printoptions(precision=5, threshold=1000, edgeitems=3, linewidth=75, \n",
    "                    suppress=False, nanstr=None, infstr=None, \n",
    "                    formatter=None)"
   ]
  },
  {
   "cell_type": "code",
   "execution_count": 14,
   "metadata": {
    "collapsed": false
   },
   "outputs": [],
   "source": [
    "pandas_options = {'display.chop_threshold': None,\n",
    "                  'display.precision': 4,\n",
    "                  'display.max_columns': 8,\n",
    "                  'display.max_rows': 8,\n",
    "                  'display.max_info_columns': 8,\n",
    "                  'display.max_info_rows': 8}\n",
    "for key, val in pandas_options.items():\n",
    "    pd.set_option(key, val)"
   ]
  },
  {
   "cell_type": "code",
   "execution_count": 15,
   "metadata": {
    "collapsed": true
   },
   "outputs": [],
   "source": [
    "sympy.interactive.printing.init_printing(use_latex='mathjax')"
   ]
  },
  {
   "cell_type": "markdown",
   "metadata": {},
   "source": [
    "**Resources**"
   ]
  },
  {
   "cell_type": "markdown",
   "metadata": {},
   "source": [
    "- [Simulating dynamical features of escape panic](http://www.nature.com/nature/journal/v407/n6803/full/407487a0.html)\n",
    "\n",
    "- [Patient and impatient pedestrians in a spatial game for egress congestion](http://journals.aps.org/pre/abstract/10.1103/PhysRevE.87.012802)\n",
    "\n",
    "- [Power Law](http://motion.cs.umn.edu/PowerLaw/)\n",
    "\n",
    "- [Universal Power Law Governing Pedestrian Interactions](http://journals.aps.org/prl/abstract/10.1103/PhysRevLett.113.238701)\n"
   ]
  },
  {
   "cell_type": "markdown",
   "metadata": {
    "collapsed": true
   },
   "source": [
    "# Scratch"
   ]
  },
  {
   "cell_type": "code",
   "execution_count": 16,
   "metadata": {
    "collapsed": true
   },
   "outputs": [],
   "source": [
    "%matplotlib inline"
   ]
  },
  {
   "cell_type": "code",
   "execution_count": 17,
   "metadata": {
    "collapsed": false
   },
   "outputs": [
    {
     "data": {
      "text/plain": [
       "array([ 0.21303,  0.22058,  0.23488,  0.21785,  0.21858,  0.21724,\n",
       "        0.21705,  0.24173,  0.21517,  0.2191 ,  0.22135,  0.21705,\n",
       "        0.2078 ,  0.20978,  0.22644,  0.20601,  0.22888,  0.21332,\n",
       "        0.23219,  0.2017 ,  0.22178,  0.22573,  0.20425,  0.21834,\n",
       "        0.20446,  0.21584,  0.23085,  0.21764,  0.20166,  0.21741,\n",
       "        0.21537,  0.20323,  0.22205,  0.21899,  0.2224 ,  0.21874,\n",
       "        0.22772,  0.22391,  0.21713,  0.20899,  0.20009,  0.22437,\n",
       "        0.23053,  0.22547,  0.23164,  0.22755,  0.21489,  0.21903,\n",
       "        0.2308 ,  0.20844,  0.19391,  0.22131,  0.2147 ,  0.22289,\n",
       "        0.21905,  0.22273,  0.21537,  0.22356,  0.20746,  0.2222 ,\n",
       "        0.21252,  0.21926,  0.22346,  0.21739,  0.23347,  0.20692,\n",
       "        0.22316,  0.17986,  0.2128 ,  0.2274 ,  0.19338,  0.2257 ,\n",
       "        0.20981,  0.21067,  0.22602,  0.20336,  0.21427,  0.21316,\n",
       "        0.22873,  0.21327,  0.21761,  0.22795,  0.2232 ,  0.23145,\n",
       "        0.21176,  0.217  ,  0.21096,  0.22573,  0.2229 ,  0.2125 ,\n",
       "        0.21967,  0.21805,  0.22505,  0.2143 ,  0.21378,  0.21324,\n",
       "        0.22007,  0.22004,  0.22219,  0.21967])"
      ]
     },
     "execution_count": 17,
     "metadata": {},
     "output_type": "execute_result"
    }
   ],
   "source": [
    "arr = np.random.normal(loc=0.22, scale=0.01, size=100)\n",
    "arr"
   ]
  },
  {
   "cell_type": "code",
   "execution_count": 18,
   "metadata": {
    "collapsed": false
   },
   "outputs": [
    {
     "data": {
      "text/plain": [
       "array([ 63.9847 ,  55.91095,  66.8716 ,  68.05034,  66.66226,  71.76462,\n",
       "        80.80139,  68.46778,  77.64236,  72.92057,  81.65959,  68.75325,\n",
       "        83.3708 ,  70.52267,  62.38102,  59.63528,  83.36222,  75.05441,\n",
       "        67.00899,  80.07143,  79.39829,  75.8617 ,  64.33898,  61.41373,\n",
       "        73.49053,  59.538  ,  84.57512,  72.58882,  75.77265,  85.01755,\n",
       "        65.75199,  72.10912,  76.71778,  71.33009,  57.62572,  74.46459,\n",
       "        63.77953,  61.85821,  59.43159,  73.76055,  56.37465,  66.15045,\n",
       "        75.19269,  51.48502,  47.00224,  63.87354,  74.65558,  72.24427,\n",
       "        75.11491,  61.37013,  70.02095,  64.8308 ,  69.46336,  64.85396,\n",
       "        54.29256,  76.59525,  63.02307,  46.77873,  79.99106,  63.4914 ,\n",
       "        56.77233,  88.49187,  72.61553,  69.13397,  68.34785,  79.69604,\n",
       "        64.093  ,  73.23089,  66.78201,  74.74588,  79.53031,  50.96477,\n",
       "        68.25567,  59.01275,  73.28227,  59.44712,  70.51615,  36.71408,\n",
       "        66.89629,  69.55352,  64.37447,  59.6987 ,  73.55369,  66.88376,\n",
       "        76.30473,  58.83918,  76.82726,  72.72299,  68.73661,  70.94198,\n",
       "        63.441  ,  74.50601,  62.53364,  61.01584,  67.24678,  62.28466,\n",
       "        54.31748,  64.22847,  63.27042,  76.84737])"
      ]
     },
     "execution_count": 18,
     "metadata": {},
     "output_type": "execute_result"
    }
   ],
   "source": [
    "arr = np.random.normal(loc=70, scale=10,size=100)\n",
    "arr"
   ]
  },
  {
   "cell_type": "code",
   "execution_count": 19,
   "metadata": {
    "collapsed": true
   },
   "outputs": [],
   "source": [
    "arr -= arr.min()"
   ]
  },
  {
   "cell_type": "code",
   "execution_count": 20,
   "metadata": {
    "collapsed": true
   },
   "outputs": [],
   "source": [
    "arr /= arr.max()"
   ]
  },
  {
   "cell_type": "code",
   "execution_count": 21,
   "metadata": {
    "collapsed": false
   },
   "outputs": [
    {
     "data": {
      "image/png": "[encoded data removed]",
      "text/plain": [
       "<matplotlib.figure.Figure at 0x7fbe4a776208>"
      ]
     },
     "metadata": {},
     "output_type": "display_data"
    }
   ],
   "source": [
    "plt.hist(arr, bins=10);"
   ]
  },
  {
   "cell_type": "code",
   "execution_count": 22,
   "metadata": {
    "collapsed": false
   },
   "outputs": [],
   "source": [
    "arr.sort()"
   ]
  },
  {
   "cell_type": "code",
   "execution_count": 23,
   "metadata": {
    "collapsed": false
   },
   "outputs": [
    {
     "data": {
      "image/png": "[encoded data removed]",
      "text/plain": [
       "<matplotlib.figure.Figure at 0x7fbe47b21a58>"
      ]
     },
     "metadata": {},
     "output_type": "display_data"
    }
   ],
   "source": [
    "plt.plot(np.arange(arr.size), arr);"
   ]
  },
  {
   "cell_type": "markdown",
   "metadata": {},
   "source": [
    "# Numba"
   ]
  },
  {
   "cell_type": "code",
   "execution_count": 24,
   "metadata": {
    "collapsed": true
   },
   "outputs": [],
   "source": [
    "from bokeh.plotting import *"
   ]
  },
  {
   "cell_type": "code",
   "execution_count": 25,
   "metadata": {
    "collapsed": false
   },
   "outputs": [
    {
     "data": {
      "text/html": [
       "\n",
       "    <div class=\"bk-banner\">\n",
       "        <a href=\"http://bokeh.pydata.org\" target=\"_blank\" class=\"bk-logo bk-logo-small bk-logo-notebook\"></a>\n",
       "        <span id=\"980f3bb7-1592-454c-b7de-aa20b933ef88\">Loading BokehJS ...</span>\n",
       "    </div>"
      ]
     },
     "metadata": {},
     "output_type": "display_data"
    },
    {
     "data": {
      "application/javascript": [
       "\n",
       "(function(global) {\n",
       "  function now() {\n",
       "    return new Date();\n",
       "  }\n",
       "\n",
       "  if (typeof (window._bokeh_onload_callbacks) === \"undefined\") {\n",
       "    window._bokeh_onload_callbacks = [];\n",
       "  }\n",
       "\n",
       "  function run_callbacks() {\n",
       "    window._bokeh_onload_callbacks.forEach(function(callback) { callback() });\n",
       "    delete window._bokeh_onload_callbacks\n",
       "    console.info(\"Bokeh: all callbacks have finished\");\n",
       "  }\n",
       "\n",
       "  function load_libs(js_urls, callback) {\n",
       "    window._bokeh_onload_callbacks.push(callback);\n",
       "    if (window._bokeh_is_loading > 0) {\n",
       "      console.log(\"Bokeh: BokehJS is being loaded, scheduling callback at\", now());\n",
       "      return null;\n",
       "    }\n",
       "    if (js_urls == null || js_urls.length === 0) {\n",
       "      run_callbacks();\n",
       "      return null;\n",
       "    }\n",
       "    console.log(\"Bokeh: BokehJS not loaded, scheduling load and callback at\", now());\n",
       "    window._bokeh_is_loading = js_urls.length;\n",
       "    for (var i = 0; i < js_urls.length; i++) {\n",
       "      var url = js_urls[i];\n",
       "      var s = document.createElement('script');\n",
       "      s.src = url;\n",
       "      s.async = false;\n",
       "      s.onreadystatechange = s.onload = function() {\n",
       "        window._bokeh_is_loading--;\n",
       "        if (window._bokeh_is_loading === 0) {\n",
       "          console.log(\"Bokeh: all BokehJS libraries loaded\");\n",
       "          run_callbacks()\n",
       "        }\n",
       "      };\n",
       "      s.onerror = function() {\n",
       "        console.warn(\"failed to load library \" + url);\n",
       "      };\n",
       "      console.log(\"Bokeh: injecting script tag for BokehJS library: \", url);\n",
       "      document.getElementsByTagName(\"head\")[0].appendChild(s);\n",
       "    }\n",
       "  };\n",
       "\n",
       "  var js_urls = ['https://cdn.pydata.org/bokeh/release/bokeh-0.11.1.min.js', 'https://cdn.pydata.org/bokeh/release/bokeh-widgets-0.11.1.min.js', 'https://cdn.pydata.org/bokeh/release/bokeh-compiler-0.11.1.min.js'];\n",
       "\n",
       "  var inline_js = [\n",
       "    function(Bokeh) {\n",
       "      Bokeh.set_log_level(\"info\");\n",
       "    },\n",
       "    \n",
       "    function(Bokeh) {\n",
       "      Bokeh.$(\"#980f3bb7-1592-454c-b7de-aa20b933ef88\").text(\"BokehJS successfully loaded\");\n",
       "    },\n",
       "    function(Bokeh) {\n",
       "      console.log(\"Bokeh: injecting CSS: https://cdn.pydata.org/bokeh/release/bokeh-0.11.1.min.css\");\n",
       "      Bokeh.embed.inject_css(\"https://cdn.pydata.org/bokeh/release/bokeh-0.11.1.min.css\");\n",
       "      console.log(\"Bokeh: injecting CSS: https://cdn.pydata.org/bokeh/release/bokeh-widgets-0.11.1.min.css\");\n",
       "      Bokeh.embed.inject_css(\"https://cdn.pydata.org/bokeh/release/bokeh-widgets-0.11.1.min.css\");\n",
       "    }\n",
       "  ];\n",
       "\n",
       "  function run_inline_js() {\n",
       "    for (var i = 0; i < inline_js.length; i++) {\n",
       "      inline_js[i](window.Bokeh);\n",
       "    }\n",
       "  }\n",
       "\n",
       "  if (window._bokeh_is_loading === 0) {\n",
       "    console.log(\"Bokeh: BokehJS loaded, going straight to plotting\");\n",
       "    run_inline_js();\n",
       "  } else {\n",
       "    load_libs(js_urls, function() {\n",
       "      console.log(\"Bokeh: BokehJS plotting callback run at\", now());\n",
       "      run_inline_js();\n",
       "    });\n",
       "  }\n",
       "}(this));"
      ]
     },
     "metadata": {},
     "output_type": "display_data"
    }
   ],
   "source": [
    "output_notebook()"
   ]
  },
  {
   "cell_type": "code",
   "execution_count": 26,
   "metadata": {
    "collapsed": true
   },
   "outputs": [],
   "source": [
    "import numba"
   ]
  },
  {
   "cell_type": "code",
   "execution_count": 27,
   "metadata": {
    "collapsed": false
   },
   "outputs": [],
   "source": [
    "position = np.random.uniform(size=400)\n",
    "position = position.reshape((position.size // 2, 2))"
   ]
  },
  {
   "cell_type": "code",
   "execution_count": 28,
   "metadata": {
    "collapsed": false
   },
   "outputs": [
    {
     "data": {
      "text/html": [
       "\n",
       "\n",
       "    <div class=\"plotdiv\" id=\"edb8831c-75e2-4382-9c52-f304a21226bc\"></div>\n",
       "<script type=\"text/javascript\">\n",
       "  \n",
       "  (function(global) {\n",
       "    function now() {\n",
       "      return new Date();\n",
       "    }\n",
       "  \n",
       "    if (typeof (window._bokeh_onload_callbacks) === \"undefined\") {\n",
       "      window._bokeh_onload_callbacks = [];\n",
       "    }\n",
       "  \n",
       "    function run_callbacks() {\n",
       "      window._bokeh_onload_callbacks.forEach(function(callback) { callback() });\n",
       "      delete window._bokeh_onload_callbacks\n",
       "      console.info(\"Bokeh: all callbacks have finished\");\n",
       "    }\n",
       "  \n",
       "    function load_libs(js_urls, callback) {\n",
       "      window._bokeh_onload_callbacks.push(callback);\n",
       "      if (window._bokeh_is_loading > 0) {\n",
       "        console.log(\"Bokeh: BokehJS is being loaded, scheduling callback at\", now());\n",
       "        return null;\n",
       "      }\n",
       "      if (js_urls == null || js_urls.length === 0) {\n",
       "        run_callbacks();\n",
       "        return null;\n",
       "      }\n",
       "      console.log(\"Bokeh: BokehJS not loaded, scheduling load and callback at\", now());\n",
       "      window._bokeh_is_loading = js_urls.length;\n",
       "      for (var i = 0; i < js_urls.length; i++) {\n",
       "        var url = js_urls[i];\n",
       "        var s = document.createElement('script');\n",
       "        s.src = url;\n",
       "        s.async = false;\n",
       "        s.onreadystatechange = s.onload = function() {\n",
       "          window._bokeh_is_loading--;\n",
       "          if (window._bokeh_is_loading === 0) {\n",
       "            console.log(\"Bokeh: all BokehJS libraries loaded\");\n",
       "            run_callbacks()\n",
       "          }\n",
       "        };\n",
       "        s.onerror = function() {\n",
       "          console.warn(\"failed to load library \" + url);\n",
       "        };\n",
       "        console.log(\"Bokeh: injecting script tag for BokehJS library: \", url);\n",
       "        document.getElementsByTagName(\"head\")[0].appendChild(s);\n",
       "      }\n",
       "    };var element = document.getElementById(\"edb8831c-75e2-4382-9c52-f304a21226bc\");\n",
       "    if (element == null) {\n",
       "      console.log(\"Bokeh: ERROR: autoload.js configured with elementid 'edb8831c-75e2-4382-9c52-f304a21226bc' but no matching script tag was found. \")\n",
       "      return false;\n",
       "    }\n",
       "  \n",
       "    var js_urls = [];\n",
       "  \n",
       "    var inline_js = [\n",
       "      function(Bokeh) {\n",
       "        Bokeh.$(function() {\n",
       "            var docs_json = {\"39e7a219-c473-4705-81a5-b54d0d32c4d9\":{\"roots\":{\"references\":[{\"attributes\":{\"overlay\":{\"id\":\"d34bf3a6-121a-4332-b9ac-089b888f2290\",\"type\":\"BoxAnnotation\"},\"plot\":{\"id\":\"01999889-7f97-4492-9607-289a39effd0c\",\"subtype\":\"Figure\",\"type\":\"Plot\"}},\"id\":\"615caabc-df82-40b9-a9e9-f30e007e2ef0\",\"type\":\"BoxZoomTool\"},{\"attributes\":{\"plot\":{\"id\":\"01999889-7f97-4492-9607-289a39effd0c\",\"subtype\":\"Figure\",\"type\":\"Plot\"},\"ticker\":{\"id\":\"caccc04a-abf1-443b-8227-ef248a5a7814\",\"type\":\"BasicTicker\"}},\"id\":\"80ebd7d0-5365-4626-80a0-74c7df58daef\",\"type\":\"Grid\"},{\"attributes\":{},\"id\":\"ee0dc2ae-3b0a-47bf-a1a0-f5cf6f9fe9f8\",\"type\":\"BasicTicker\"},{\"attributes\":{\"fill_alpha\":{\"value\":0.1},\"fill_color\":{\"value\":\"#1f77b4\"},\"line_alpha\":{\"value\":0.1},\"line_color\":{\"value\":\"#1f77b4\"},\"x\":{\"field\":\"x\"},\"y\":{\"field\":\"y\"}},\"id\":\"aab3c938-4b90-47c1-adc6-89311aa8eeb5\",\"type\":\"Circle\"},{\"attributes\":{},\"id\":\"caccc04a-abf1-443b-8227-ef248a5a7814\",\"type\":\"BasicTicker\"},{\"attributes\":{\"plot\":{\"id\":\"01999889-7f97-4492-9607-289a39effd0c\",\"subtype\":\"Figure\",\"type\":\"Plot\"}},\"id\":\"88ddf7e2-a49a-4b08-9aa5-715e03024054\",\"type\":\"PreviewSaveTool\"},{\"attributes\":{},\"id\":\"42620e2d-e4f3-47e3-b831-c15cfd222417\",\"type\":\"BasicTickFormatter\"},{\"attributes\":{\"formatter\":{\"id\":\"42620e2d-e4f3-47e3-b831-c15cfd222417\",\"type\":\"BasicTickFormatter\"},\"plot\":{\"id\":\"01999889-7f97-4492-9607-289a39effd0c\",\"subtype\":\"Figure\",\"type\":\"Plot\"},\"ticker\":{\"id\":\"ee0dc2ae-3b0a-47bf-a1a0-f5cf6f9fe9f8\",\"type\":\"BasicTicker\"}},\"id\":\"c02f7622-f488-4d04-a23f-68da1fef34d6\",\"type\":\"LinearAxis\"},{\"attributes\":{\"bottom_units\":\"screen\",\"fill_alpha\":{\"value\":0.5},\"fill_color\":{\"value\":\"lightgrey\"},\"left_units\":\"screen\",\"level\":\"overlay\",\"line_alpha\":{\"value\":1.0},\"line_color\":{\"value\":\"black\"},\"line_dash\":[4,4],\"line_width\":{\"value\":2},\"plot\":null,\"render_mode\":\"css\",\"right_units\":\"screen\",\"top_units\":\"screen\"},\"id\":\"d34bf3a6-121a-4332-b9ac-089b888f2290\",\"type\":\"BoxAnnotation\"},{\"attributes\":{\"data_source\":{\"id\":\"7629f5af-2c05-4164-9ec7-cdbbc6c4d0dd\",\"type\":\"ColumnDataSource\"},\"glyph\":{\"id\":\"2f636839-8533-4dc8-872a-1ef98c3e2686\",\"type\":\"Circle\"},\"hover_glyph\":null,\"nonselection_glyph\":{\"id\":\"aab3c938-4b90-47c1-adc6-89311aa8eeb5\",\"type\":\"Circle\"},\"selection_glyph\":null},\"id\":\"45501969-87ca-417c-b4b4-bda4ad3fb57f\",\"type\":\"GlyphRenderer\"},{\"attributes\":{\"fill_color\":{\"value\":\"#1f77b4\"},\"line_color\":{\"value\":\"#1f77b4\"},\"x\":{\"field\":\"x\"},\"y\":{\"field\":\"y\"}},\"id\":\"2f636839-8533-4dc8-872a-1ef98c3e2686\",\"type\":\"Circle\"},{\"attributes\":{\"callback\":null,\"column_names\":[\"x\",\"y\"],\"data\":{\"x\":[0.9945332270307092,0.35778976853145916,0.011206433136622063,0.337473402055506,0.10642923786714797,0.29122813870198827,0.19375849189272942,0.793559002591802,0.44899258035392187,0.536672079334868,0.8716054565783833,0.9957389149258649,0.8367323841890291,0.8236767965024483,0.21576039253276258,0.6699610880223253,0.564277580758001,0.5265410867053819,0.10864250932333652,0.3153440358590428,0.29285491151456566,0.5867524287003436,0.6442277071762762,0.9208299841283202,0.9368595922075241,0.14849366460430036,0.5625532870934754,0.3839476627148185,0.5586587168067704,0.7569802578034611,0.15965435202174083,0.03614391887652013,0.8637647862786886,0.8284636862286857,0.9001987267176995,0.29130418785920686,0.13418867620299746,0.9229141319341996,0.3192843530758911,0.24887990164784457,0.5657062581182377,0.7452470521093155,0.5522373181635912,0.24706041845582905,0.35444193918730005,0.6912351115712572,0.4565797527589246,0.33274327752200605,0.8884698783114752,0.006177101867504531,0.3777528661943319,0.3981733949069891,0.03679727857712867,0.9939153404540921,0.12970515199719201,0.32046930046938216,0.2339390049382878,0.18255799987752275,0.8848915591919827,0.42765500810513446,0.8153374398452626,0.32137192003891824,0.3843342533614168,0.8158795879271533,0.3441617359497452,0.43542820808055593,0.16030744131356311,0.4970347740748734,0.002008147121712489,0.1469986294706711,0.1168832316143158,0.153098419729908,0.5108323071641024,0.01712810486084615,0.8881340339614174,0.7981963272048979,0.053574426742712955,0.6224302061763786,0.18031091571879643,0.387584842048177,0.8099301640892342,0.14269303255983035,0.035256868737972624,0.0441776098394312,0.8090374711005713,0.38358627258378153,0.4983268720366628,0.8907370742276598,0.08526732094227152,0.9948104704441333,0.5634743078976605,0.8063093078443562,0.5431263265688961,0.45075765281614455,0.3788091913041184,0.7454801581401949,0.8929642261075943,0.5942961055743324,0.6248477352535285,0.846004978765415,0.5825418222702045,0.33806477902390863,0.24891786615511735,0.23330360482640788,0.11894635015573973,0.23143817422720891,0.3785220555687959,0.2709673773488903,0.3068433580219214,0.03119592478012001,0.030016049363724262,0.38481229389741056,0.353951811933942,0.6909591093491777,0.6988840682412305,0.0999377291521586,0.09640056299764221,0.0444554832963554,0.2493155515289467,0.31275405731867756,0.8020223356745735,0.83023478565439,0.9620101824084357,0.5718963242221933,0.12307256767757213,0.20389271035646284,0.4169959001745748,0.5056854197870443,0.6571214841983357,0.6974660419998601,0.2655684202493892,0.7811165519621512,0.01798187144597596,0.5825156451578785,0.37531553750896485,0.334967016230894,0.26652655000066616,0.5812822117876012,0.32852588212504363,0.5657155567468047,0.7396319768208727,0.7606818823127759,0.9335647192966865,0.4086766221452456,0.22186181812529404,0.6817605506784555,0.7241755200645665,0.39029296707300665,0.20993308194153715,0.36809249661481946,0.7180340915975993,0.7431511871779156,0.41715631218280746,0.20279789094454936,0.7314719314323396,0.1363314755525341,0.8302178507592873,0.6532933078211909,0.17906240873005475,0.10866938440433982,0.7551248258395283,0.13931974415974369,0.23881596771674718,0.8965094970079295,0.40052960655222525,0.4969495736765771,0.8025386951983096,0.8012930798913,0.4287484283192283,0.05438844022713418,0.56066528849829,0.8139280967957921,0.05691374302926522,0.6107429327287113,0.7726191158156263,0.20826343742154585,0.18790562919107234,0.49385996376914854,0.5283604011226252,0.26817134971165224,0.7800942032710987,0.5586046805354467,0.5505617797699851,0.5180809132513622,0.4153498918022607,0.7924847877161747,0.12074412290699854,0.6170123104621978,0.11901720470116983,0.4455334739730642,0.06815401080217653,0.2139588442467144,0.13323896222075315,0.8787571797348827,0.2492455289028045,0.04253177238457595,0.542188215803079,0.7711697238867617,0.6360791546164474,0.3859862356734518],\"y\":[0.5669224719302377,0.5767047875435355,0.6222768496818797,0.14752868425187982,0.6756719360087562,0.23662791697640007,0.6362790907549737,0.5150350955426092,0.1511240990027768,0.0882724785106761,0.8357576417537729,0.4170544047020659,0.8823842199721105,0.5386974727086905,0.10364865823608005,0.6335862855685583,0.8028358663720307,0.8223285056269551,0.913949202410699,0.40828389625001293,0.30285011646154847,0.9404338277518527,0.8633443800322849,0.7877192957517125,0.7155056405625329,0.39757372444831574,0.4526223564270443,0.06184303013566461,0.48087753011158996,0.7390615215658728,0.63091486816216,0.15482621232122495,0.8924401745918527,0.8716079316353583,0.746408935064182,0.27006854694590043,0.3632601168759022,0.15261116502426908,0.2546343810541082,0.703376492142781,0.10504846551112867,0.9371968923271284,0.5395967801760057,0.587892736871712,0.25814329080545306,0.2737058512130881,0.03920297809388229,0.5205374146829133,0.23604729290777615,0.30078433701123974,0.7992386376025368,0.05421114709341468,0.04582453130954378,0.45855236483264816,0.22447042529886407,0.5276000848510314,0.06475808869326505,0.5375432005520294,0.11011475311332086,0.8583979230958104,0.6381977963486033,0.6233754629357371,0.5033207131607957,0.09276259935790765,0.22945161203969866,0.3308765560233803,0.04547733469023252,0.010751593003914262,0.9329911709760063,0.25094975575637424,0.9799755562263456,0.868305627230682,0.35151978419237717,0.6776010860498053,0.8801860017946022,0.9592309775281096,0.09743598744482718,0.1920212942853704,0.7198305090490749,0.6462873036822774,0.37469294860135394,0.03510490162294411,0.8150785481378825,0.7527762470736267,0.1771155801656048,0.36224717742390444,0.31754736211493884,0.07825390510138974,0.2829560302351405,0.4879874892173136,0.9336058500741103,0.6741688266344973,0.9425354966174363,0.6432710042056856,0.028337800824123516,0.5198231812578693,0.6005656649713739,0.49653046642253906,0.29483741357139504,0.83029702019825,0.8759653431327175,0.15014391075068367,0.24971040139154677,0.978698563168564,0.4718385403250571,0.01449683699596549,0.39983035088304564,0.1260581158980878,0.7567145106870677,0.6721257949708647,0.41032452589428536,0.21996251288375623,0.034116968653474244,0.8581884575462362,0.5817667009175076,0.6857244574450777,0.7215101879072457,0.4242347519540778,0.5976195365987563,0.3435021337987473,0.5810381389025756,0.7717939993677209,0.6405515906720708,0.5599670244360575,0.7182726869466246,0.3624296476201012,0.3243135284936829,0.5082725462496881,0.9898257862117009,0.6434368645348292,0.2019222319062427,0.33569482091632086,0.6028151890444675,0.11271685425979827,0.25110229719325217,0.5118793021636086,0.9713176593356335,0.264124328017745,0.5992921111483032,0.7910160694987901,0.21354969280573233,0.4009971463835953,0.9874484705549766,0.009747853787406613,0.3432470305392168,0.3278731204938785,0.6805919669225605,0.41417305772755353,0.7740539427794366,0.5524030185121455,0.8734432277720631,0.29168993562255663,0.6906028304999595,0.0407166158936908,0.23003658817529582,0.8364435320032195,0.640727200490525,0.7346758179036558,0.31299317818183303,0.37758849005983264,0.20456567311964347,0.8948112417053049,0.23739206047442063,0.15945459911699544,0.030011086504975415,0.8656141478130149,0.1897397043628769,0.25119679374891357,0.47835053013488704,0.8300869408886997,0.2544809109917724,0.22352795892544997,0.6995078335976098,0.7912284262405652,0.30909802526314945,0.6874300245227688,0.6126838780658516,0.40271869926487236,0.2972679164566002,0.577425241071962,0.3671066667388915,0.5247373475430102,0.43266004769920485,0.20985159013586596,0.010489148431681805,0.5859207438000947,0.9237664685200737,0.14472387767750383,0.18214957761936557,0.3807291491258007,0.9441836971039511,0.6319608053833693,0.6667598468969788,0.15237167194622814,0.994611442329096,0.7644185277211714,0.24087184989517763,0.6779867358902976,0.3756995935865387,0.9903406185223302]}},\"id\":\"7629f5af-2c05-4164-9ec7-cdbbc6c4d0dd\",\"type\":\"ColumnDataSource\"},{\"attributes\":{\"callback\":null},\"id\":\"5c3c84a9-d090-40c2-9928-68f9ec8b54fd\",\"type\":\"DataRange1d\"},{\"attributes\":{\"plot\":{\"id\":\"01999889-7f97-4492-9607-289a39effd0c\",\"subtype\":\"Figure\",\"type\":\"Plot\"}},\"id\":\"0d485332-fdd9-4009-ba21-0a36ab2083ea\",\"type\":\"WheelZoomTool\"},{\"attributes\":{\"plot\":{\"id\":\"01999889-7f97-4492-9607-289a39effd0c\",\"subtype\":\"Figure\",\"type\":\"Plot\"}},\"id\":\"a56792c5-61fa-4739-9e36-89254a2fa959\",\"type\":\"ResizeTool\"},{\"attributes\":{\"plot\":{\"id\":\"01999889-7f97-4492-9607-289a39effd0c\",\"subtype\":\"Figure\",\"type\":\"Plot\"}},\"id\":\"ca8ddd2a-3846-4085-9b7d-b824aa9edf48\",\"type\":\"HelpTool\"},{\"attributes\":{\"plot\":{\"id\":\"01999889-7f97-4492-9607-289a39effd0c\",\"subtype\":\"Figure\",\"type\":\"Plot\"}},\"id\":\"991ede51-8b4f-4c84-b106-010ccd9af4ea\",\"type\":\"ResetTool\"},{\"attributes\":{\"below\":[{\"id\":\"169d35b6-e94a-4e25-8215-db419b39c0c1\",\"type\":\"LinearAxis\"}],\"left\":[{\"id\":\"c02f7622-f488-4d04-a23f-68da1fef34d6\",\"type\":\"LinearAxis\"}],\"renderers\":[{\"id\":\"169d35b6-e94a-4e25-8215-db419b39c0c1\",\"type\":\"LinearAxis\"},{\"id\":\"80ebd7d0-5365-4626-80a0-74c7df58daef\",\"type\":\"Grid\"},{\"id\":\"c02f7622-f488-4d04-a23f-68da1fef34d6\",\"type\":\"LinearAxis\"},{\"id\":\"fc4be6ae-9915-4293-8008-3e3e7664567f\",\"type\":\"Grid\"},{\"id\":\"d34bf3a6-121a-4332-b9ac-089b888f2290\",\"type\":\"BoxAnnotation\"},{\"id\":\"45501969-87ca-417c-b4b4-bda4ad3fb57f\",\"type\":\"GlyphRenderer\"}],\"tool_events\":{\"id\":\"673f8343-e2d1-4f6f-898d-b4f37530b6d2\",\"type\":\"ToolEvents\"},\"tools\":[{\"id\":\"b0f92c00-1adc-4cfd-a3db-422b36850fde\",\"type\":\"PanTool\"},{\"id\":\"0d485332-fdd9-4009-ba21-0a36ab2083ea\",\"type\":\"WheelZoomTool\"},{\"id\":\"615caabc-df82-40b9-a9e9-f30e007e2ef0\",\"type\":\"BoxZoomTool\"},{\"id\":\"88ddf7e2-a49a-4b08-9aa5-715e03024054\",\"type\":\"PreviewSaveTool\"},{\"id\":\"a56792c5-61fa-4739-9e36-89254a2fa959\",\"type\":\"ResizeTool\"},{\"id\":\"991ede51-8b4f-4c84-b106-010ccd9af4ea\",\"type\":\"ResetTool\"},{\"id\":\"ca8ddd2a-3846-4085-9b7d-b824aa9edf48\",\"type\":\"HelpTool\"}],\"x_range\":{\"id\":\"5c3c84a9-d090-40c2-9928-68f9ec8b54fd\",\"type\":\"DataRange1d\"},\"y_range\":{\"id\":\"5cb91f5f-dc30-4efb-ac5a-106d40c5e95e\",\"type\":\"DataRange1d\"}},\"id\":\"01999889-7f97-4492-9607-289a39effd0c\",\"subtype\":\"Figure\",\"type\":\"Plot\"},{\"attributes\":{\"dimension\":1,\"plot\":{\"id\":\"01999889-7f97-4492-9607-289a39effd0c\",\"subtype\":\"Figure\",\"type\":\"Plot\"},\"ticker\":{\"id\":\"ee0dc2ae-3b0a-47bf-a1a0-f5cf6f9fe9f8\",\"type\":\"BasicTicker\"}},\"id\":\"fc4be6ae-9915-4293-8008-3e3e7664567f\",\"type\":\"Grid\"},{\"attributes\":{\"plot\":{\"id\":\"01999889-7f97-4492-9607-289a39effd0c\",\"subtype\":\"Figure\",\"type\":\"Plot\"}},\"id\":\"b0f92c00-1adc-4cfd-a3db-422b36850fde\",\"type\":\"PanTool\"},{\"attributes\":{},\"id\":\"749a5bf1-4ac0-42c9-83ae-d50fa9328028\",\"type\":\"BasicTickFormatter\"},{\"attributes\":{\"callback\":null},\"id\":\"5cb91f5f-dc30-4efb-ac5a-106d40c5e95e\",\"type\":\"DataRange1d\"},{\"attributes\":{},\"id\":\"673f8343-e2d1-4f6f-898d-b4f37530b6d2\",\"type\":\"ToolEvents\"},{\"attributes\":{\"formatter\":{\"id\":\"749a5bf1-4ac0-42c9-83ae-d50fa9328028\",\"type\":\"BasicTickFormatter\"},\"plot\":{\"id\":\"01999889-7f97-4492-9607-289a39effd0c\",\"subtype\":\"Figure\",\"type\":\"Plot\"},\"ticker\":{\"id\":\"caccc04a-abf1-443b-8227-ef248a5a7814\",\"type\":\"BasicTicker\"}},\"id\":\"169d35b6-e94a-4e25-8215-db419b39c0c1\",\"type\":\"LinearAxis\"}],\"root_ids\":[\"01999889-7f97-4492-9607-289a39effd0c\"]},\"title\":\"Bokeh Application\",\"version\":\"0.11.1\"}};\n",
       "            var render_items = [{\"docid\":\"39e7a219-c473-4705-81a5-b54d0d32c4d9\",\"elementid\":\"edb8831c-75e2-4382-9c52-f304a21226bc\",\"modelid\":\"01999889-7f97-4492-9607-289a39effd0c\",\"notebook_comms_target\":\"2c134d5d-c09b-476c-9480-c672113cb251\"}];\n",
       "            \n",
       "            Bokeh.embed.embed_items(docs_json, render_items);\n",
       "        });\n",
       "      },\n",
       "      function(Bokeh) {\n",
       "      }\n",
       "    ];\n",
       "  \n",
       "    function run_inline_js() {\n",
       "      for (var i = 0; i < inline_js.length; i++) {\n",
       "        inline_js[i](window.Bokeh);\n",
       "      }\n",
       "    }\n",
       "  \n",
       "    if (window._bokeh_is_loading === 0) {\n",
       "      console.log(\"Bokeh: BokehJS loaded, going straight to plotting\");\n",
       "      run_inline_js();\n",
       "    } else {\n",
       "      load_libs(js_urls, function() {\n",
       "        console.log(\"Bokeh: BokehJS plotting callback run at\", now());\n",
       "        run_inline_js();\n",
       "      });\n",
       "    }\n",
       "  }(this));\n",
       "</script>"
      ]
     },
     "metadata": {},
     "output_type": "display_data"
    },
    {
     "data": {
      "text/html": [
       "<p><code>&lt;Bokeh Notebook handle for <strong>In[28]</strong>&gt;</code></p>"
      ],
      "text/plain": [
       "<bokeh.io._CommsHandle at 0x7fbe449e7a58>"
      ]
     },
     "execution_count": 28,
     "metadata": {},
     "output_type": "execute_result"
    }
   ],
   "source": [
    "p = figure()\n",
    "p.circle(x=position[:, 0], y=position[:, 1])\n",
    "show(p)"
   ]
  },
  {
   "cell_type": "markdown",
   "metadata": {},
   "source": [
    "numpy concatenate"
   ]
  },
  {
   "cell_type": "code",
   "execution_count": 29,
   "metadata": {
    "collapsed": true
   },
   "outputs": [],
   "source": [
    "l = []"
   ]
  },
  {
   "cell_type": "code",
   "execution_count": 30,
   "metadata": {
    "collapsed": false
   },
   "outputs": [],
   "source": [
    "arr = np.random.uniform(size=200).reshape((2, 100))"
   ]
  },
  {
   "cell_type": "code",
   "execution_count": 31,
   "metadata": {
    "collapsed": false
   },
   "outputs": [],
   "source": [
    "for _ in range(1000):\n",
    "    l.append(arr)"
   ]
  },
  {
   "cell_type": "code",
   "execution_count": 32,
   "metadata": {
    "collapsed": false
   },
   "outputs": [],
   "source": [
    "a = np.array(l)"
   ]
  },
  {
   "cell_type": "code",
   "execution_count": 33,
   "metadata": {
    "collapsed": false
   },
   "outputs": [
    {
     "data": {
      "text/latex": [
       "$$\\left ( 1000, \\quad 2, \\quad 100\\right )$$"
      ],
      "text/plain": [
       "(1000, 2, 100)"
      ]
     },
     "execution_count": 33,
     "metadata": {},
     "output_type": "execute_result"
    }
   ],
   "source": [
    "a.shape"
   ]
  },
  {
   "cell_type": "code",
   "execution_count": 34,
   "metadata": {
    "collapsed": false
   },
   "outputs": [
    {
     "name": "stdout",
     "output_type": "stream",
     "text": [
      "1_parameters.ipynb  3_force.ipynb      5_save.ipynb   tabular.ipynb\r\n",
      "2_walls.ipynb       4_animation.ipynb  scratch.ipynb  Untitled.ipynb\r\n"
     ]
    }
   ],
   "source": [
    "ls"
   ]
  },
  {
   "cell_type": "code",
   "execution_count": 35,
   "metadata": {
    "collapsed": true
   },
   "outputs": [],
   "source": [
    "import time"
   ]
  },
  {
   "cell_type": "code",
   "execution_count": 36,
   "metadata": {
    "collapsed": true
   },
   "outputs": [],
   "source": [
    "from timeit import default_timer as timer\n",
    "\n",
    "class Intervals:\n",
    "    def __init__(self, interval):\n",
    "        self.interval = interval\n",
    "        if self.interval < 0:\n",
    "            raise ValueError(\"Interval should be > 0\")\n",
    "        self.prev = timer()\n",
    "\n",
    "    @property\n",
    "    def name(self):\n",
    "        return self.__class__.__name__\n",
    "\n",
    "    def __call__(self, *args, **kwargs):\n",
    "        if self.interval == 0:\n",
    "            return True\n",
    "        else:\n",
    "            current = timer()\n",
    "            diff = current - self.prev\n",
    "            ret = diff >= self.interval\n",
    "            if ret:\n",
    "                self.prev = current\n",
    "            return ret\n",
    "\n",
    "    def __str__(self):\n",
    "        return \"{name}({interval})\".format(name=self.name,\n",
    "                                           interval=self.interval)"
   ]
  },
  {
   "cell_type": "code",
   "execution_count": 37,
   "metadata": {
    "collapsed": false
   },
   "outputs": [],
   "source": [
    "def foo(is_save):\n",
    "    end = 1\n",
    "    start = end-1\n",
    "    buffer = 0\n",
    "    while True:\n",
    "        buffer += 1\n",
    "        if is_save():\n",
    "            print(start, end, buffer)\n",
    "            buffer = 0\n",
    "            start = end\n",
    "        end += 1\n",
    "        yield"
   ]
  },
  {
   "cell_type": "code",
   "execution_count": 38,
   "metadata": {
    "collapsed": true
   },
   "outputs": [],
   "source": [
    "gen = foo(Intervals(2.0))"
   ]
  },
  {
   "cell_type": "code",
   "execution_count": 39,
   "metadata": {
    "collapsed": false
   },
   "outputs": [
    {
     "name": "stdout",
     "output_type": "stream",
     "text": [
      "0 11 11\n",
      "11 21 10\n",
      "21 31 10\n",
      "31 41 10\n"
     ]
    },
    {
     "ename": "KeyboardInterrupt",
     "evalue": "",
     "output_type": "error",
     "traceback": [
      "\u001b[1;31m---------------------------------------------------------------------------\u001b[0m",
      "\u001b[1;31mKeyboardInterrupt\u001b[0m                         Traceback (most recent call last)",
      "\u001b[1;32m<ipython-input-39-a467cfdf16e1>\u001b[0m in \u001b[0;36m<module>\u001b[1;34m()\u001b[0m\n\u001b[0;32m      1\u001b[0m \u001b[1;32mfor\u001b[0m \u001b[0m_\u001b[0m \u001b[1;32min\u001b[0m \u001b[0mrange\u001b[0m\u001b[1;33m(\u001b[0m\u001b[1;36m100\u001b[0m\u001b[1;33m)\u001b[0m\u001b[1;33m:\u001b[0m\u001b[1;33m\u001b[0m\u001b[0m\n\u001b[0;32m      2\u001b[0m     \u001b[0mnext\u001b[0m\u001b[1;33m(\u001b[0m\u001b[0mgen\u001b[0m\u001b[1;33m)\u001b[0m\u001b[1;33m\u001b[0m\u001b[0m\n\u001b[1;32m----> 3\u001b[1;33m     \u001b[0mtime\u001b[0m\u001b[1;33m.\u001b[0m\u001b[0msleep\u001b[0m\u001b[1;33m(\u001b[0m\u001b[1;36m0.20\u001b[0m\u001b[1;33m)\u001b[0m\u001b[1;33m\u001b[0m\u001b[0m\n\u001b[0m",
      "\u001b[1;31mKeyboardInterrupt\u001b[0m: "
     ]
    }
   ],
   "source": [
    "for _ in range(100):\n",
    "    next(gen)\n",
    "    time.sleep(0.20)"
   ]
  },
  {
   "cell_type": "code",
   "execution_count": 55,
   "metadata": {
    "collapsed": false
   },
   "outputs": [
    {
     "data": {
      "text/latex": [
       "$$2.220446049250313e-16$$"
      ],
      "text/plain": [
       "2.220446049250313e-16"
      ]
     },
     "execution_count": 55,
     "metadata": {},
     "output_type": "execute_result"
    }
   ],
   "source": [
    "sys.float_info.epsilon"
   ]
  },
  {
   "cell_type": "code",
   "execution_count": 56,
   "metadata": {
    "collapsed": false
   },
   "outputs": [
    {
     "data": {
      "text/latex": [
       "$$1.49011611938477 \\cdot 10^{-8}$$"
      ],
      "text/plain": [
       "1.49011611938477e-8"
      ]
     },
     "execution_count": 56,
     "metadata": {},
     "output_type": "execute_result"
    }
   ],
   "source": [
    "sqrt(_)"
   ]
  },
  {
   "cell_type": "code",
   "execution_count": 73,
   "metadata": {
    "collapsed": false
   },
   "outputs": [],
   "source": [
    "def foo():\n",
    "    a = []\n",
    "    def bar():\n",
    "        a.append(1)\n",
    "        return a\n",
    "    return bar"
   ]
  },
  {
   "cell_type": "code",
   "execution_count": 74,
   "metadata": {
    "collapsed": true
   },
   "outputs": [],
   "source": [
    "f = foo()"
   ]
  },
  {
   "cell_type": "code",
   "execution_count": 82,
   "metadata": {
    "collapsed": false
   },
   "outputs": [
    {
     "data": {
      "text/latex": [
       "$$\\left [ 1, \\quad 1, \\quad 1, \\quad 1, \\quad 1, \\quad 1, \\quad 1, \\quad 1\\right ]$$"
      ],
      "text/plain": [
       "[1, 1, 1, 1, 1, 1, 1, 1]"
      ]
     },
     "execution_count": 82,
     "metadata": {},
     "output_type": "execute_result"
    }
   ],
   "source": [
    "f()"
   ]
  }
 ],
 "metadata": {
  "kernelspec": {
   "display_name": "Python 3.4",
   "language": "python",
   "name": "python34"
  },
  "language_info": {
   "codemirror_mode": {
    "name": "ipython",
    "version": 3
   },
   "file_extension": ".py",
   "mimetype": "text/x-python",
   "name": "python",
   "nbconvert_exporter": "python",
   "pygments_lexer": "ipython3",
   "version": "3.4.4"
  }
 },
 "nbformat": 4,
 "nbformat_minor": 0
}
