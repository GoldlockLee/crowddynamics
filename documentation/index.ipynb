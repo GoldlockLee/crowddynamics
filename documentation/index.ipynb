{
 "cells": [
  {
   "cell_type": "code",
   "execution_count": 1,
   "metadata": {
    "collapsed": false
   },
   "outputs": [
    {
     "name": "stdout",
     "output_type": "stream",
     "text": [
      "field.ipynb        parameters.ipynb  social_force.ipynb\r\n",
      "game_theory.ipynb  scratch.ipynb     system.ipynb\r\n"
     ]
    }
   ],
   "source": [
    "ls notebooks"
   ]
  },
  {
   "cell_type": "markdown",
   "metadata": {},
   "source": [
    "# Crowd Dynamics "
   ]
  },
  {
   "cell_type": "markdown",
   "metadata": {
    "collapsed": true
   },
   "source": [
    "- ## [Main document (pdf)](latex/build/crowd_dynamics.pdf)\n",
    "- ## [Figures (pdf)](latex/build/figures.pdf)"
   ]
  },
  {
   "cell_type": "markdown",
   "metadata": {},
   "source": [
    "## [Parameters](notebooks/parameters.ipynb)"
   ]
  },
  {
   "cell_type": "markdown",
   "metadata": {},
   "source": [
    "## [Social Force](notebooks/social_force.ipynb)"
   ]
  },
  {
   "cell_type": "markdown",
   "metadata": {},
   "source": [
    "## [Field](notebooks/field.ipynb)"
   ]
  },
  {
   "cell_type": "markdown",
   "metadata": {},
   "source": [
    "## [System](notebooks/system.ipynb)\n",
    "- ### Updating the differential system"
   ]
  },
  {
   "cell_type": "markdown",
   "metadata": {},
   "source": [
    "## [Game Theory](notebooks/game_theory.ipynb)\n",
    "- ### Game theoretical model"
   ]
  },
  {
   "cell_type": "markdown",
   "metadata": {},
   "source": [
    "## Profiling and Optimizing code\n",
    "\n",
    "- [Optimizing Code (Scipy)](http://www.scipy-lectures.org/advanced/optimizing/)\n",
    "- [Optimizing Code (Scikit-learn)](http://scikit-learn.org/stable/developers/performance.html)\n",
    "- [Numba](http://numba.pydata.org/doc.html)"
   ]
  }
 ],
 "metadata": {
  "kernelspec": {
   "display_name": "Python 3.4",
   "language": "python",
   "name": "python34"
  },
  "language_info": {
   "codemirror_mode": {
    "name": "ipython",
    "version": 3
   },
   "file_extension": ".py",
   "mimetype": "text/x-python",
   "name": "python",
   "nbconvert_exporter": "python",
   "pygments_lexer": "ipython3",
   "version": "3.4.4"
  }
 },
 "nbformat": 4,
 "nbformat_minor": 0
}
