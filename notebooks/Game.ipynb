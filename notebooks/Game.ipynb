{
 "cells": [
  {
   "cell_type": "code",
   "execution_count": 1,
   "metadata": {
    "collapsed": true,
    "scrolled": true
   },
   "outputs": [],
   "source": [
    "import numpy as np"
   ]
  },
  {
   "cell_type": "code",
   "execution_count": 2,
   "metadata": {
    "collapsed": true,
    "scrolled": true
   },
   "outputs": [],
   "source": [
    "import tabulate"
   ]
  },
  {
   "cell_type": "code",
   "execution_count": 8,
   "metadata": {
    "collapsed": false
   },
   "outputs": [
    {
     "name": "stdout",
     "output_type": "stream",
     "text": [
      "+-----------+--------------------------+-----------+\n",
      "|           |                Impatient |   Patient |\n",
      "+===========+==========================+===========+\n",
      "| Impatient | T_ASET/T_ij, T_ASET/T_ij |     -1, 1 |\n",
      "+-----------+--------------------------+-----------+\n",
      "|   Patient |                    1, -1 |      0, 0 |\n",
      "+-----------+--------------------------+-----------+\n"
     ]
    }
   ],
   "source": [
    "headers = [\"Impatient\", \"Patient\"]\n",
    "game_matrix = [[\"Impatient\", \"T_ASET/T_ij, T_ASET/T_ij\", \"-1, 1\"], \n",
    "               [\"Patient\", \"1, -1\", \"0, 0\"]]\n",
    "print(tabulate.tabulate(game_matrix, headers, tablefmt='grid', \n",
    "                        stralign=\"right\", ))"
   ]
  },
  {
   "cell_type": "code",
   "execution_count": null,
   "metadata": {
    "collapsed": true
   },
   "outputs": [],
   "source": [
    ""
   ]
  }
 ],
 "metadata": {
  "kernelspec": {
   "display_name": "Python 3.4",
   "language": "python",
   "name": "python34"
  },
  "language_info": {
   "codemirror_mode": {
    "name": "ipython",
    "version": 3.0
   },
   "file_extension": ".py",
   "mimetype": "text/x-python",
   "name": "python",
   "nbconvert_exporter": "python",
   "pygments_lexer": "ipython3",
   "version": "3.4.4"
  }
 },
 "nbformat": 4,
 "nbformat_minor": 0
}