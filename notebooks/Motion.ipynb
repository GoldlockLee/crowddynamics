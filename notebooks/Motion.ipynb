{
 "cells": [
  {
   "cell_type": "code",
   "execution_count": 1,
   "metadata": {
    "collapsed": true
   },
   "outputs": [],
   "source": [
    "import numpy as np\n",
    "import numba\n",
    "import scipy"
   ]
  },
  {
   "cell_type": "code",
   "execution_count": 2,
   "metadata": {
    "collapsed": true
   },
   "outputs": [],
   "source": [
    "from scipy.stats import truncnorm"
   ]
  },
  {
   "cell_type": "code",
   "execution_count": 3,
   "metadata": {
    "collapsed": true
   },
   "outputs": [],
   "source": [
    "import sympy\n",
    "from sympy import *  # Symbolic mathematics\n",
    "from sympy.vector import *\n",
    "from sympy.physics.mechanics import *\n",
    "from sympy import abc, pi as Pi, I as I"
   ]
  },
  {
   "cell_type": "code",
   "execution_count": 4,
   "metadata": {
    "collapsed": true
   },
   "outputs": [],
   "source": [
    "%matplotlib inline\n",
    "import matplotlib.pyplot as plt"
   ]
  },
  {
   "cell_type": "code",
   "execution_count": 5,
   "metadata": {
    "collapsed": true
   },
   "outputs": [],
   "source": [
    "sympy.interactive.printing.init_printing(use_latex='mathjax')"
   ]
  },
  {
   "cell_type": "code",
   "execution_count": 6,
   "metadata": {
    "collapsed": false
   },
   "outputs": [],
   "source": [
    "np.set_printoptions(precision=5, threshold=6, edgeitems=3, linewidth=75, \n",
    "                    suppress=False, nanstr=None, infstr=None, \n",
    "                    formatter=None)"
   ]
  },
  {
   "cell_type": "code",
   "execution_count": 7,
   "metadata": {
    "collapsed": true
   },
   "outputs": [],
   "source": [
    "import pandas as pd"
   ]
  },
  {
   "cell_type": "markdown",
   "metadata": {},
   "source": [
    "#  Variables"
   ]
  },
  {
   "cell_type": "code",
   "execution_count": 8,
   "metadata": {
    "collapsed": false
   },
   "outputs": [],
   "source": [
    "E = ReferenceFrame('E')  # Vectors"
   ]
  },
  {
   "cell_type": "code",
   "execution_count": 9,
   "metadata": {
    "collapsed": true
   },
   "outputs": [],
   "source": [
    "m = symbols('m', positive=True)  # Mass"
   ]
  },
  {
   "cell_type": "code",
   "execution_count": 14,
   "metadata": {
    "collapsed": true
   },
   "outputs": [],
   "source": [
    "size = 2\n",
    "phi = symbols('varphi_0:{}'.format(size), real=True)  # Angle [-pi, pi]\n",
    "e = [cos(sym) * E.x + sin(sym) * E.y for sym in phi]  # Unit vectors\n",
    "vphi = symbols('varphi', real=True)  # Angle [-pi, pi]"
   ]
  },
  {
   "cell_type": "markdown",
   "metadata": {
    "collapsed": true
   },
   "source": [
    "# Adjusting force"
   ]
  },
  {
   "cell_type": "markdown",
   "metadata": {},
   "source": [
    "$\\mathbf{f}^{adj} = \\frac{m}{\\tau^{adj}} (v_{0} \\cdot \\hat{\\mathbf{e}} -\\mathbf{v}) $"
   ]
  },
  {
   "cell_type": "code",
   "execution_count": 18,
   "metadata": {
    "collapsed": true
   },
   "outputs": [],
   "source": [
    "tau, v0, v = symbols('tau v0 v', positive=True)\n",
    "f_adj = m / tau * (v0 * e[0] -  v * e[1])"
   ]
  },
  {
   "cell_type": "code",
   "execution_count": 27,
   "metadata": {
    "collapsed": false
   },
   "outputs": [
    {
     "data": {
      "text/latex": [
       "$$\\frac{m}{\\tau} \\sqrt{v^{2} - 2 v v_{0} \\cos{\\left (\\varphi_{0} - \\varphi_{1} \\right )} + v_{0}^{2}}$$"
      ],
      "text/plain": [
       "     __________________________________________\n",
       "    ╱  2                                     2 \n",
       "m⋅╲╱  v  - 2⋅v⋅v₀⋅cos(varphi₀ - varphi₁) + v₀  \n",
       "───────────────────────────────────────────────\n",
       "                       τ                       "
      ]
     },
     "execution_count": 27,
     "metadata": {},
     "output_type": "execute_result"
    }
   ],
   "source": [
    "f_adj.magnitude().simplify()"
   ]
  },
  {
   "cell_type": "code",
   "execution_count": 28,
   "metadata": {
    "collapsed": false
   },
   "outputs": [
    {
     "data": {
      "text/latex": [
       "$$\\frac{m}{\\tau} \\sqrt{v^{2} - 2 v v_{0} \\cos{\\left (\\varphi \\right )} + v_{0}^{2}}$$"
      ],
      "text/plain": [
       "     _______________________________\n",
       "    ╱  2                          2 \n",
       "m⋅╲╱  v  - 2⋅v⋅v₀⋅cos(varphi) + v₀  \n",
       "────────────────────────────────────\n",
       "                 τ                  "
      ]
     },
     "execution_count": 28,
     "metadata": {},
     "output_type": "execute_result"
    }
   ],
   "source": [
    "_.subs(phi[0]-phi[1], vphi)"
   ]
  },
  {
   "cell_type": "markdown",
   "metadata": {},
   "source": [
    "# Social Force"
   ]
  },
  {
   "cell_type": "markdown",
   "metadata": {},
   "source": [
    "$$\n",
    "\\begin{split}a &= \\tilde{\\mathbf{v}} \\cdot \\tilde{\\mathbf{v}} \\\\\n",
    "b &= -\\tilde{\\mathbf{x}} \\cdot \\tilde{\\mathbf{v}} \\\\\n",
    "c &= \\tilde{\\mathbf{x}} \\cdot \\tilde{\\mathbf{x}} - \\tilde{r}^{2} \\\\\n",
    "d &= \\sqrt{b^{2} - a c} \\\\\n",
    "\\tau &= \\frac{b - d}{a}.\\end{split}\n",
    "$$"
   ]
  },
  {
   "cell_type": "markdown",
   "metadata": {},
   "source": [
    "$$\n",
    "\\begin{split}\\mathbf{f}^{soc} &= -\\nabla_{\\tilde{\\mathbf{x}}} E(\\tau) \\\\\n",
    "&= -\\nabla_{\\tilde{\\mathbf{x}}} \\left(\\frac{k}{\\tau^{2}} \\exp \\left( -\\frac{\\tau}{\\tau_{0}} \\right) \\right) \\\\\n",
    "&= - \\left(\\frac{k}{a \\tau^{2}}\\right) \\left(\\frac{2}{\\tau} + \\frac{1}{\\tau_{0}}\\right) \\exp\\left (-\\frac{\\tau}{\\tau_{0}}\\right ) \\left(\\tilde{\\mathbf{v}} -\\frac{a \\tilde{\\mathbf{x}} + b \\tilde{\\mathbf{v}}}{d} \\right),\\end{split}\n",
    "$$"
   ]
  },
  {
   "cell_type": "code",
   "execution_count": 35,
   "metadata": {
    "collapsed": false
   },
   "outputs": [],
   "source": [
    "x, v, r_tot = symbols('x, v, r_tot', positive=True)\n",
    "x2, v2 = x * e[0], v * e[1]\n",
    "a = dot(v2, v2).simplify()\n",
    "b = -dot(x2, v2).simplify()\n",
    "c = dot(x2, x2).simplify() - r_tot**2\n",
    "d = sqrt(b**2 - a * c).simplify()"
   ]
  },
  {
   "cell_type": "markdown",
   "metadata": {},
   "source": [
    "time-to-collision"
   ]
  },
  {
   "cell_type": "code",
   "execution_count": 36,
   "metadata": {
    "collapsed": false
   },
   "outputs": [],
   "source": [
    "tau = simplify((b - d) / a)"
   ]
  },
  {
   "cell_type": "code",
   "execution_count": 37,
   "metadata": {
    "collapsed": false
   },
   "outputs": [],
   "source": [
    "tau = tau.subs(phi[0]- phi[1], vphi)"
   ]
  },
  {
   "cell_type": "code",
   "execution_count": 38,
   "metadata": {
    "collapsed": false
   },
   "outputs": [
    {
     "data": {
      "text/latex": [
       "$$- \\frac{1}{v} \\left(x \\cos{\\left (\\varphi \\right )} + \\sqrt{r_{tot}^{2} + x^{2} \\cos^{2}{\\left (\\varphi \\right )} - x^{2}}\\right)$$"
      ],
      "text/plain": [
       " ⎛                   ______________________________⎞ \n",
       " ⎜                  ╱     2    2    2            2 ⎟ \n",
       "-⎝x⋅cos(varphi) + ╲╱  rₜₒₜ  + x ⋅cos (varphi) - x  ⎠ \n",
       "─────────────────────────────────────────────────────\n",
       "                          v                          "
      ]
     },
     "execution_count": 38,
     "metadata": {},
     "output_type": "execute_result"
    }
   ],
   "source": [
    "tau"
   ]
  },
  {
   "cell_type": "markdown",
   "metadata": {},
   "source": [
    "tau when agents are in head-to-head collision trajectory"
   ]
  },
  {
   "cell_type": "code",
   "execution_count": 42,
   "metadata": {
    "collapsed": false
   },
   "outputs": [],
   "source": [
    "tau_min = simplify(tau.subs(vphi, Pi))"
   ]
  },
  {
   "cell_type": "code",
   "execution_count": 93,
   "metadata": {
    "collapsed": false
   },
   "outputs": [
    {
     "data": {
      "text/latex": [
       "$$\\frac{1}{v} \\left(- r_{tot} + x\\right)$$"
      ],
      "text/plain": [
       "-rₜₒₜ + x\n",
       "─────────\n",
       "    v    "
      ]
     },
     "execution_count": 93,
     "metadata": {},
     "output_type": "execute_result"
    }
   ],
   "source": [
    "tau_min"
   ]
  },
  {
   "cell_type": "code",
   "execution_count": 95,
   "metadata": {
    "collapsed": false
   },
   "outputs": [
    {
     "data": {
      "text/latex": [
       "$$\\frac{1}{2 v_{max}} \\left(R - 2 r - 2 t v_{max}\\right)$$"
      ],
      "text/plain": [
       "R - 2⋅r - 2⋅t⋅vₘₐₓ\n",
       "──────────────────\n",
       "      2⋅vₘₐₓ      "
      ]
     },
     "execution_count": 95,
     "metadata": {},
     "output_type": "execute_result"
    }
   ],
   "source": [
    "tau_min.subs({x: R - 2 * t * v_max, v: 2 * v_max, r_tot: 2 * r})"
   ]
  },
  {
   "cell_type": "code",
   "execution_count": 96,
   "metadata": {
    "collapsed": false
   },
   "outputs": [
    {
     "data": {
      "text/latex": [
       "$$\\frac{1}{v_{max}} \\left(\\frac{R}{2} - r - t v_{max}\\right)$$"
      ],
      "text/plain": [
       "R             \n",
       "─ - r - t⋅vₘₐₓ\n",
       "2             \n",
       "──────────────\n",
       "     vₘₐₓ     "
      ]
     },
     "execution_count": 96,
     "metadata": {},
     "output_type": "execute_result"
    }
   ],
   "source": [
    "simplify(_)"
   ]
  },
  {
   "cell_type": "markdown",
   "metadata": {},
   "source": [
    "magnitude part of force"
   ]
  },
  {
   "cell_type": "code",
   "execution_count": 45,
   "metadata": {
    "collapsed": true
   },
   "outputs": [],
   "source": [
    "tau, tau_0 = symbols('tau tau_0', positive=True)"
   ]
  },
  {
   "cell_type": "code",
   "execution_count": 46,
   "metadata": {
    "collapsed": false
   },
   "outputs": [],
   "source": [
    "mag = -1/(a * tau**2) * (2 / tau + 1/ tau_0) * exp(-tau/tau_0)"
   ]
  },
  {
   "cell_type": "code",
   "execution_count": 47,
   "metadata": {
    "collapsed": false
   },
   "outputs": [],
   "source": [
    "mag_max = mag.subs(tau, tau_min)"
   ]
  },
  {
   "cell_type": "code",
   "execution_count": 48,
   "metadata": {
    "collapsed": false
   },
   "outputs": [
    {
     "data": {
      "text/latex": [
       "$$- \\frac{e^{- \\frac{- r_{tot} + x}{\\tau_{0} v}}}{\\left(- r_{tot} + x\\right)^{2}} \\left(\\frac{2 v}{- r_{tot} + x} + \\frac{1}{\\tau_{0}}\\right)$$"
      ],
      "text/plain": [
       "                   -(-rₜₒₜ + x)  \n",
       "                   ───────────── \n",
       " ⎛   2⋅v      1 ⎞       τ₀⋅v     \n",
       "-⎜───────── + ──⎟⋅ℯ              \n",
       " ⎝-rₜₒₜ + x   τ₀⎠                \n",
       "─────────────────────────────────\n",
       "                      2          \n",
       "           (-rₜₒₜ + x)           "
      ]
     },
     "execution_count": 48,
     "metadata": {},
     "output_type": "execute_result"
    }
   ],
   "source": [
    "mag_max"
   ]
  },
  {
   "cell_type": "markdown",
   "metadata": {},
   "source": [
    "direction part of force"
   ]
  },
  {
   "cell_type": "code",
   "execution_count": 63,
   "metadata": {
    "collapsed": false
   },
   "outputs": [],
   "source": [
    "drc = v2 - (a * x2 + b * v2) / d"
   ]
  },
  {
   "cell_type": "code",
   "execution_count": 64,
   "metadata": {
    "collapsed": false
   },
   "outputs": [
    {
     "data": {
      "text/latex": [
       "$$(v \\operatorname{cos}\\left(\\varphi_{1}\\right) - \\frac{v^{2} x \\operatorname{cos}\\left(\\varphi_{0}\\right) - v^{2} x \\operatorname{cos}\\left(\\varphi_{1}\\right) \\operatorname{cos}\\left(\\varphi_{0} - \\varphi_{1}\\right)}{v \\sqrt{r_{tot}^{2} + x^{2} \\operatorname{cos}^{2}\\left(\\varphi_{0} - \\varphi_{1}\\right) - x^{2}}})\\mathbf{\\hat{e}_x} + (v \\operatorname{sin}\\left(\\varphi_{1}\\right) - \\frac{v^{2} x \\operatorname{sin}\\left(\\varphi_{0}\\right) - v^{2} x \\operatorname{sin}\\left(\\varphi_{1}\\right) \\operatorname{cos}\\left(\\varphi_{0} - \\varphi_{1}\\right)}{v \\sqrt{r_{tot}^{2} + x^{2} \\operatorname{cos}^{2}\\left(\\varphi_{0} - \\varphi_{1}\\right) - x^{2}}})\\mathbf{\\hat{e}_y}$$"
      ],
      "text/plain": [
       "⎛                  2                   2                                      ⎞\n",
       "⎜                 v ⋅x⋅cos(varphi₀) - v ⋅x⋅cos(varphi₁)⋅cos(varphi₀ - varphi₁)⎟\n",
       "⎜v⋅cos(varphi₁) - ────────────────────────────────────────────────────────────⎟\n",
       "⎜                             _________________________________________       ⎟\n",
       "⎜                            ╱     2    2    2                       2        ⎟\n",
       "⎝                        v⋅╲╱  rₜₒₜ  + x ⋅cos (varphi₀ - varphi₁) - x         ⎠ e_x + ⎛                  2                   2                                      ⎞\n",
       "⎜                 v ⋅x⋅sin(varphi₀) - v ⋅x⋅sin(varphi₁)⋅cos(varphi₀ - varphi₁)⎟\n",
       "⎜v⋅sin(varphi₁) - ────────────────────────────────────────────────────────────⎟\n",
       "⎜                             _________________________________________       ⎟\n",
       "⎜                            ╱     2    2    2                       2        ⎟\n",
       "⎝                        v⋅╲╱  rₜₒₜ  + x ⋅cos (varphi₀ - varphi₁) - x         ⎠ e_y"
      ]
     },
     "execution_count": 64,
     "metadata": {},
     "output_type": "execute_result"
    }
   ],
   "source": [
    "drc"
   ]
  },
  {
   "cell_type": "code",
   "execution_count": 65,
   "metadata": {
    "collapsed": false
   },
   "outputs": [],
   "source": [
    "drc_max = drc.subs(phi[0], Pi+phi[1])"
   ]
  },
  {
   "cell_type": "code",
   "execution_count": 66,
   "metadata": {
    "collapsed": false
   },
   "outputs": [
    {
     "data": {
      "text/latex": [
       "$$v \\operatorname{cos}\\left(\\varphi_{1}\\right)\\mathbf{\\hat{e}_x} + v \\operatorname{sin}\\left(\\varphi_{1}\\right)\\mathbf{\\hat{e}_y}$$"
      ],
      "text/plain": [
       "v⋅cos(varphi₁) e_x + v⋅sin(varphi₁) e_y"
      ]
     },
     "execution_count": 66,
     "metadata": {},
     "output_type": "execute_result"
    }
   ],
   "source": [
    "drc_max"
   ]
  },
  {
   "cell_type": "code",
   "execution_count": 67,
   "metadata": {
    "collapsed": false
   },
   "outputs": [],
   "source": [
    "drc_mag = drc_max.magnitude().simplify()"
   ]
  },
  {
   "cell_type": "code",
   "execution_count": 68,
   "metadata": {
    "collapsed": false
   },
   "outputs": [
    {
     "data": {
      "text/latex": [
       "$$v$$"
      ],
      "text/plain": [
       "v"
      ]
     },
     "execution_count": 68,
     "metadata": {},
     "output_type": "execute_result"
    }
   ],
   "source": [
    "drc_mag"
   ]
  },
  {
   "cell_type": "markdown",
   "metadata": {},
   "source": [
    "total force"
   ]
  },
  {
   "cell_type": "code",
   "execution_count": 69,
   "metadata": {
    "collapsed": false
   },
   "outputs": [],
   "source": [
    "f_soc_max = drc_mag * mag_max"
   ]
  },
  {
   "cell_type": "code",
   "execution_count": 70,
   "metadata": {
    "collapsed": false
   },
   "outputs": [
    {
     "data": {
      "text/latex": [
       "$$- \\frac{v e^{- \\frac{- r_{tot} + x}{\\tau_{0} v}}}{\\left(- r_{tot} + x\\right)^{2}} \\left(\\frac{2 v}{- r_{tot} + x} + \\frac{1}{\\tau_{0}}\\right)$$"
      ],
      "text/plain": [
       "                     -(-rₜₒₜ + x)  \n",
       "                     ───────────── \n",
       "   ⎛   2⋅v      1 ⎞       τ₀⋅v     \n",
       "-v⋅⎜───────── + ──⎟⋅ℯ              \n",
       "   ⎝-rₜₒₜ + x   τ₀⎠                \n",
       "───────────────────────────────────\n",
       "                       2           \n",
       "            (-rₜₒₜ + x)            "
      ]
     },
     "execution_count": 70,
     "metadata": {},
     "output_type": "execute_result"
    }
   ],
   "source": [
    "f_soc_max"
   ]
  },
  {
   "cell_type": "markdown",
   "metadata": {},
   "source": [
    "neighborhood"
   ]
  },
  {
   "cell_type": "code",
   "execution_count": 80,
   "metadata": {
    "collapsed": true
   },
   "outputs": [],
   "source": [
    "r, R, t, v_max = symbols(\"r, R, t, v_max\", positive=True)"
   ]
  },
  {
   "cell_type": "code",
   "execution_count": 81,
   "metadata": {
    "collapsed": true
   },
   "outputs": [],
   "source": [
    "vals = {\n",
    "    tau_0: 3,\n",
    "    v: 2 * v_max,\n",
    "    r_tot: 2 * r,\n",
    "    x: R - 2 * t * v_max\n",
    "}"
   ]
  },
  {
   "cell_type": "code",
   "execution_count": 82,
   "metadata": {
    "collapsed": false
   },
   "outputs": [
    {
     "data": {
      "text/latex": [
       "$$\\left \\{ r_{tot} : 2 r, \\quad \\tau_{0} : 3, \\quad v : 2 v_{max}, \\quad x : R - 2 t v_{max}\\right \\}$$"
      ],
      "text/plain": [
       "{rₜₒₜ: 2⋅r, τ₀: 3, v: 2⋅vₘₐₓ, x: R - 2⋅t⋅vₘₐₓ}"
      ]
     },
     "execution_count": 82,
     "metadata": {},
     "output_type": "execute_result"
    }
   ],
   "source": [
    "vals"
   ]
  },
  {
   "cell_type": "code",
   "execution_count": 83,
   "metadata": {
    "collapsed": false
   },
   "outputs": [],
   "source": [
    "f_neigh_max = -f_soc_max.subs(vals)"
   ]
  },
  {
   "cell_type": "code",
   "execution_count": 84,
   "metadata": {
    "collapsed": false
   },
   "outputs": [
    {
     "data": {
      "text/latex": [
       "$$\\frac{2 v_{max} e^{- \\frac{1}{6 v_{max}} \\left(R - 2 r - 2 t v_{max}\\right)}}{\\left(R - 2 r - 2 t v_{max}\\right)^{2}} \\left(\\frac{4 v_{max}}{R - 2 r - 2 t v_{max}} + \\frac{1}{3}\\right)$$"
      ],
      "text/plain": [
       "                                 -(R - 2⋅r - 2⋅t⋅vₘₐₓ) \n",
       "                                 ──────────────────────\n",
       "       ⎛      4⋅vₘₐₓ         1⎞          6⋅vₘₐₓ        \n",
       "2⋅vₘₐₓ⋅⎜────────────────── + ─⎟⋅ℯ                      \n",
       "       ⎝R - 2⋅r - 2⋅t⋅vₘₐₓ   3⎠                        \n",
       "───────────────────────────────────────────────────────\n",
       "                                     2                 \n",
       "                 (R - 2⋅r - 2⋅t⋅vₘₐₓ)                  "
      ]
     },
     "execution_count": 84,
     "metadata": {},
     "output_type": "execute_result"
    }
   ],
   "source": [
    "f_neigh_max"
   ]
  },
  {
   "cell_type": "code",
   "execution_count": 112,
   "metadata": {
    "collapsed": true
   },
   "outputs": [],
   "source": [
    "vals2 = {\n",
    "    v_max: 1.0,\n",
    "    r: 0.255,\n",
    "    t: 20 * 0.01\n",
    "}"
   ]
  },
  {
   "cell_type": "code",
   "execution_count": 113,
   "metadata": {
    "collapsed": false
   },
   "outputs": [],
   "source": [
    "err = f_neigh_max.subs(vals2)"
   ]
  },
  {
   "cell_type": "code",
   "execution_count": 114,
   "metadata": {
    "collapsed": false
   },
   "outputs": [
    {
     "data": {
      "text/latex": [
       "$$\\frac{0.775848165125568 + \\frac{9.31017798150681}{R - 0.91}}{\\left(R - 0.91\\right)^{2} e^{0.166666666666667 R}}$$"
      ],
      "text/plain": [
       "                ⎛1     4.0   ⎞  -0.166666666666667⋅R\n",
       "2.3275444953767⋅⎜─ + ────────⎟⋅ℯ                    \n",
       "                ⎝3   R - 0.91⎠                      \n",
       "────────────────────────────────────────────────────\n",
       "                              2                     \n",
       "                    (R - 0.91)                      "
      ]
     },
     "execution_count": 114,
     "metadata": {},
     "output_type": "execute_result"
    }
   ],
   "source": [
    "err"
   ]
  },
  {
   "cell_type": "code",
   "execution_count": 115,
   "metadata": {
    "collapsed": false
   },
   "outputs": [],
   "source": [
    "f = lambdify(R, err, \"numpy\")"
   ]
  },
  {
   "cell_type": "code",
   "execution_count": 116,
   "metadata": {
    "collapsed": false
   },
   "outputs": [
    {
     "data": {
      "text/plain": [
       "[<matplotlib.lines.Line2D at 0x7f3dcc6f2e10>]"
      ]
     },
     "execution_count": 116,
     "metadata": {},
     "output_type": "execute_result"
    },
    {
     "data": {
      "image/png": "[encoded data removed]",
      "text/plain": [
       "<matplotlib.figure.Figure at 0x7f3dcc71b160>"
      ]
     },
     "metadata": {},
     "output_type": "display_data"
    }
   ],
   "source": [
    "R2 = np.linspace(3, 7)\n",
    "plt.plot(R2, f(R2))"
   ]
  },
  {
   "cell_type": "markdown",
   "metadata": {},
   "source": [
    "neighsize"
   ]
  },
  {
   "cell_type": "code",
   "execution_count": 90,
   "metadata": {
    "collapsed": true
   },
   "outputs": [],
   "source": [
    "def neigh_size(R, r, rho):\n",
    "    return rho * (R / r) ** 2"
   ]
  },
  {
   "cell_type": "code",
   "execution_count": 117,
   "metadata": {
    "collapsed": false
   },
   "outputs": [
    {
     "data": {
      "text/plain": [
       "[<matplotlib.lines.Line2D at 0x7f3dcc65a9e8>]"
      ]
     },
     "execution_count": 117,
     "metadata": {},
     "output_type": "execute_result"
    },
    {
     "data": {
      "image/png": "[encoded data removed]",
      "text/plain": [
       "<matplotlib.figure.Figure at 0x7f3dcc6a0a20>"
      ]
     },
     "metadata": {},
     "output_type": "display_data"
    }
   ],
   "source": [
    "plt.plot(R2, neigh_size(R2, 0.255, 0.70))"
   ]
  },
  {
   "cell_type": "markdown",
   "metadata": {},
   "source": [
    "# Contact Force"
   ]
  },
  {
   "cell_type": "code",
   "execution_count": null,
   "metadata": {
    "collapsed": true
   },
   "outputs": [],
   "source": []
  },
  {
   "cell_type": "markdown",
   "metadata": {},
   "source": [
    "$$\n",
    "\\begin{split}\\mathbf{f}^{c} = - h \\cdot \\left(\\mu \\cdot \\hat{\\mathbf{n}} - \\kappa \\cdot (\\mathbf{v} \\cdot \\hat{\\mathbf{t}}) \\hat{\\mathbf{t}}\\right) + c_{n} \\cdot (\\mathbf{v} \\cdot \\hat{\\mathbf{n}}) \\hat{\\mathbf{n}} , \\quad h < 0\\end{split}\n",
    "$$"
   ]
  },
  {
   "cell_type": "code",
   "execution_count": null,
   "metadata": {
    "collapsed": true
   },
   "outputs": [],
   "source": []
  }
 ],
 "metadata": {
  "kernelspec": {
   "display_name": "Python 3.4",
   "language": "python",
   "name": "python34"
  },
  "language_info": {
   "codemirror_mode": {
    "name": "ipython",
    "version": 3
   },
   "file_extension": ".py",
   "mimetype": "text/x-python",
   "name": "python",
   "nbconvert_exporter": "python",
   "pygments_lexer": "ipython3",
   "version": "3.4.5"
  }
 },
 "nbformat": 4,
 "nbformat_minor": 0
}
