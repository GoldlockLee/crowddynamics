{
 "cells": [
  {
   "cell_type": "code",
   "execution_count": 1,
   "metadata": {
    "collapsed": false
   },
   "outputs": [
    {
     "name": "stdout",
     "output_type": "stream",
     "text": [
      "3.4.4 |Anaconda 2.4.0 (64-bit)| (default, Jan 11 2016, 13:54:01) \n",
      "[GCC 4.4.7 20120313 (Red Hat 4.4.7-1)]\n"
     ]
    }
   ],
   "source": [
    "import os\n",
    "import sys\n",
    "print(sys.version)   # Python version information"
   ]
  },
  {
   "cell_type": "code",
   "execution_count": 2,
   "metadata": {
    "collapsed": true
   },
   "outputs": [],
   "source": [
    "from sympy import *  # Symbolic mathematics\n",
    "import sympy"
   ]
  },
  {
   "cell_type": "code",
   "execution_count": 3,
   "metadata": {
    "collapsed": true
   },
   "outputs": [],
   "source": [
    "import numpy as np   # N-Dimensional arrays and numerical routines\n",
    "import numba\n",
    "import scipy         # Numerical routines"
   ]
  },
  {
   "cell_type": "code",
   "execution_count": 4,
   "metadata": {
    "collapsed": true
   },
   "outputs": [],
   "source": [
    "from scipy.stats import truncnorm"
   ]
  },
  {
   "cell_type": "code",
   "execution_count": 5,
   "metadata": {
    "collapsed": true
   },
   "outputs": [],
   "source": [
    "from sympy import abc       # Symbolic variables\n",
    "from sympy import pi as Pi  # Symbolic pi\n",
    "from sympy import I as I    # Symbolic imaginary unit"
   ]
  },
  {
   "cell_type": "code",
   "execution_count": 6,
   "metadata": {
    "collapsed": true
   },
   "outputs": [],
   "source": [
    "from IPython.display import display"
   ]
  },
  {
   "cell_type": "code",
   "execution_count": 7,
   "metadata": {
    "collapsed": true
   },
   "outputs": [],
   "source": [
    "sympy.interactive.printing.init_printing(use_latex='mathjax')"
   ]
  },
  {
   "cell_type": "code",
   "execution_count": 8,
   "metadata": {
    "collapsed": false
   },
   "outputs": [],
   "source": [
    "np.set_printoptions(precision=5, threshold=6, edgeitems=3, linewidth=75, \n",
    "                    suppress=False, nanstr=None, infstr=None, \n",
    "                    formatter=None)"
   ]
  },
  {
   "cell_type": "markdown",
   "metadata": {
    "collapsed": true
   },
   "source": [
    "# Adjusting force"
   ]
  },
  {
   "cell_type": "markdown",
   "metadata": {},
   "source": [
    "\\begin{align}\n",
    "\\mathbf{f}_{i}^{adj} &= \\frac{m_{i}}{\\tau_{i}^{adj}} (v_{i}^{0} \\cdot \\hat{\\mathbf{e}}_{i}^{0} - \\mathbf{v}_{i}) \n",
    "\\end{align}"
   ]
  },
  {
   "cell_type": "code",
   "execution_count": null,
   "metadata": {
    "collapsed": false
   },
   "outputs": [],
   "source": []
  },
  {
   "cell_type": "markdown",
   "metadata": {},
   "source": [
    "# Social Force"
   ]
  },
  {
   "cell_type": "markdown",
   "metadata": {},
   "source": [
    "\\begin{align}\n",
    "\\mathbf{f}_{ij}^{pow} &= - \\left(\\frac{k}{a \\tau^{2}}\\right) \n",
    "\\left(\\frac{2}{\\tau} + \\frac{1}{\\tau_{0}}\\right) \n",
    "\\exp\\left (-\\frac{\\tau}{\\tau_{0}}\\right )\n",
    "\\left(\\mathbf{v}_{ij} -\\frac{a \\mathbf{x}_{ij} + b \\mathbf{v}_{ij}}{d} \\right)\n",
    "\\end{align}"
   ]
  },
  {
   "cell_type": "markdown",
   "metadata": {},
   "source": [
    "\\begin{align}\n",
    "a &= \\mathbf{v}_{ij} \\cdot \\mathbf{v}_{ij} \\\\\n",
    "b &= -\\mathbf{x}_{ij} \\cdot \\mathbf{v}_{ij} \\\\\n",
    "c &= \\mathbf{x}_{ij} \\cdot \\mathbf{x}_{ij} - r_{ij}^{2} \\\\\n",
    "d &= \\sqrt{b^{2} - a c} \\\\\n",
    "\\tau &= \\frac{b - d}{a} > 0.\n",
    "\\end{align}"
   ]
  },
  {
   "cell_type": "code",
   "execution_count": null,
   "metadata": {
    "collapsed": true
   },
   "outputs": [],
   "source": [
    "x = symbols('\\|x\\|', real=True, positive=True)\n",
    "v = symbols('\\|v\\|', real=True, positive=True)\n",
    "r = symbols('r', real=True, positive=True)\n",
    "theta = symbols('theta', real=True)"
   ]
  },
  {
   "cell_type": "code",
   "execution_count": null,
   "metadata": {
    "collapsed": true
   },
   "outputs": [],
   "source": [
    "a = v**2\n",
    "b = - x * v * cos(theta)\n",
    "c = x**2 - r**2"
   ]
  },
  {
   "cell_type": "code",
   "execution_count": null,
   "metadata": {
    "collapsed": true
   },
   "outputs": [],
   "source": [
    "d = simplify(sqrt(b**2 - a * c))"
   ]
  },
  {
   "cell_type": "code",
   "execution_count": null,
   "metadata": {
    "collapsed": true
   },
   "outputs": [],
   "source": [
    "tau = simplify((b - d) / a)"
   ]
  },
  {
   "cell_type": "code",
   "execution_count": null,
   "metadata": {
    "collapsed": false
   },
   "outputs": [],
   "source": [
    "a, b, c, d"
   ]
  },
  {
   "cell_type": "code",
   "execution_count": null,
   "metadata": {
    "collapsed": false
   },
   "outputs": [],
   "source": [
    "tau"
   ]
  },
  {
   "cell_type": "markdown",
   "metadata": {},
   "source": [
    "$\\tau$ undefined"
   ]
  },
  {
   "cell_type": "code",
   "execution_count": null,
   "metadata": {
    "collapsed": false
   },
   "outputs": [],
   "source": [
    "tau.subs(theta, Pi/2)"
   ]
  },
  {
   "cell_type": "markdown",
   "metadata": {},
   "source": [
    "$\\tau_{min}$"
   ]
  },
  {
   "cell_type": "code",
   "execution_count": null,
   "metadata": {
    "collapsed": false
   },
   "outputs": [],
   "source": [
    "tau.subs(theta, -Pi)"
   ]
  },
  {
   "cell_type": "markdown",
   "metadata": {},
   "source": [
    "# Contact Force"
   ]
  },
  {
   "cell_type": "markdown",
   "metadata": {},
   "source": [
    "\\begin{align}\n",
    "\\mathbf{f}_{ij}^{c} &= \n",
    "\\begin{cases}\n",
    "h_{ij} \\cdot \\left(\\mu \\cdot \\hat{\\mathbf{n}}_{ij} - \\kappa \\cdot \\left(\\mathbf{v}_{ji} \\cdot \\hat{\\mathbf{t}}_{ij}\\right) \\hat{\\mathbf{t}}_{ij}\\right) & h_{ij} > 0 \\\\\n",
    "0 & \\text{otherwise}\n",
    "\\end{cases}\n",
    "\\end{align}"
   ]
  },
  {
   "cell_type": "code",
   "execution_count": null,
   "metadata": {
    "collapsed": true
   },
   "outputs": [],
   "source": []
  },
  {
   "cell_type": "markdown",
   "metadata": {},
   "source": [
    "# Random fluctuation $ \\boldsymbol{\\xi}_{i} $ "
   ]
  },
  {
   "cell_type": "markdown",
   "metadata": {},
   "source": [
    "\\begin{align}\n",
    "\\boldsymbol{\\xi}_{i} &= f \\left[\\begin{matrix}\\cos{\\left (\\theta \\right )} & \\sin{\\left (\\theta \\right )}\\end{matrix}\\right] & f \\in \\mathcal{U}(0, f_{max}), \\quad \\theta \\in [0, \\pi) \\\\\n",
    "\\end{align}"
   ]
  },
  {
   "cell_type": "code",
   "execution_count": 25,
   "metadata": {
    "collapsed": true
   },
   "outputs": [],
   "source": [
    "%matplotlib inline\n",
    "import matplotlib.pyplot as plt"
   ]
  },
  {
   "cell_type": "code",
   "execution_count": 68,
   "metadata": {
    "collapsed": true
   },
   "outputs": [],
   "source": [
    "myclip_a, myclip_b, my_mean, my_std = -3*0.1, 3*0.1, 0, 0.1"
   ]
  },
  {
   "cell_type": "code",
   "execution_count": 69,
   "metadata": {
    "collapsed": true
   },
   "outputs": [],
   "source": [
    "a, b = (myclip_a - my_mean) / my_std, (myclip_b - my_mean) / my_std"
   ]
  },
  {
   "cell_type": "code",
   "execution_count": 70,
   "metadata": {
    "collapsed": false
   },
   "outputs": [
    {
     "data": {
      "text/latex": [
       "$$\\left ( -3.0000000000000004, \\quad 3.0000000000000004\\right )$$"
      ],
      "text/plain": [
       "(-3.0000000000000004, 3.0000000000000004)"
      ]
     },
     "execution_count": 70,
     "metadata": {},
     "output_type": "execute_result"
    }
   ],
   "source": [
    "a, b"
   ]
  },
  {
   "cell_type": "code",
   "execution_count": 80,
   "metadata": {
    "collapsed": false
   },
   "outputs": [],
   "source": [
    "arr = truncnorm.rvs(0, 3, loc=0, scale=0.1, size=10000)"
   ]
  },
  {
   "cell_type": "code",
   "execution_count": 84,
   "metadata": {
    "collapsed": false
   },
   "outputs": [
    {
     "data": {
      "text/latex": [
       "$$0.0986578392558$$"
      ],
      "text/plain": [
       "0.0986578392558"
      ]
     },
     "execution_count": 84,
     "metadata": {},
     "output_type": "execute_result"
    }
   ],
   "source": [
    "truncnorm.std(-3, 3, loc=0, scale=0.1)"
   ]
  },
  {
   "cell_type": "code",
   "execution_count": 82,
   "metadata": {
    "collapsed": false
   },
   "outputs": [
    {
     "data": {
      "image/png": "[encoded data removed]",
      "text/plain": [
       "<matplotlib.figure.Figure at 0x7f3fd8c6dd30>"
      ]
     },
     "metadata": {},
     "output_type": "display_data"
    }
   ],
   "source": [
    "plt.hist(arr, bins=50);"
   ]
  },
  {
   "cell_type": "code",
   "execution_count": 90,
   "metadata": {
    "collapsed": false
   },
   "outputs": [
    {
     "data": {
      "text/plain": [
       "array([[ 0.47213, -0.96233, -0.9191 , ..., -0.57481, -0.90586, -0.76258],\n",
       "       [-0.88153,  0.27189,  0.39403, ...,  0.81829,  0.42357, -0.6469 ]])"
      ]
     },
     "execution_count": 90,
     "metadata": {},
     "output_type": "execute_result"
    }
   ],
   "source": [
    "angle = np.random.uniform(0, 2 * np.pi, size=10)\n",
    "np.array((np.cos(angle), np.sin(angle)))"
   ]
  },
  {
   "cell_type": "code",
   "execution_count": 91,
   "metadata": {
    "collapsed": false
   },
   "outputs": [
    {
     "data": {
      "text/plain": [
       "array([[ 0.     , -0.96233, -1.8382 , ..., -4.02367, -7.24691, -6.8632 ],\n",
       "       [-0.     ,  0.27189,  0.78805, ...,  5.72801,  3.38856, -5.82207]])"
      ]
     },
     "execution_count": 91,
     "metadata": {},
     "output_type": "execute_result"
    }
   ],
   "source": [
    "_ * np.arange(10)"
   ]
  },
  {
   "cell_type": "code",
   "execution_count": 92,
   "metadata": {
    "collapsed": false
   },
   "outputs": [
    {
     "data": {
      "text/plain": [
       "array([[ 0.     , -0.     ],\n",
       "       [-0.96233,  0.27189],\n",
       "       [-1.8382 ,  0.78805],\n",
       "       ..., \n",
       "       [-4.02367,  5.72801],\n",
       "       [-7.24691,  3.38856],\n",
       "       [-6.8632 , -5.82207]])"
      ]
     },
     "execution_count": 92,
     "metadata": {},
     "output_type": "execute_result"
    }
   ],
   "source": [
    "_.T"
   ]
  },
  {
   "cell_type": "code",
   "execution_count": 93,
   "metadata": {
    "collapsed": false
   },
   "outputs": [
    {
     "data": {
      "text/latex": [
       "$$\\left ( 10, \\quad 2\\right )$$"
      ],
      "text/plain": [
       "(10, 2)"
      ]
     },
     "execution_count": 93,
     "metadata": {},
     "output_type": "execute_result"
    }
   ],
   "source": [
    "_.shape"
   ]
  },
  {
   "cell_type": "code",
   "execution_count": null,
   "metadata": {
    "collapsed": true
   },
   "outputs": [],
   "source": []
  }
 ],
 "metadata": {
  "kernelspec": {
   "display_name": "Python 3.4",
   "language": "python",
   "name": "python34"
  },
  "language_info": {
   "codemirror_mode": {
    "name": "ipython",
    "version": 3
   },
   "file_extension": ".py",
   "mimetype": "text/x-python",
   "name": "python",
   "nbconvert_exporter": "python",
   "pygments_lexer": "ipython3",
   "version": "3.4.4"
  }
 },
 "nbformat": 4,
 "nbformat_minor": 0
}
