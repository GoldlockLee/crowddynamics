{
 "cells": [
  {
   "cell_type": "markdown",
   "metadata": {},
   "source": [
    "**Library Imports**"
   ]
  },
  {
   "cell_type": "code",
   "execution_count": 1,
   "metadata": {
    "collapsed": false
   },
   "outputs": [
    {
     "name": "stdout",
     "output_type": "stream",
     "text": [
      "3.4.4 |Anaconda 2.4.0 (64-bit)| (default, Jan 11 2016, 13:54:01) \n",
      "[GCC 4.4.7 20120313 (Red Hat 4.4.7-1)]\n"
     ]
    }
   ],
   "source": [
    "import os\n",
    "import sys\n",
    "print(sys.version)   # Python version information"
   ]
  },
  {
   "cell_type": "code",
   "execution_count": 2,
   "metadata": {
    "collapsed": true
   },
   "outputs": [],
   "source": [
    "from sympy import *  # Symbolic mathematics\n",
    "import sympy"
   ]
  },
  {
   "cell_type": "code",
   "execution_count": 3,
   "metadata": {
    "collapsed": true
   },
   "outputs": [],
   "source": [
    "import numpy as np   # N-Dimensional arrays and numerical routines\n",
    "import numba\n",
    "import scipy         # Numerical routines"
   ]
  },
  {
   "cell_type": "code",
   "execution_count": 4,
   "metadata": {
    "collapsed": true
   },
   "outputs": [],
   "source": [
    "from sympy import abc       # Symbolic variables\n",
    "from sympy import pi as Pi  # Symbolic pi\n",
    "from sympy import I as I    # Symbolic imaginary unit"
   ]
  },
  {
   "cell_type": "code",
   "execution_count": 5,
   "metadata": {
    "collapsed": true
   },
   "outputs": [],
   "source": [
    "from IPython.display import display"
   ]
  },
  {
   "cell_type": "code",
   "execution_count": 8,
   "metadata": {
    "collapsed": true
   },
   "outputs": [],
   "source": [
    "sympy.interactive.printing.init_printing(use_latex='mathjax')"
   ]
  },
  {
   "cell_type": "code",
   "execution_count": 6,
   "metadata": {
    "collapsed": false
   },
   "outputs": [],
   "source": [
    "np.set_printoptions(precision=5, threshold=6, edgeitems=3, linewidth=75, \n",
    "                    suppress=False, nanstr=None, infstr=None, \n",
    "                    formatter=None)"
   ]
  },
  {
   "cell_type": "markdown",
   "metadata": {
    "collapsed": true
   },
   "source": [
    "# Adjusting force"
   ]
  },
  {
   "cell_type": "markdown",
   "metadata": {},
   "source": [
    "\\begin{align}\n",
    "\\mathbf{f}_{i}^{adj} &= \\frac{m_{i}}{\\tau_{i}^{adj}} (v_{i}^{0} \\cdot \\hat{\\mathbf{e}}_{i}^{0} - \\mathbf{v}_{i}) \n",
    "\\end{align}"
   ]
  },
  {
   "cell_type": "code",
   "execution_count": null,
   "metadata": {
    "collapsed": false
   },
   "outputs": [],
   "source": []
  },
  {
   "cell_type": "markdown",
   "metadata": {},
   "source": [
    "# Social Force"
   ]
  },
  {
   "cell_type": "markdown",
   "metadata": {},
   "source": [
    "\\begin{align}\n",
    "\\mathbf{f}_{ij}^{pow} &= - \\left(\\frac{k}{a \\tau^{2}}\\right) \n",
    "\\left(\\frac{2}{\\tau} + \\frac{1}{\\tau_{0}}\\right) \n",
    "\\exp\\left (-\\frac{\\tau}{\\tau_{0}}\\right )\n",
    "\\left(\\mathbf{v}_{ij} -\\frac{a \\mathbf{x}_{ij} + b \\mathbf{v}_{ij}}{d} \\right)\n",
    "\\end{align}"
   ]
  },
  {
   "cell_type": "markdown",
   "metadata": {},
   "source": [
    "\\begin{align}\n",
    "a &= \\mathbf{v}_{ij} \\cdot \\mathbf{v}_{ij} \\\\\n",
    "b &= -\\mathbf{x}_{ij} \\cdot \\mathbf{v}_{ij} \\\\\n",
    "c &= \\mathbf{x}_{ij} \\cdot \\mathbf{x}_{ij} - r_{ij}^{2} \\\\\n",
    "d &= \\sqrt{b^{2} - a c} \\\\\n",
    "\\tau &= \\frac{b - d}{a} > 0.\n",
    "\\end{align}"
   ]
  },
  {
   "cell_type": "code",
   "execution_count": 38,
   "metadata": {
    "collapsed": true
   },
   "outputs": [],
   "source": [
    "x = symbols('\\|x\\|', real=True, positive=True)\n",
    "v = symbols('\\|v\\|', real=True, positive=True)\n",
    "r = symbols('r', real=True, positive=True)\n",
    "theta = symbols('theta', real=True)"
   ]
  },
  {
   "cell_type": "code",
   "execution_count": 39,
   "metadata": {
    "collapsed": true
   },
   "outputs": [],
   "source": [
    "a = v**2\n",
    "b = - x * v * cos(theta)\n",
    "c = x**2 - r**2"
   ]
  },
  {
   "cell_type": "code",
   "execution_count": 40,
   "metadata": {
    "collapsed": true
   },
   "outputs": [],
   "source": [
    "d = simplify(sqrt(b**2 - a * c))"
   ]
  },
  {
   "cell_type": "code",
   "execution_count": 41,
   "metadata": {
    "collapsed": false
   },
   "outputs": [
    {
     "data": {
      "text/latex": [
       "$$\\|v\\| \\sqrt{- \\|x\\|^{2} \\sin^{2}{\\left (\\theta \\right )} + r^{2}}$$"
      ],
      "text/plain": [
       "         _______________________\n",
       "        ╱        2    2       2 \n",
       "\\|v\\|⋅╲╱  - \\|x\\| ⋅sin (θ) + r  "
      ]
     },
     "execution_count": 41,
     "metadata": {},
     "output_type": "execute_result"
    }
   ],
   "source": [
    "d"
   ]
  },
  {
   "cell_type": "code",
   "execution_count": 42,
   "metadata": {
    "collapsed": true
   },
   "outputs": [],
   "source": [
    "tau = simplify((b - d) / a)"
   ]
  },
  {
   "cell_type": "code",
   "execution_count": 43,
   "metadata": {
    "collapsed": false
   },
   "outputs": [
    {
     "data": {
      "text/latex": [
       "$$- \\frac{1}{\\|v\\|} \\left(\\|x\\| \\cos{\\left (\\theta \\right )} + \\sqrt{- \\|x\\|^{2} \\sin^{2}{\\left (\\theta \\right )} + r^{2}}\\right)$$"
      ],
      "text/plain": [
       " ⎛                  _______________________⎞ \n",
       " ⎜                 ╱        2    2       2 ⎟ \n",
       "-⎝\\|x\\|⋅cos(θ) + ╲╱  - \\|x\\| ⋅sin (θ) + r  ⎠ \n",
       "─────────────────────────────────────────────\n",
       "                    \\|v\\|                    "
      ]
     },
     "execution_count": 43,
     "metadata": {},
     "output_type": "execute_result"
    }
   ],
   "source": [
    "tau"
   ]
  },
  {
   "cell_type": "code",
   "execution_count": 44,
   "metadata": {
    "collapsed": false
   },
   "outputs": [
    {
     "data": {
      "text/latex": [
       "$$- \\frac{1}{\\|v\\|} \\left(\\|x\\| + r\\right)$$"
      ],
      "text/plain": [
       "-(\\|x\\| + r) \n",
       "─────────────\n",
       "    \\|v\\|    "
      ]
     },
     "execution_count": 44,
     "metadata": {},
     "output_type": "execute_result"
    }
   ],
   "source": [
    "tau.subs(theta, 0)"
   ]
  },
  {
   "cell_type": "code",
   "execution_count": 45,
   "metadata": {
    "collapsed": false
   },
   "outputs": [
    {
     "data": {
      "text/latex": [
       "$$- \\frac{1}{\\|v\\|} \\left(- \\|x\\| + r\\right)$$"
      ],
      "text/plain": [
       "-(-\\|x\\| + r) \n",
       "──────────────\n",
       "    \\|v\\|     "
      ]
     },
     "execution_count": 45,
     "metadata": {},
     "output_type": "execute_result"
    }
   ],
   "source": [
    "tau.subs(theta, Pi)"
   ]
  },
  {
   "cell_type": "markdown",
   "metadata": {},
   "source": [
    "# Contact Force"
   ]
  },
  {
   "cell_type": "markdown",
   "metadata": {},
   "source": [
    "\\begin{align}\n",
    "\\mathbf{f}_{ij}^{c} &= \n",
    "\\begin{cases}\n",
    "h_{ij} \\cdot \\left(\\mu \\cdot \\hat{\\mathbf{n}}_{ij} - \\kappa \\cdot \\left(\\mathbf{v}_{ji} \\cdot \\hat{\\mathbf{t}}_{ij}\\right) \\hat{\\mathbf{t}}_{ij}\\right) & h_{ij} > 0 \\\\\n",
    "0 & \\text{otherwise}\n",
    "\\end{cases}\n",
    "\\end{align}"
   ]
  },
  {
   "cell_type": "code",
   "execution_count": null,
   "metadata": {
    "collapsed": true
   },
   "outputs": [],
   "source": []
  },
  {
   "cell_type": "markdown",
   "metadata": {},
   "source": [
    "# Random fluctuation $ \\boldsymbol{\\xi}_{i} $ "
   ]
  },
  {
   "cell_type": "markdown",
   "metadata": {},
   "source": [
    "\\begin{align}\n",
    "\\boldsymbol{\\xi}_{i} &= f \\left[\\begin{matrix}\\cos{\\left (\\theta \\right )} & \\sin{\\left (\\theta \\right )}\\end{matrix}\\right] & f \\in \\mathcal{U}(0, f_{max}), \\quad \\theta \\in [0, \\pi) \\\\\n",
    "\\end{align}"
   ]
  }
 ],
 "metadata": {
  "kernelspec": {
   "display_name": "Python 3.4",
   "language": "python",
   "name": "python34"
  },
  "language_info": {
   "codemirror_mode": {
    "name": "ipython",
    "version": 3
   },
   "file_extension": ".py",
   "mimetype": "text/x-python",
   "name": "python",
   "nbconvert_exporter": "python",
   "pygments_lexer": "ipython3",
   "version": "3.4.4"
  }
 },
 "nbformat": 4,
 "nbformat_minor": 0
}
