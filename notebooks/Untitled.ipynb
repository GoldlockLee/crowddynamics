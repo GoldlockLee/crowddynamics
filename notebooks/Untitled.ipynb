{
 "cells": [
  {
   "cell_type": "code",
   "execution_count": 1,
   "metadata": {
    "collapsed": true
   },
   "outputs": [],
   "source": [
    "import numpy as np"
   ]
  },
  {
   "cell_type": "code",
   "execution_count": null,
   "metadata": {
    "collapsed": false
   },
   "outputs": [],
   "source": [
    "from sympy import *"
   ]
  },
  {
   "cell_type": "code",
   "execution_count": 2,
   "metadata": {
    "collapsed": true
   },
   "outputs": [],
   "source": [
    "from sympy import init_printing"
   ]
  },
  {
   "cell_type": "code",
   "execution_count": 3,
   "metadata": {
    "collapsed": true
   },
   "outputs": [],
   "source": [
    "init_printing(use_latex=\"mathjax\")"
   ]
  },
  {
   "cell_type": "code",
   "execution_count": 4,
   "metadata": {
    "collapsed": true
   },
   "outputs": [],
   "source": [
    "import pandas as pd"
   ]
  },
  {
   "cell_type": "code",
   "execution_count": 10,
   "metadata": {
    "collapsed": true
   },
   "outputs": [],
   "source": [
    "import tabulate"
   ]
  },
  {
   "cell_type": "code",
   "execution_count": 33,
   "metadata": {
    "collapsed": true
   },
   "outputs": [],
   "source": [
    "import csv"
   ]
  },
  {
   "cell_type": "code",
   "execution_count": 6,
   "metadata": {
    "collapsed": false
   },
   "outputs": [
    {
     "name": "stdout",
     "output_type": "stream",
     "text": [
      "Anthropometry.ipynb  \u001b[0m\u001b[01;34mdata\u001b[0m/        Game.ipynb\r\n",
      "anthropometry.ods    Force.ipynb  Untitled.ipynb\r\n"
     ]
    }
   ],
   "source": [
    "ls"
   ]
  },
  {
   "cell_type": "code",
   "execution_count": 46,
   "metadata": {
    "collapsed": false
   },
   "outputs": [
    {
     "data": {
      "text/html": [
       "<div>\n",
       "<table border=\"1\" class=\"dataframe\">\n",
       "  <thead>\n",
       "    <tr style=\"text-align: right;\">\n",
       "      <th></th>\n",
       "      <th>adult</th>\n",
       "      <th>male</th>\n",
       "      <th>female</th>\n",
       "      <th>child</th>\n",
       "      <th>eldery</th>\n",
       "    </tr>\n",
       "  </thead>\n",
       "  <tbody>\n",
       "    <tr>\n",
       "      <th>radius</th>\n",
       "      <td>0.2550</td>\n",
       "      <td>0.2700</td>\n",
       "      <td>0.2400</td>\n",
       "      <td>0.2100</td>\n",
       "      <td>0.25</td>\n",
       "    </tr>\n",
       "    <tr>\n",
       "      <th>dr</th>\n",
       "      <td>0.0350</td>\n",
       "      <td>0.0200</td>\n",
       "      <td>0.0200</td>\n",
       "      <td>0.0150</td>\n",
       "      <td>0.02</td>\n",
       "    </tr>\n",
       "    <tr>\n",
       "      <th>k_t</th>\n",
       "      <td>0.5882</td>\n",
       "      <td>0.5926</td>\n",
       "      <td>0.5833</td>\n",
       "      <td>0.5714</td>\n",
       "      <td>0.60</td>\n",
       "    </tr>\n",
       "    <tr>\n",
       "      <th>k_s</th>\n",
       "      <td>0.3725</td>\n",
       "      <td>0.3704</td>\n",
       "      <td>0.3750</td>\n",
       "      <td>0.3333</td>\n",
       "      <td>0.36</td>\n",
       "    </tr>\n",
       "    <tr>\n",
       "      <th>k_ts</th>\n",
       "      <td>0.6275</td>\n",
       "      <td>0.6296</td>\n",
       "      <td>0.6250</td>\n",
       "      <td>0.6667</td>\n",
       "      <td>0.64</td>\n",
       "    </tr>\n",
       "    <tr>\n",
       "      <th>v</th>\n",
       "      <td>1.2500</td>\n",
       "      <td>1.3500</td>\n",
       "      <td>1.1500</td>\n",
       "      <td>0.9000</td>\n",
       "      <td>0.80</td>\n",
       "    </tr>\n",
       "    <tr>\n",
       "      <th>dv</th>\n",
       "      <td>0.3000</td>\n",
       "      <td>0.2000</td>\n",
       "      <td>0.2000</td>\n",
       "      <td>0.3000</td>\n",
       "      <td>0.30</td>\n",
       "    </tr>\n",
       "    <tr>\n",
       "      <th>mass</th>\n",
       "      <td>73.5000</td>\n",
       "      <td>80.0000</td>\n",
       "      <td>67.0000</td>\n",
       "      <td>57.0000</td>\n",
       "      <td>70.00</td>\n",
       "    </tr>\n",
       "    <tr>\n",
       "      <th>mass_scale</th>\n",
       "      <td>8.0000</td>\n",
       "      <td>8.0000</td>\n",
       "      <td>6.7000</td>\n",
       "      <td>5.7000</td>\n",
       "      <td>7.00</td>\n",
       "    </tr>\n",
       "  </tbody>\n",
       "</table>\n",
       "</div>"
      ],
      "text/plain": [
       "              adult     male   female    child  eldery\n",
       "radius       0.2550   0.2700   0.2400   0.2100    0.25\n",
       "dr           0.0350   0.0200   0.0200   0.0150    0.02\n",
       "k_t          0.5882   0.5926   0.5833   0.5714    0.60\n",
       "k_s          0.3725   0.3704   0.3750   0.3333    0.36\n",
       "k_ts         0.6275   0.6296   0.6250   0.6667    0.64\n",
       "v            1.2500   1.3500   1.1500   0.9000    0.80\n",
       "dv           0.3000   0.2000   0.2000   0.3000    0.30\n",
       "mass        73.5000  80.0000  67.0000  57.0000   70.00\n",
       "mass_scale   8.0000   8.0000   6.7000   5.7000    7.00"
      ]
     },
     "execution_count": 46,
     "metadata": {},
     "output_type": "execute_result"
    }
   ],
   "source": [
    "df = pd.read_csv(\"data/anthropometry.csv\", index_col=[0])\n",
    "df"
   ]
  },
  {
   "cell_type": "code",
   "execution_count": 48,
   "metadata": {
    "collapsed": false
   },
   "outputs": [
    {
     "data": {
      "text/plain": [
       "['radius', 'dr', 'k_t', 'k_s', 'k_ts', 'v', 'dv', 'mass', 'mass_scale']"
      ]
     },
     "execution_count": 48,
     "metadata": {},
     "output_type": "execute_result"
    }
   ],
   "source": [
    "list(df.index)"
   ]
  },
  {
   "cell_type": "code",
   "execution_count": 49,
   "metadata": {
    "collapsed": false
   },
   "outputs": [
    {
     "data": {
      "text/plain": [
       "['adult', 'male', 'female', 'child', 'eldery']"
      ]
     },
     "execution_count": 49,
     "metadata": {},
     "output_type": "execute_result"
    }
   ],
   "source": [
    "list(df.columns)"
   ]
  },
  {
   "cell_type": "code",
   "execution_count": 68,
   "metadata": {
    "collapsed": false
   },
   "outputs": [
    {
     "name": "stdout",
     "output_type": "stream",
     "text": [
      "            adult    male    female    child    eldery\n",
      "----------  -------  ------  --------  -------  --------\n",
      "radius      0.255    0.27    0.24      0.21     0.25\n",
      "dr          0.035    0.02    0.02      0.015    0.02\n",
      "k_t         0.5882   0.5926  0.5833    0.5714   0.6\n",
      "k_s         0.3725   0.3704  0.375     0.3333   0.36\n",
      "k_ts        0.6275   0.6296  0.625     0.6667   0.64\n",
      "v           1.25     1.35    1.15      0.9      0.8\n",
      "dv          0.3      0.2     0.2       0.3      0.3\n",
      "mass        73.5     80      67        57       70\n",
      "mass_scale  8        8       6.7       5.7      7\n"
     ]
    }
   ],
   "source": [
    "print(tabulate.tabulate(df, headers=list(df.columns.values),\n",
    "                        numalign=\"left\", tablefmt=\"simple\"))"
   ]
  },
  {
   "cell_type": "code",
   "execution_count": 24,
   "metadata": {
    "collapsed": false
   },
   "outputs": [
    {
     "name": "stdout",
     "output_type": "stream",
     "text": [
      "\\begin{tabular}{llllll}\n",
      "\\hline\n",
      "            & adult   & male   & female   & child   & eldery   \\\\\n",
      "\\hline\n",
      " radius     & 0.255   & 0.27   & 0.24     & 0.21    & 0.25     \\\\\n",
      " dr         & 0.035   & 0.02   & 0.02     & 0.015   & 0.02     \\\\\n",
      " k\\_t        & 0.5882  & 0.5926 & 0.5833   & 0.5714  & 0.6      \\\\\n",
      " k\\_s        & 0.3725  & 0.3704 & 0.375    & 0.3333  & 0.36     \\\\\n",
      " k\\_ts       & 0.6275  & 0.6296 & 0.625    & 0.6667  & 0.64     \\\\\n",
      " v          & 1.25    & 1.35   & 1.15     & 0.9     & 0.8      \\\\\n",
      " dv         & 0.3     & 0.2    & 0.2      & 0.3     & 0.3      \\\\\n",
      " mass       & 73.5    & 80     & 67       & 57      & 70       \\\\\n",
      " mass\\_scale & 8       & 8      & 6.7      & 5.7     & 7        \\\\\n",
      "\\hline\n",
      "\\end{tabular}\n"
     ]
    }
   ],
   "source": [
    "print(tabulate.tabulate(df, headers=list(df.columns.values),\n",
    "                        numalign=\"left\", tablefmt=\"latex\"))"
   ]
  }
 ],
 "metadata": {
  "kernelspec": {
   "display_name": "Python 3.4",
   "language": "python",
   "name": "python34"
  },
  "language_info": {
   "codemirror_mode": {
    "name": "ipython",
    "version": 3
   },
   "file_extension": ".py",
   "mimetype": "text/x-python",
   "name": "python",
   "nbconvert_exporter": "python",
   "pygments_lexer": "ipython3",
   "version": "3.4.4"
  }
 },
 "nbformat": 4,
 "nbformat_minor": 0
}
