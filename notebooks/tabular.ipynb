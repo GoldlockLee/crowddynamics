{
 "cells": [
  {
   "cell_type": "code",
   "execution_count": null,
   "metadata": {
    "collapsed": true
   },
   "outputs": [],
   "source": [
    "import yaml"
   ]
  },
  {
   "cell_type": "code",
   "execution_count": 4,
   "metadata": {
    "collapsed": true
   },
   "outputs": [],
   "source": [
    "import pandas as pd"
   ]
  },
  {
   "cell_type": "code",
   "execution_count": null,
   "metadata": {
    "collapsed": false
   },
   "outputs": [],
   "source": [
    "ls ../"
   ]
  },
  {
   "cell_type": "code",
   "execution_count": null,
   "metadata": {
    "collapsed": false
   },
   "outputs": [],
   "source": [
    "with open(\"../agent_body.yaml\", \"r\") as stream:\n",
    "    data = yaml.load(stream)"
   ]
  },
  {
   "cell_type": "code",
   "execution_count": null,
   "metadata": {
    "collapsed": false
   },
   "outputs": [],
   "source": [
    "index = data['index']"
   ]
  },
  {
   "cell_type": "code",
   "execution_count": null,
   "metadata": {
    "collapsed": true
   },
   "outputs": [],
   "source": [
    "del data['index']"
   ]
  },
  {
   "cell_type": "code",
   "execution_count": null,
   "metadata": {
    "collapsed": false
   },
   "outputs": [],
   "source": [
    "df = pd.DataFrame(data, index=index).T"
   ]
  },
  {
   "cell_type": "code",
   "execution_count": null,
   "metadata": {
    "collapsed": false
   },
   "outputs": [],
   "source": [
    "annotate = lambda f: r\"$ {} $\".format(f)"
   ]
  },
  {
   "cell_type": "code",
   "execution_count": null,
   "metadata": {
    "collapsed": false
   },
   "outputs": [],
   "source": [
    "df = df.applymap(annotate)"
   ]
  },
  {
   "cell_type": "code",
   "execution_count": null,
   "metadata": {
    "collapsed": false
   },
   "outputs": [],
   "source": [
    "df"
   ]
  },
  {
   "cell_type": "code",
   "execution_count": null,
   "metadata": {
    "collapsed": false
   },
   "outputs": [],
   "source": [
    "string = df.to_csv(sep=\",\")"
   ]
  },
  {
   "cell_type": "code",
   "execution_count": null,
   "metadata": {
    "collapsed": false
   },
   "outputs": [],
   "source": [
    "string"
   ]
  },
  {
   "cell_type": "code",
   "execution_count": null,
   "metadata": {
    "collapsed": false
   },
   "outputs": [],
   "source": [
    "print(string.replace(\",\", \" & \").replace(\"\\n\", r\" \\\\\" + \"\\n\"))"
   ]
  },
  {
   "cell_type": "code",
   "execution_count": 22,
   "metadata": {
    "collapsed": true
   },
   "outputs": [],
   "source": [
    "from collections import namedtuple, Iterable\n",
    "\n",
    "\n",
    "index = namedtuple(\"index\", (\"r\", \"dr\", \"r_t\", \"r_s\", \"r_st\", \"v\", \"dv\"))\n",
    "body_types = dict(\n",
    "    adult=index(0.255, 0.035, 0.5882, 0.3725, 0.6275, 1.25, 0.30),\n",
    "    male=index(0.270, 0.020, 0.5926, 0.3704, 0.6296, 1.35, 0.20),\n",
    "    female=index(0.240, 0.020, 0.5833, 0.3750, 0.6250, 1.15, 0.20),\n",
    "    child=index(0.210, 0.015, 0.5714, 0.3333, 0.6667, 0.90, 0.30),\n",
    "    eldery=index(0.250, 0.020, 0.6000, 0.3600, 0.6400, 0.80, 0.30),\n",
    ")\n"
   ]
  },
  {
   "cell_type": "code",
   "execution_count": 23,
   "metadata": {
    "collapsed": false
   },
   "outputs": [
    {
     "data": {
      "text/plain": [
       "{'adult': index(r=0.255, dr=0.035, r_t=0.5882, r_s=0.3725, r_st=0.6275, v=1.25, dv=0.3),\n",
       " 'child': index(r=0.21, dr=0.015, r_t=0.5714, r_s=0.3333, r_st=0.6667, v=0.9, dv=0.3),\n",
       " 'eldery': index(r=0.25, dr=0.02, r_t=0.6, r_s=0.36, r_st=0.64, v=0.8, dv=0.3),\n",
       " 'female': index(r=0.24, dr=0.02, r_t=0.5833, r_s=0.375, r_st=0.625, v=1.15, dv=0.2),\n",
       " 'male': index(r=0.27, dr=0.02, r_t=0.5926, r_s=0.3704, r_st=0.6296, v=1.35, dv=0.2)}"
      ]
     },
     "execution_count": 23,
     "metadata": {},
     "output_type": "execute_result"
    }
   ],
   "source": [
    "body_types"
   ]
  },
  {
   "cell_type": "code",
   "execution_count": 27,
   "metadata": {
    "collapsed": false
   },
   "outputs": [
    {
     "data": {
      "text/plain": [
       "0.035"
      ]
     },
     "execution_count": 27,
     "metadata": {},
     "output_type": "execute_result"
    }
   ],
   "source": [
    "body_types['adult'].dr"
   ]
  },
  {
   "cell_type": "code",
   "execution_count": null,
   "metadata": {
    "collapsed": true
   },
   "outputs": [],
   "source": []
  }
 ],
 "metadata": {
  "kernelspec": {
   "display_name": "Python 3.4",
   "language": "python",
   "name": "python34"
  },
  "language_info": {
   "codemirror_mode": {
    "name": "ipython",
    "version": 3
   },
   "file_extension": ".py",
   "mimetype": "text/x-python",
   "name": "python",
   "nbconvert_exporter": "python",
   "pygments_lexer": "ipython3",
   "version": "3.4.4"
  }
 },
 "nbformat": 4,
 "nbformat_minor": 0
}
