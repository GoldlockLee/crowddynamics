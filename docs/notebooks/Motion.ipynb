{
 "cells": [
  {
   "cell_type": "code",
   "execution_count": 1,
   "metadata": {
    "collapsed": true
   },
   "outputs": [],
   "source": [
    "import numpy as np\n",
    "import numba\n",
    "import scipy"
   ]
  },
  {
   "cell_type": "code",
   "execution_count": 2,
   "metadata": {
    "collapsed": true
   },
   "outputs": [],
   "source": [
    "from scipy.stats import truncnorm"
   ]
  },
  {
   "cell_type": "code",
   "execution_count": 3,
   "metadata": {
    "collapsed": true
   },
   "outputs": [],
   "source": [
    "import sympy\n",
    "from sympy import *  # Symbolic mathematics\n",
    "from sympy.vector import *\n",
    "from sympy.physics.mechanics import *\n",
    "from sympy import abc, pi as Pi, I as I"
   ]
  },
  {
   "cell_type": "code",
   "execution_count": 4,
   "metadata": {
    "collapsed": true
   },
   "outputs": [],
   "source": [
    "%matplotlib inline\n",
    "import matplotlib.pyplot as plt"
   ]
  },
  {
   "cell_type": "code",
   "execution_count": 5,
   "metadata": {
    "collapsed": true
   },
   "outputs": [],
   "source": [
    "sympy.interactive.printing.init_printing(use_latex='mathjax')"
   ]
  },
  {
   "cell_type": "code",
   "execution_count": 6,
   "metadata": {
    "collapsed": false
   },
   "outputs": [],
   "source": [
    "np.set_printoptions(precision=5, threshold=6, edgeitems=3, linewidth=75, \n",
    "                    suppress=False, nanstr=None, infstr=None, \n",
    "                    formatter=None)\n",
    "\n",
    "import pandas as pd"
   ]
  },
  {
   "cell_type": "markdown",
   "metadata": {},
   "source": [
    "#  Variables"
   ]
  },
  {
   "cell_type": "code",
   "execution_count": null,
   "metadata": {
    "collapsed": false
   },
   "outputs": [],
   "source": [
    "E = ReferenceFrame('E')  # Vectors"
   ]
  },
  {
   "cell_type": "code",
   "execution_count": null,
   "metadata": {
    "collapsed": true
   },
   "outputs": [],
   "source": [
    "m = symbols('m', positive=True)  # Mass"
   ]
  },
  {
   "cell_type": "code",
   "execution_count": null,
   "metadata": {
    "collapsed": true
   },
   "outputs": [],
   "source": [
    "size = 2\n",
    "phi = symbols('varphi_0:{}'.format(size), real=True)  # Angle [-pi, pi]\n",
    "e = [cos(sym) * E.x + sin(sym) * E.y for sym in phi]  # Unit vectors\n",
    "vphi = symbols('varphi', real=True)  # Angle [-pi, pi]"
   ]
  },
  {
   "cell_type": "markdown",
   "metadata": {
    "collapsed": true
   },
   "source": [
    "# Adjusting force"
   ]
  },
  {
   "cell_type": "markdown",
   "metadata": {},
   "source": [
    "$\\mathbf{f}^{adj} = \\frac{m}{\\tau^{adj}} (v_{0} \\cdot \\hat{\\mathbf{e}} -\\mathbf{v}) $"
   ]
  },
  {
   "cell_type": "code",
   "execution_count": null,
   "metadata": {
    "collapsed": true
   },
   "outputs": [],
   "source": [
    "tau, v0, v = symbols('tau v0 v', positive=True)\n",
    "f_adj = m / tau * (v0 * e[0] -  v * e[1])"
   ]
  },
  {
   "cell_type": "code",
   "execution_count": null,
   "metadata": {
    "collapsed": false
   },
   "outputs": [],
   "source": [
    "f_adj.magnitude().simplify()"
   ]
  },
  {
   "cell_type": "code",
   "execution_count": null,
   "metadata": {
    "collapsed": false
   },
   "outputs": [],
   "source": [
    "_.subs(phi[0]-phi[1], vphi)"
   ]
  },
  {
   "cell_type": "markdown",
   "metadata": {},
   "source": [
    "# Social Force"
   ]
  },
  {
   "cell_type": "markdown",
   "metadata": {},
   "source": [
    "$$\n",
    "\\begin{split}a &= \\tilde{\\mathbf{v}} \\cdot \\tilde{\\mathbf{v}} \\\\\n",
    "b &= -\\tilde{\\mathbf{x}} \\cdot \\tilde{\\mathbf{v}} \\\\\n",
    "c &= \\tilde{\\mathbf{x}} \\cdot \\tilde{\\mathbf{x}} - \\tilde{r}^{2} \\\\\n",
    "d &= \\sqrt{b^{2} - a c} \\\\\n",
    "\\tau &= \\frac{b - d}{a}.\\end{split}\n",
    "$$"
   ]
  },
  {
   "cell_type": "markdown",
   "metadata": {},
   "source": [
    "$$\n",
    "\\begin{split}\\mathbf{f}^{soc} &= -\\nabla_{\\tilde{\\mathbf{x}}} E(\\tau) \\\\\n",
    "&= -\\nabla_{\\tilde{\\mathbf{x}}} \\left(\\frac{k}{\\tau^{2}} \\exp \\left( -\\frac{\\tau}{\\tau_{0}} \\right) \\right) \\\\\n",
    "&= - \\left(\\frac{k}{a \\tau^{2}}\\right) \\left(\\frac{2}{\\tau} + \\frac{1}{\\tau_{0}}\\right) \\exp\\left (-\\frac{\\tau}{\\tau_{0}}\\right ) \\left(\\tilde{\\mathbf{v}} -\\frac{a \\tilde{\\mathbf{x}} + b \\tilde{\\mathbf{v}}}{d} \\right),\\end{split}\n",
    "$$"
   ]
  },
  {
   "cell_type": "code",
   "execution_count": null,
   "metadata": {
    "collapsed": false
   },
   "outputs": [],
   "source": [
    "x, v, r_tot = symbols('x, v, r_tot', positive=True)\n",
    "x2, v2 = x * e[0], v * e[1]\n",
    "a = dot(v2, v2).simplify()\n",
    "b = -dot(x2, v2).simplify()\n",
    "c = dot(x2, x2).simplify() - r_tot**2\n",
    "d = sqrt(b**2 - a * c).simplify()"
   ]
  },
  {
   "cell_type": "markdown",
   "metadata": {},
   "source": [
    "time-to-collision"
   ]
  },
  {
   "cell_type": "code",
   "execution_count": null,
   "metadata": {
    "collapsed": false
   },
   "outputs": [],
   "source": [
    "tau = simplify((b - d) / a)"
   ]
  },
  {
   "cell_type": "code",
   "execution_count": null,
   "metadata": {
    "collapsed": false
   },
   "outputs": [],
   "source": [
    "tau = tau.subs(phi[0]- phi[1], vphi)"
   ]
  },
  {
   "cell_type": "code",
   "execution_count": null,
   "metadata": {
    "collapsed": false
   },
   "outputs": [],
   "source": [
    "tau"
   ]
  },
  {
   "cell_type": "markdown",
   "metadata": {},
   "source": [
    "tau when agents are in head-to-head collision trajectory"
   ]
  },
  {
   "cell_type": "code",
   "execution_count": null,
   "metadata": {
    "collapsed": false
   },
   "outputs": [],
   "source": [
    "tau_min = simplify(tau.subs(vphi, Pi))"
   ]
  },
  {
   "cell_type": "code",
   "execution_count": null,
   "metadata": {
    "collapsed": false
   },
   "outputs": [],
   "source": [
    "tau_min"
   ]
  },
  {
   "cell_type": "code",
   "execution_count": null,
   "metadata": {
    "collapsed": false
   },
   "outputs": [],
   "source": [
    "tau_min.subs({x: R - 2 * t * v_max, v: 2 * v_max, r_tot: 2 * r})"
   ]
  },
  {
   "cell_type": "code",
   "execution_count": null,
   "metadata": {
    "collapsed": false
   },
   "outputs": [],
   "source": [
    "simplify(_)"
   ]
  },
  {
   "cell_type": "markdown",
   "metadata": {},
   "source": [
    "magnitude part of force"
   ]
  },
  {
   "cell_type": "code",
   "execution_count": null,
   "metadata": {
    "collapsed": true
   },
   "outputs": [],
   "source": [
    "tau, tau_0 = symbols('tau tau_0', positive=True)"
   ]
  },
  {
   "cell_type": "code",
   "execution_count": null,
   "metadata": {
    "collapsed": false
   },
   "outputs": [],
   "source": [
    "mag = -1/(a * tau**2) * (2 / tau + 1/ tau_0) * exp(-tau/tau_0)"
   ]
  },
  {
   "cell_type": "code",
   "execution_count": null,
   "metadata": {
    "collapsed": false
   },
   "outputs": [],
   "source": [
    "mag_max = mag.subs(tau, tau_min)"
   ]
  },
  {
   "cell_type": "code",
   "execution_count": null,
   "metadata": {
    "collapsed": false
   },
   "outputs": [],
   "source": [
    "mag_max"
   ]
  },
  {
   "cell_type": "markdown",
   "metadata": {},
   "source": [
    "direction part of force"
   ]
  },
  {
   "cell_type": "code",
   "execution_count": null,
   "metadata": {
    "collapsed": false
   },
   "outputs": [],
   "source": [
    "drc = v2 - (a * x2 + b * v2) / d"
   ]
  },
  {
   "cell_type": "code",
   "execution_count": null,
   "metadata": {
    "collapsed": false
   },
   "outputs": [],
   "source": [
    "drc"
   ]
  },
  {
   "cell_type": "code",
   "execution_count": null,
   "metadata": {
    "collapsed": false
   },
   "outputs": [],
   "source": [
    "drc_max = drc.subs(phi[0], Pi+phi[1])"
   ]
  },
  {
   "cell_type": "code",
   "execution_count": null,
   "metadata": {
    "collapsed": false
   },
   "outputs": [],
   "source": [
    "drc_max"
   ]
  },
  {
   "cell_type": "code",
   "execution_count": null,
   "metadata": {
    "collapsed": false
   },
   "outputs": [],
   "source": [
    "drc_mag = drc_max.magnitude().simplify()"
   ]
  },
  {
   "cell_type": "code",
   "execution_count": null,
   "metadata": {
    "collapsed": false
   },
   "outputs": [],
   "source": [
    "drc_mag"
   ]
  },
  {
   "cell_type": "markdown",
   "metadata": {},
   "source": [
    "total force"
   ]
  },
  {
   "cell_type": "code",
   "execution_count": null,
   "metadata": {
    "collapsed": false
   },
   "outputs": [],
   "source": [
    "f_soc_max = drc_mag * mag_max"
   ]
  },
  {
   "cell_type": "code",
   "execution_count": null,
   "metadata": {
    "collapsed": false
   },
   "outputs": [],
   "source": [
    "f_soc_max"
   ]
  },
  {
   "cell_type": "markdown",
   "metadata": {},
   "source": [
    "neighborhood"
   ]
  },
  {
   "cell_type": "code",
   "execution_count": null,
   "metadata": {
    "collapsed": true
   },
   "outputs": [],
   "source": [
    "r, R, t, v_max = symbols(\"r, R, t, v_max\", positive=True)"
   ]
  },
  {
   "cell_type": "code",
   "execution_count": null,
   "metadata": {
    "collapsed": true
   },
   "outputs": [],
   "source": [
    "vals = {\n",
    "    tau_0: 3,\n",
    "    v: 2 * v_max,\n",
    "    r_tot: 2 * r,\n",
    "    x: R - 2 * t * v_max\n",
    "}"
   ]
  },
  {
   "cell_type": "code",
   "execution_count": null,
   "metadata": {
    "collapsed": false
   },
   "outputs": [],
   "source": [
    "vals"
   ]
  },
  {
   "cell_type": "code",
   "execution_count": null,
   "metadata": {
    "collapsed": false
   },
   "outputs": [],
   "source": [
    "f_neigh_max = -f_soc_max.subs(vals)"
   ]
  },
  {
   "cell_type": "code",
   "execution_count": null,
   "metadata": {
    "collapsed": false
   },
   "outputs": [],
   "source": [
    "f_neigh_max"
   ]
  },
  {
   "cell_type": "code",
   "execution_count": null,
   "metadata": {
    "collapsed": true
   },
   "outputs": [],
   "source": [
    "vals2 = {\n",
    "    v_max: 1.0,\n",
    "    r: 0.255,\n",
    "    t: 20 * 0.01\n",
    "}"
   ]
  },
  {
   "cell_type": "code",
   "execution_count": null,
   "metadata": {
    "collapsed": false
   },
   "outputs": [],
   "source": [
    "err = f_neigh_max.subs(vals2)"
   ]
  },
  {
   "cell_type": "code",
   "execution_count": null,
   "metadata": {
    "collapsed": false
   },
   "outputs": [],
   "source": [
    "err"
   ]
  },
  {
   "cell_type": "code",
   "execution_count": null,
   "metadata": {
    "collapsed": false
   },
   "outputs": [],
   "source": [
    "f = lambdify(R, err, \"numpy\")"
   ]
  },
  {
   "cell_type": "code",
   "execution_count": null,
   "metadata": {
    "collapsed": false
   },
   "outputs": [],
   "source": [
    "R2 = np.linspace(3, 7)\n",
    "plt.plot(R2, f(R2))"
   ]
  },
  {
   "cell_type": "markdown",
   "metadata": {},
   "source": [
    "neighsize"
   ]
  },
  {
   "cell_type": "code",
   "execution_count": null,
   "metadata": {
    "collapsed": true
   },
   "outputs": [],
   "source": [
    "def neigh_size(R, r, rho):\n",
    "    return rho * (R / r) ** 2"
   ]
  },
  {
   "cell_type": "code",
   "execution_count": null,
   "metadata": {
    "collapsed": false
   },
   "outputs": [],
   "source": [
    "plt.plot(R2, neigh_size(R2, 0.255, 0.70))"
   ]
  },
  {
   "cell_type": "markdown",
   "metadata": {},
   "source": [
    "# Contact Force"
   ]
  },
  {
   "cell_type": "code",
   "execution_count": null,
   "metadata": {
    "collapsed": true
   },
   "outputs": [],
   "source": []
  },
  {
   "cell_type": "markdown",
   "metadata": {},
   "source": [
    "$$\n",
    "\\begin{split}\\mathbf{f}^{c} = - h \\cdot \\left(\\mu \\cdot \\hat{\\mathbf{n}} - \\kappa \\cdot (\\mathbf{v} \\cdot \\hat{\\mathbf{t}}) \\hat{\\mathbf{t}}\\right) + c_{n} \\cdot (\\mathbf{v} \\cdot \\hat{\\mathbf{n}}) \\hat{\\mathbf{n}} , \\quad h < 0\\end{split}\n",
    "$$"
   ]
  },
  {
   "cell_type": "markdown",
   "metadata": {},
   "source": [
    "# Time-to-collision for circle and three circle model"
   ]
  },
  {
   "cell_type": "code",
   "execution_count": 7,
   "metadata": {
    "collapsed": true
   },
   "outputs": [],
   "source": [
    "# Reference frame for creating vectors \n",
    "E = ReferenceFrame('E')  \n",
    "# Relative position and velocity\n",
    "x, v = symbols((\"x_0:2\", \"v_0:2\"), real=True)  \n",
    "# Time to collision\n",
    "tau = symbols(\"tau\", positive=True)  \n",
    "tau0 = symbols(\"tau0\", positive=True)  \n",
    "# Major and minor axes of the ellipse\n",
    "r, r_t, r_s, r_ts = symbols(\"r r_t r_s r_ts\", positive=True)\n",
    "# Body angle of the agent\n",
    "phi = symbols(\"varphi\", real=True)"
   ]
  },
  {
   "cell_type": "code",
   "execution_count": 8,
   "metadata": {
    "collapsed": false
   },
   "outputs": [
    {
     "data": {
      "text/latex": [
       "$$-  \\operatorname{sin}\\left(\\varphi\\right)\\mathbf{\\hat{e}_x} + \\operatorname{cos}\\left(\\varphi\\right)\\mathbf{\\hat{e}_y}$$"
      ],
      "text/plain": [
       "- sin(varphi) e_x + cos(varphi) e_y"
      ]
     },
     "execution_count": 8,
     "metadata": {},
     "output_type": "execute_result"
    }
   ],
   "source": [
    "# Vector pointing to direction of agents body angle\n",
    "tangent = -sin(phi) * E.x + cos(phi) * E.y  # Normal vector\n",
    "tangent"
   ]
  },
  {
   "cell_type": "code",
   "execution_count": 9,
   "metadata": {
    "collapsed": false
   },
   "outputs": [],
   "source": [
    "x2 = x[0] * E.x + x[1] * E.y"
   ]
  },
  {
   "cell_type": "code",
   "execution_count": 10,
   "metadata": {
    "collapsed": false
   },
   "outputs": [],
   "source": [
    "v2 = v[0] * E.x + v[1] * E.y"
   ]
  },
  {
   "cell_type": "code",
   "execution_count": 11,
   "metadata": {
    "collapsed": false
   },
   "outputs": [],
   "source": [
    "a = dot(v2, v2)"
   ]
  },
  {
   "cell_type": "code",
   "execution_count": 12,
   "metadata": {
    "collapsed": false
   },
   "outputs": [],
   "source": [
    "b = -dot(x2, v2)"
   ]
  },
  {
   "cell_type": "code",
   "execution_count": 13,
   "metadata": {
    "collapsed": false
   },
   "outputs": [],
   "source": [
    "c = dot(x2, x2) - r**2"
   ]
  },
  {
   "cell_type": "code",
   "execution_count": 14,
   "metadata": {
    "collapsed": false
   },
   "outputs": [],
   "source": [
    "d = sqrt(b**2 - a * c)"
   ]
  },
  {
   "cell_type": "code",
   "execution_count": 15,
   "metadata": {
    "collapsed": false
   },
   "outputs": [],
   "source": [
    "tau = (b - d) / a"
   ]
  },
  {
   "cell_type": "code",
   "execution_count": 16,
   "metadata": {
    "collapsed": false
   },
   "outputs": [
    {
     "data": {
      "text/latex": [
       "$$\\frac{1}{v_{0}^{2} + v_{1}^{2}} \\left(- v_{0} x_{0} - v_{1} x_{1} - \\sqrt{- \\left(v_{0}^{2} + v_{1}^{2}\\right) \\left(- r^{2} + x_{0}^{2} + x_{1}^{2}\\right) + \\left(- v_{0} x_{0} - v_{1} x_{1}\\right)^{2}}\\right)$$"
      ],
      "text/plain": [
       "                    ______________________________________________________\n",
       "                   ╱   ⎛  2     2⎞ ⎛   2     2     2⎞                   2 \n",
       "-v₀⋅x₀ - v₁⋅x₁ - ╲╱  - ⎝v₀  + v₁ ⎠⋅⎝- r  + x₀  + x₁ ⎠ + (-v₀⋅x₀ - v₁⋅x₁)  \n",
       "──────────────────────────────────────────────────────────────────────────\n",
       "                                  2     2                                 \n",
       "                                v₀  + v₁                                  "
      ]
     },
     "execution_count": 16,
     "metadata": {},
     "output_type": "execute_result"
    }
   ],
   "source": [
    "tau"
   ]
  },
  {
   "cell_type": "code",
   "execution_count": 17,
   "metadata": {
    "collapsed": false
   },
   "outputs": [
    {
     "data": {
      "text/latex": [
       "$$(- r_{ts} \\operatorname{sin}\\left(\\varphi\\right) + x_{0})\\mathbf{\\hat{e}_x} + (r_{ts} \\operatorname{cos}\\left(\\varphi\\right) + x_{1})\\mathbf{\\hat{e}_y}$$"
      ],
      "text/plain": [
       "(-rₜₛ⋅sin(varphi) + x₀) e_x + (rₜₛ⋅cos(varphi) + x₁) e_y"
      ]
     },
     "execution_count": 17,
     "metadata": {},
     "output_type": "execute_result"
    }
   ],
   "source": [
    "x2 + r_ts * tangent"
   ]
  },
  {
   "cell_type": "code",
   "execution_count": 18,
   "metadata": {
    "collapsed": false
   },
   "outputs": [
    {
     "data": {
      "text/latex": [
       "$$r_{ts}^{2} - 2 r_{ts} x_{0} \\sin{\\left (\\varphi \\right )} + 2 r_{ts} x_{1} \\cos{\\left (\\varphi \\right )} + x_{0}^{2} + x_{1}^{2}$$"
      ],
      "text/plain": [
       "   2                                                   2     2\n",
       "rₜₛ  - 2⋅rₜₛ⋅x₀⋅sin(varphi) + 2⋅rₜₛ⋅x₁⋅cos(varphi) + x₀  + x₁ "
      ]
     },
     "execution_count": 18,
     "metadata": {},
     "output_type": "execute_result"
    }
   ],
   "source": [
    "(_.magnitude()**2).expand().simplify()"
   ]
  },
  {
   "cell_type": "code",
   "execution_count": 22,
   "metadata": {
    "collapsed": false
   },
   "outputs": [
    {
     "data": {
      "text/latex": [
       "$$- 2 v_{0} \\left(- v_{0} x_{0} - v_{1} x_{1}\\right)$$"
      ],
      "text/plain": [
       "-2⋅v₀⋅(-v₀⋅x₀ - v₁⋅x₁)"
      ]
     },
     "execution_count": 22,
     "metadata": {},
     "output_type": "execute_result"
    }
   ],
   "source": [
    "diff(b**2, x[0])"
   ]
  },
  {
   "cell_type": "markdown",
   "metadata": {},
   "source": [
    "# Time-to-collision for ellipse"
   ]
  },
  {
   "cell_type": "code",
   "execution_count": 72,
   "metadata": {
    "collapsed": true
   },
   "outputs": [],
   "source": [
    "# Reference frame for creating vectors \n",
    "E = ReferenceFrame('E')  \n",
    "# Relative position and velocity\n",
    "x, v = symbols((\"x_0:2\", \"v_0:2\"), real=True)  \n",
    "# Time to collision\n",
    "tau = symbols(\"tau\", positive=True)  \n",
    "# Major and minor axes of the ellipse\n",
    "r, r_t = symbols(\"r r_t\", positive=True)\n",
    "# Body angle of the agent\n",
    "phi = symbols(\"varphi\", real=True)"
   ]
  },
  {
   "cell_type": "code",
   "execution_count": 73,
   "metadata": {
    "collapsed": false
   },
   "outputs": [
    {
     "data": {
      "text/latex": [
       "$$\\operatorname{cos}\\left(\\varphi\\right)\\mathbf{\\hat{e}_x} + \\operatorname{sin}\\left(\\varphi\\right)\\mathbf{\\hat{e}_y}$$"
      ],
      "text/plain": [
       "cos(varphi) e_x + sin(varphi) e_y"
      ]
     },
     "execution_count": 73,
     "metadata": {},
     "output_type": "execute_result"
    }
   ],
   "source": [
    "# Vector pointing to direction of agents body angle\n",
    "normal = cos(phi) * E.x + sin(phi) * E.y  # Normal vector\n",
    "normal"
   ]
  },
  {
   "cell_type": "code",
   "execution_count": 74,
   "metadata": {
    "collapsed": false
   },
   "outputs": [
    {
     "data": {
      "text/latex": [
       "$$(\\tau v_{0} + x_{0})\\mathbf{\\hat{e}_x} + (\\tau v_{1} + x_{1})\\mathbf{\\hat{e}_y}$$"
      ],
      "text/plain": [
       "(τ⋅v₀ + x₀) e_x + (τ⋅v₁ + x₁) e_y"
      ]
     },
     "execution_count": 74,
     "metadata": {},
     "output_type": "execute_result"
    }
   ],
   "source": [
    "# Center of mass of the agent through time (tau)\n",
    "center = x[0] * E.x + x[1] * E.y + tau * (v[0] * E.x + v[1] * E.y)\n",
    "center"
   ]
  },
  {
   "cell_type": "code",
   "execution_count": 75,
   "metadata": {
    "collapsed": false
   },
   "outputs": [
    {
     "data": {
      "text/latex": [
       "$$r_{t} \\left(\\left(\\tau v_{0} + x_{0}\\right) \\operatorname{cos}\\left(\\varphi\\right) + \\left(\\tau v_{1} + x_{1}\\right) \\operatorname{sin}\\left(\\varphi\\right)\\right)\\mathbf{\\hat{e}_x} + r \\left|{\\left(\\tau v_{0} + x_{0}\\right) \\operatorname{sin}\\left(\\varphi\\right) - \\left(\\tau v_{1} + x_{1}\\right) \\operatorname{cos}\\left(\\varphi\\right)}\\right|\\mathbf{\\hat{e}_y}$$"
      ],
      "text/plain": [
       "rₜ⋅((τ⋅v₀ + x₀)⋅cos(varphi) + (τ⋅v₁ + x₁)⋅sin(varphi)) e_x + r⋅│(τ⋅v₀ + x₀)⋅sin(varphi) - (τ⋅v₁ + x₁)⋅cos(varphi)│ e_y"
      ]
     },
     "execution_count": 75,
     "metadata": {},
     "output_type": "execute_result"
    }
   ],
   "source": [
    "# Agents radius vector through time at the direction of relative position\n",
    "radius = r_t * dot(center, normal) * E.x + \\\n",
    "         r * cross(center, normal).magnitude() * E.y\n",
    "radius"
   ]
  },
  {
   "cell_type": "code",
   "execution_count": 76,
   "metadata": {
    "collapsed": false
   },
   "outputs": [
    {
     "data": {
      "text/latex": [
       "$$r^{2} \\left(\\left(\\tau v_{0} + x_{0}\\right) \\sin{\\left (\\varphi \\right )} - \\left(\\tau v_{1} + x_{1}\\right) \\cos{\\left (\\varphi \\right )}\\right)^{2} + r_{t}^{2} \\left(\\left(\\tau v_{0} + x_{0}\\right) \\cos{\\left (\\varphi \\right )} + \\left(\\tau v_{1} + x_{1}\\right) \\sin{\\left (\\varphi \\right )}\\right)^{2}$$"
      ],
      "text/plain": [
       " 2                                                    2     2                 \n",
       "r ⋅((τ⋅v₀ + x₀)⋅sin(varphi) - (τ⋅v₁ + x₁)⋅cos(varphi))  + rₜ ⋅((τ⋅v₀ + x₀)⋅cos\n",
       "\n",
       "                                   2\n",
       "(varphi) + (τ⋅v₁ + x₁)⋅sin(varphi)) "
      ]
     },
     "execution_count": 76,
     "metadata": {},
     "output_type": "execute_result"
    }
   ],
   "source": [
    "# Actual radius is the magnitude of the radius vector\n",
    "radius2 = radius.magnitude()**2\n",
    "radius2"
   ]
  },
  {
   "cell_type": "code",
   "execution_count": 77,
   "metadata": {
    "collapsed": false
   },
   "outputs": [
    {
     "data": {
      "text/latex": [
       "$$r^{2} x_{0}^{2} \\sin^{2}{\\left (\\varphi \\right )} - 2 r^{2} x_{0} x_{1} \\sin{\\left (\\varphi \\right )} \\cos{\\left (\\varphi \\right )} + r^{2} x_{1}^{2} \\cos^{2}{\\left (\\varphi \\right )} + r_{t}^{2} x_{0}^{2} \\cos^{2}{\\left (\\varphi \\right )} + 2 r_{t}^{2} x_{0} x_{1} \\sin{\\left (\\varphi \\right )} \\cos{\\left (\\varphi \\right )} + r_{t}^{2} x_{1}^{2} \\sin^{2}{\\left (\\varphi \\right )} + \\tau^{2} \\left(r^{2} v_{0}^{2} \\sin^{2}{\\left (\\varphi \\right )} - 2 r^{2} v_{0} v_{1} \\sin{\\left (\\varphi \\right )} \\cos{\\left (\\varphi \\right )} + r^{2} v_{1}^{2} \\cos^{2}{\\left (\\varphi \\right )} + r_{t}^{2} v_{0}^{2} \\cos^{2}{\\left (\\varphi \\right )} + 2 r_{t}^{2} v_{0} v_{1} \\sin{\\left (\\varphi \\right )} \\cos{\\left (\\varphi \\right )} + r_{t}^{2} v_{1}^{2} \\sin^{2}{\\left (\\varphi \\right )}\\right) + \\tau \\left(2 r^{2} v_{0} x_{0} \\sin^{2}{\\left (\\varphi \\right )} - 2 r^{2} v_{0} x_{1} \\sin{\\left (\\varphi \\right )} \\cos{\\left (\\varphi \\right )} - 2 r^{2} v_{1} x_{0} \\sin{\\left (\\varphi \\right )} \\cos{\\left (\\varphi \\right )} + 2 r^{2} v_{1} x_{1} \\cos^{2}{\\left (\\varphi \\right )} + 2 r_{t}^{2} v_{0} x_{0} \\cos^{2}{\\left (\\varphi \\right )} + 2 r_{t}^{2} v_{0} x_{1} \\sin{\\left (\\varphi \\right )} \\cos{\\left (\\varphi \\right )} + 2 r_{t}^{2} v_{1} x_{0} \\sin{\\left (\\varphi \\right )} \\cos{\\left (\\varphi \\right )} + 2 r_{t}^{2} v_{1} x_{1} \\sin^{2}{\\left (\\varphi \\right )}\\right)$$"
      ],
      "text/plain": [
       " 2   2    2              2                                  2   2    2        \n",
       "r ⋅x₀ ⋅sin (varphi) - 2⋅r ⋅x₀⋅x₁⋅sin(varphi)⋅cos(varphi) + r ⋅x₁ ⋅cos (varphi)\n",
       "\n",
       "     2   2    2               2                                   2   2    2  \n",
       " + rₜ ⋅x₀ ⋅cos (varphi) + 2⋅rₜ ⋅x₀⋅x₁⋅sin(varphi)⋅cos(varphi) + rₜ ⋅x₁ ⋅sin (v\n",
       "\n",
       "          2 ⎛ 2   2    2              2                                  2   2\n",
       "arphi) + τ ⋅⎝r ⋅v₀ ⋅sin (varphi) - 2⋅r ⋅v₀⋅v₁⋅sin(varphi)⋅cos(varphi) + r ⋅v₁ \n",
       "\n",
       "    2             2   2    2               2                                  \n",
       "⋅cos (varphi) + rₜ ⋅v₀ ⋅cos (varphi) + 2⋅rₜ ⋅v₀⋅v₁⋅sin(varphi)⋅cos(varphi) + r\n",
       "\n",
       " 2   2    2        ⎞     ⎛   2          2              2                      \n",
       "ₜ ⋅v₁ ⋅sin (varphi)⎠ + τ⋅⎝2⋅r ⋅v₀⋅x₀⋅sin (varphi) - 2⋅r ⋅v₀⋅x₁⋅sin(varphi)⋅cos\n",
       "\n",
       "              2                                    2          2               \n",
       "(varphi) - 2⋅r ⋅v₁⋅x₀⋅sin(varphi)⋅cos(varphi) + 2⋅r ⋅v₁⋅x₁⋅cos (varphi) + 2⋅rₜ\n",
       "\n",
       "2          2               2                                     2            \n",
       " ⋅v₀⋅x₀⋅cos (varphi) + 2⋅rₜ ⋅v₀⋅x₁⋅sin(varphi)⋅cos(varphi) + 2⋅rₜ ⋅v₁⋅x₀⋅sin(v\n",
       "\n",
       "                         2          2        ⎞\n",
       "arphi)⋅cos(varphi) + 2⋅rₜ ⋅v₁⋅x₁⋅sin (varphi)⎠"
      ]
     },
     "execution_count": 77,
     "metadata": {},
     "output_type": "execute_result"
    }
   ],
   "source": [
    "radius2.expand().collect(tau)"
   ]
  },
  {
   "cell_type": "code",
   "execution_count": 78,
   "metadata": {
    "collapsed": false
   },
   "outputs": [
    {
     "data": {
      "text/latex": [
       "$$\\left ( \\left [ \\left ( x_{0}, \\quad x_{0}^{2}\\right ), \\quad \\left ( x_{1}, \\quad r^{2}\\right ), \\quad \\left ( x_{2}, \\quad \\sin{\\left (\\varphi \\right )}\\right ), \\quad \\left ( x_{3}, \\quad x_{2}^{2}\\right ), \\quad \\left ( x_{4}, \\quad x_{1} x_{3}\\right ), \\quad \\left ( x_{5}, \\quad x_{1}^{2}\\right ), \\quad \\left ( x_{6}, \\quad \\cos{\\left (\\varphi \\right )}\\right ), \\quad \\left ( x_{7}, \\quad x_{6}^{2}\\right ), \\quad \\left ( x_{8}, \\quad x_{1} x_{7}\\right ), \\quad \\left ( x_{9}, \\quad r_{t}^{2}\\right ), \\quad \\left ( x_{10}, \\quad x_{7} x_{9}\\right ), \\quad \\left ( x_{11}, \\quad x_{3} x_{9}\\right ), \\quad \\left ( x_{12}, \\quad x_{0} x_{1}\\right ), \\quad \\left ( x_{13}, \\quad 2 x_{1} x_{2} x_{6}\\right ), \\quad \\left ( x_{14}, \\quad 2 x_{2} x_{6} x_{9}\\right ), \\quad \\left ( x_{15}, \\quad v_{0}^{2}\\right ), \\quad \\left ( x_{16}, \\quad v_{1}^{2}\\right ), \\quad \\left ( x_{17}, \\quad v_{0} v_{1}\\right ), \\quad \\left ( x_{18}, \\quad v_{0} x_{0}\\right ), \\quad \\left ( x_{19}, \\quad v_{1} x_{1}\\right ), \\quad \\left ( x_{20}, \\quad v_{0} x_{1}\\right ), \\quad \\left ( x_{21}, \\quad x_{2} x_{6} x_{9}\\right ), \\quad \\left ( x_{22}, \\quad v_{1} x_{0}\\right ), \\quad \\left ( x_{23}, \\quad x_{1} x_{2} x_{6}\\right )\\right ], \\quad \\left [ \\tau^{2} \\left(x_{10} x_{15} + x_{11} x_{16} - x_{13} x_{17} + x_{14} x_{17} + x_{15} x_{4} + x_{16} x_{8}\\right) + 2 \\tau \\left(x_{10} x_{18} + x_{11} x_{19} + x_{18} x_{4} + x_{19} x_{8} + x_{20} x_{21} - x_{20} x_{23} + x_{21} x_{22} - x_{22} x_{23}\\right) + x_{0} x_{10} + x_{0} x_{4} + x_{11} x_{5} - x_{12} x_{13} + x_{12} x_{14} + x_{5} x_{8}\\right ]\\right )$$"
      ],
      "text/plain": [
       "⎛⎡⎛      2⎞  ⎛     2⎞                     ⎛      2⎞               ⎛      2⎞   \n",
       "⎝⎣⎝x₀, x₀ ⎠, ⎝x₁, r ⎠, (x₂, sin(varphi)), ⎝x₃, x₂ ⎠, (x₄, x₁⋅x₃), ⎝x₅, x₁ ⎠, (\n",
       "\n",
       "                  ⎛      2⎞               ⎛      2⎞                           \n",
       "x₆, cos(varphi)), ⎝x₇, x₆ ⎠, (x₈, x₁⋅x₇), ⎝x₉, rₜ ⎠, (x₁₀, x₇⋅x₉), (x₁₁, x₃⋅x₉\n",
       "\n",
       "                                                       ⎛       2⎞  ⎛       2⎞ \n",
       "), (x₁₂, x₀⋅x₁), (x₁₃, 2⋅x₁⋅x₂⋅x₆), (x₁₄, 2⋅x₂⋅x₆⋅x₉), ⎝x₁₅, v₀ ⎠, ⎝x₁₆, v₁ ⎠,\n",
       "\n",
       "                                                                              \n",
       " (x₁₇, v₀⋅v₁), (x₁₈, v₀⋅x₀), (x₁₉, v₁⋅x₁), (x₂₀, v₀⋅x₁), (x₂₁, x₂⋅x₆⋅x₉), (x₂₂\n",
       "\n",
       "                         ⎤  ⎡ 2                                               \n",
       ", v₁⋅x₀), (x₂₃, x₁⋅x₂⋅x₆)⎦, ⎣τ ⋅(x₁₀⋅x₁₅ + x₁₁⋅x₁₆ - x₁₃⋅x₁₇ + x₁₄⋅x₁₇ + x₁₅⋅x\n",
       "\n",
       "                                                                              \n",
       "₄ + x₁₆⋅x₈) + 2⋅τ⋅(x₁₀⋅x₁₈ + x₁₁⋅x₁₉ + x₁₈⋅x₄ + x₁₉⋅x₈ + x₂₀⋅x₂₁ - x₂₀⋅x₂₃ + x\n",
       "\n",
       "                                                                       ⎤⎞\n",
       "₂₁⋅x₂₂ - x₂₂⋅x₂₃) + x₀⋅x₁₀ + x₀⋅x₄ + x₁₁⋅x₅ - x₁₂⋅x₁₃ + x₁₂⋅x₁₄ + x₅⋅x₈⎦⎠"
      ]
     },
     "execution_count": 78,
     "metadata": {},
     "output_type": "execute_result"
    }
   ],
   "source": [
    "cse(_, optimizations='basic')  # Common sub-expression"
   ]
  },
  {
   "cell_type": "markdown",
   "metadata": {},
   "source": [
    "Approximating radius"
   ]
  },
  {
   "cell_type": "code",
   "execution_count": 79,
   "metadata": {
    "collapsed": true
   },
   "outputs": [],
   "source": [
    "c = symbols(\"c_0:3\", real=True)"
   ]
  },
  {
   "cell_type": "code",
   "execution_count": 80,
   "metadata": {
    "collapsed": false
   },
   "outputs": [
    {
     "data": {
      "text/latex": [
       "$$\\sqrt{c_{0} + c_{1} \\tau + c_{2} \\tau^{2}}$$"
      ],
      "text/plain": [
       "   ___________________\n",
       "  ╱                 2 \n",
       "╲╱  c₀ + c₁⋅τ + c₂⋅τ  "
      ]
     },
     "execution_count": 80,
     "metadata": {},
     "output_type": "execute_result"
    }
   ],
   "source": [
    "# Radius can be represented in form\n",
    "ellipse = sqrt(c[0] + c[1] * tau + c[2] * tau**2)\n",
    "ellipse"
   ]
  },
  {
   "cell_type": "code",
   "execution_count": 81,
   "metadata": {
    "collapsed": false
   },
   "outputs": [
    {
     "data": {
      "text/latex": [
       "$$\\frac{\\frac{c_{1}}{2} + c_{2} \\tau}{\\sqrt{c_{0} + c_{1} \\tau + c_{2} \\tau^{2}}}$$"
      ],
      "text/plain": [
       "      c₁              \n",
       "      ── + c₂⋅τ       \n",
       "      2               \n",
       "──────────────────────\n",
       "   ___________________\n",
       "  ╱                 2 \n",
       "╲╱  c₀ + c₁⋅τ + c₂⋅τ  "
      ]
     },
     "execution_count": 81,
     "metadata": {},
     "output_type": "execute_result"
    }
   ],
   "source": [
    "ellipse.diff(tau)"
   ]
  },
  {
   "cell_type": "code",
   "execution_count": 82,
   "metadata": {
    "collapsed": false
   },
   "outputs": [
    {
     "data": {
      "text/latex": [
       "$$\\frac{1}{\\sqrt{c_{0} + c_{1} \\tau + c_{2} \\tau^{2}}} \\left(c_{2} - \\frac{\\left(c_{1} + 2 c_{2} \\tau\\right)^{2}}{4 c_{0} + 4 c_{1} \\tau + 4 c_{2} \\tau^{2}}\\right)$$"
      ],
      "text/plain": [
       "                      2   \n",
       "         (c₁ + 2⋅c₂⋅τ)    \n",
       "c₂ - ─────────────────────\n",
       "       ⎛                2⎞\n",
       "     4⋅⎝c₀ + c₁⋅τ + c₂⋅τ ⎠\n",
       "──────────────────────────\n",
       "     ___________________  \n",
       "    ╱                 2   \n",
       "  ╲╱  c₀ + c₁⋅τ + c₂⋅τ    "
      ]
     },
     "execution_count": 82,
     "metadata": {},
     "output_type": "execute_result"
    }
   ],
   "source": [
    "ellipse.diff(tau, 2)"
   ]
  }
 ],
 "metadata": {
  "kernelspec": {
   "display_name": "Python 3.4",
   "language": "python",
   "name": "python34"
  },
  "language_info": {
   "codemirror_mode": {
    "name": "ipython",
    "version": 3
   },
   "file_extension": ".py",
   "mimetype": "text/x-python",
   "name": "python",
   "nbconvert_exporter": "python",
   "pygments_lexer": "ipython3",
   "version": "3.4.5"
  }
 },
 "nbformat": 4,
 "nbformat_minor": 0
}
