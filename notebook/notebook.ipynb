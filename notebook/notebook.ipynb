{
 "cells": [
  {
   "cell_type": "markdown",
   "metadata": {},
   "source": [
    "**Library Imports**"
   ]
  },
  {
   "cell_type": "code",
   "execution_count": 1,
   "metadata": {
    "collapsed": true
   },
   "outputs": [],
   "source": [
    "from __future__ import absolute_import\n",
    "from __future__ import division\n",
    "from __future__ import print_function\n",
    "from __future__ import unicode_literals"
   ]
  },
  {
   "cell_type": "code",
   "execution_count": 2,
   "metadata": {
    "collapsed": false
   },
   "outputs": [
    {
     "name": "stdout",
     "output_type": "stream",
     "text": [
      "3.4.4 |Anaconda 2.4.0 (64-bit)| (default, Jan 11 2016, 13:54:01) \n",
      "[GCC 4.4.7 20120313 (Red Hat 4.4.7-1)]\n"
     ]
    }
   ],
   "source": [
    "import os\n",
    "import sys\n",
    "print(sys.version)   # Python version information"
   ]
  },
  {
   "cell_type": "code",
   "execution_count": 3,
   "metadata": {
    "collapsed": true
   },
   "outputs": [],
   "source": [
    "from sympy import *  # Symbolic mathematics\n",
    "import sympy"
   ]
  },
  {
   "cell_type": "code",
   "execution_count": 4,
   "metadata": {
    "collapsed": true
   },
   "outputs": [],
   "source": [
    "import numpy as np   # N-Dimensional arrays and numerical routines\n",
    "import pandas as pd  # Data structures and data analysis tools\n",
    "import scipy         # Numerical routines"
   ]
  },
  {
   "cell_type": "code",
   "execution_count": 5,
   "metadata": {
    "collapsed": true
   },
   "outputs": [],
   "source": [
    "#import numba        # Decorators for speeding up python functions"
   ]
  },
  {
   "cell_type": "code",
   "execution_count": 6,
   "metadata": {
    "collapsed": true
   },
   "outputs": [],
   "source": [
    "#from astropy import constants  # Physical Constants\n",
    "#from astropy import units      # Physical Units"
   ]
  },
  {
   "cell_type": "code",
   "execution_count": 7,
   "metadata": {
    "collapsed": true
   },
   "outputs": [],
   "source": [
    "import matplotlib as mpl  # Standard plotting library\n",
    "import matplotlib.pyplot as plt \n",
    "import seaborn as sns     # Statistical plotting and improved plot style\n",
    "#import bokeh             # Interactive visualization library"
   ]
  },
  {
   "cell_type": "code",
   "execution_count": 8,
   "metadata": {
    "collapsed": true
   },
   "outputs": [],
   "source": [
    "from sympy.utilities.autowrap import ufuncify  # Creates numerical methods \n",
    "                                               # from symbolic expressions"
   ]
  },
  {
   "cell_type": "code",
   "execution_count": 9,
   "metadata": {
    "collapsed": true
   },
   "outputs": [],
   "source": [
    "from sympy import abc       # Symbolic variables\n",
    "from sympy import pi as Pi  # Symbolic pi\n",
    "from sympy import I as I    # Symbolic imaginary unit"
   ]
  },
  {
   "cell_type": "markdown",
   "metadata": {},
   "source": [
    "**Display**"
   ]
  },
  {
   "cell_type": "code",
   "execution_count": 10,
   "metadata": {
    "collapsed": true
   },
   "outputs": [],
   "source": [
    "from IPython.display import display"
   ]
  },
  {
   "cell_type": "code",
   "execution_count": 11,
   "metadata": {
    "collapsed": false
   },
   "outputs": [],
   "source": [
    "from IPython.display import set_matplotlib_formats  \n",
    "set_matplotlib_formats('pdf', 'png')"
   ]
  },
  {
   "cell_type": "code",
   "execution_count": 12,
   "metadata": {
    "collapsed": true
   },
   "outputs": [],
   "source": [
    "import ipywidgets"
   ]
  },
  {
   "cell_type": "markdown",
   "metadata": {},
   "source": [
    "**Settings & Options**"
   ]
  },
  {
   "cell_type": "code",
   "execution_count": 67,
   "metadata": {
    "collapsed": false
   },
   "outputs": [],
   "source": [
    "np.set_printoptions(precision=5, threshold=100, edgeitems=3, linewidth=75, \n",
    "                    suppress=False, nanstr=None, infstr=None, \n",
    "                    formatter=None)"
   ]
  },
  {
   "cell_type": "code",
   "execution_count": 14,
   "metadata": {
    "collapsed": false
   },
   "outputs": [],
   "source": [
    "pandas_options = {'display.chop_threshold': None,\n",
    "                  'display.precision': 4,\n",
    "                  'display.max_columns': 8,\n",
    "                  'display.max_rows': 8,\n",
    "                  'display.max_info_columns': 8,\n",
    "                  'display.max_info_rows': 8}\n",
    "for key, val in pandas_options.items():\n",
    "    pd.set_option(key, val)"
   ]
  },
  {
   "cell_type": "code",
   "execution_count": 15,
   "metadata": {
    "collapsed": true
   },
   "outputs": [],
   "source": [
    "sympy.interactive.printing.init_printing(use_latex='mathjax')"
   ]
  },
  {
   "cell_type": "code",
   "execution_count": 16,
   "metadata": {
    "collapsed": false
   },
   "outputs": [],
   "source": [
    "# os.system('ipython nbconvert --to pdf {filename}.ipynb')"
   ]
  },
  {
   "cell_type": "markdown",
   "metadata": {},
   "source": [
    "**Custom functions**"
   ]
  },
  {
   "cell_type": "code",
   "execution_count": 17,
   "metadata": {
    "collapsed": false
   },
   "outputs": [
    {
     "name": "stdout",
     "output_type": "stream",
     "text": [
      "/home/jaan/Dropbox/Projects/Social-Force/notebook\n"
     ]
    }
   ],
   "source": [
    "latex_path = os.path.join(os.getcwd(), 'latex', 'figures')\n",
    "def figure_path(fname): \n",
    "    return os.path.join(latex_path, fname)\n",
    "print(os.getcwd())"
   ]
  },
  {
   "cell_type": "markdown",
   "metadata": {},
   "source": [
    "**Resources**"
   ]
  },
  {
   "cell_type": "markdown",
   "metadata": {},
   "source": [
    "- [Simulating dynamical features of escape panic](http://www.nature.com/nature/journal/v407/n6803/full/407487a0.html)\n",
    "\n",
    "- [Patient and impatient pedestrians in a spatial game for egress congestion](http://journals.aps.org/pre/abstract/10.1103/PhysRevE.87.012802)\n",
    "\n",
    "- [Power Law](http://motion.cs.umn.edu/PowerLaw/)\n",
    "\n",
    "- [Universal Power Law Governing Pedestrian Interactions](http://journals.aps.org/prl/abstract/10.1103/PhysRevLett.113.238701)\n"
   ]
  },
  {
   "cell_type": "markdown",
   "metadata": {},
   "source": []
  },
  {
   "cell_type": "code",
   "execution_count": 52,
   "metadata": {
    "collapsed": false
   },
   "outputs": [
    {
     "data": {
      "text/latex": [
       "$$\\left ( x, \\quad v, \\quad w, \\quad m, \\quad k, \\quad a, \\quad b, \\quad c, \\quad d\\right )$$"
      ],
      "text/plain": [
       "(x, v, w, m, k, a, b, c, d)"
      ]
     },
     "execution_count": 52,
     "metadata": {},
     "output_type": "execute_result"
    }
   ],
   "source": [
    "var('x v w m k a b c d')"
   ]
  },
  {
   "cell_type": "code",
   "execution_count": 53,
   "metadata": {
    "collapsed": true
   },
   "outputs": [],
   "source": [
    "t, t0 = var('tau tau_0')"
   ]
  },
  {
   "cell_type": "code",
   "execution_count": 54,
   "metadata": {
    "collapsed": false
   },
   "outputs": [
    {
     "data": {
      "text/latex": [
       "$$\\frac{k}{a} \\tau^{- m} \\left(v - \\frac{1}{d} \\left(- a w + b v\\right)\\right) \\left(\\frac{m}{\\tau} + \\frac{1}{\\tau_{0}}\\right) e^{- \\frac{\\tau}{\\tau_{0}}}$$"
      ],
      "text/plain": [
       "                                 -τ \n",
       "                                 ───\n",
       "   -m ⎛    -a⋅w + b⋅v⎞ ⎛m   1 ⎞   τ₀\n",
       "k⋅τ  ⋅⎜v - ──────────⎟⋅⎜─ + ──⎟⋅ℯ   \n",
       "      ⎝        d     ⎠ ⎝τ   τ₀⎠     \n",
       "────────────────────────────────────\n",
       "                 a                  "
      ]
     },
     "execution_count": 54,
     "metadata": {},
     "output_type": "execute_result"
    }
   ],
   "source": [
    "k * exp(-t / t0) * (v - (v * b - w * a) / d) / (a * t ** m) * (\n",
    "        m / t + 1 / t0)"
   ]
  },
  {
   "cell_type": "code",
   "execution_count": 188,
   "metadata": {
    "collapsed": true
   },
   "outputs": [],
   "source": [
    "agents_num = 500\n",
    "shape = (agents_num, 2)\n",
    "position = np.random.uniform(0, size, shape)"
   ]
  },
  {
   "cell_type": "code",
   "execution_count": 162,
   "metadata": {
    "collapsed": false
   },
   "outputs": [
    {
     "data": {
      "text/plain": [
       "array([[ 0.14968,  0.66082],\n",
       "       [ 1.47467,  3.72685],\n",
       "       [ 1.49078,  1.89936],\n",
       "       ..., \n",
       "       [ 1.68025,  0.97796],\n",
       "       [ 1.97417,  3.4259 ],\n",
       "       [ 1.06365,  2.92608]])"
      ]
     },
     "execution_count": 162,
     "metadata": {},
     "output_type": "execute_result"
    }
   ],
   "source": [
    "position"
   ]
  },
  {
   "cell_type": "code",
   "execution_count": 106,
   "metadata": {
    "collapsed": true
   },
   "outputs": [],
   "source": [
    "import numba"
   ]
  },
  {
   "cell_type": "code",
   "execution_count": 198,
   "metadata": {
    "collapsed": true
   },
   "outputs": [],
   "source": [
    "@numba.jit(nopython=True, cache=True)\n",
    "def euclidean_distance(v1, v2):\n",
    "    d = v1 - v2\n",
    "    return np.sqrt(np.dot(d, d))"
   ]
  },
  {
   "cell_type": "code",
   "execution_count": 199,
   "metadata": {
    "collapsed": false
   },
   "outputs": [],
   "source": [
    "@numba.jit(nopython=True, cache=True)\n",
    "def find_neighbors(sight, position):\n",
    "    agents_num = len(position)\n",
    "    neigbors = np.zeros((agents_num, agents_num))\n",
    "    for i in range(agents_num):\n",
    "        for j in range(agents_num):\n",
    "            if i == j:\n",
    "                continue\n",
    "            neigbors[i, j] = euclidean_distance(position[i], position[j])\n",
    "    return neigbors"
   ]
  },
  {
   "cell_type": "code",
   "execution_count": 203,
   "metadata": {
    "collapsed": false
   },
   "outputs": [
    {
     "name": "stdout",
     "output_type": "stream",
     "text": [
      "CPU times: user 108 ms, sys: 0 ns, total: 108 ms\n",
      "Wall time: 112 ms\n"
     ]
    },
    {
     "data": {
      "text/plain": [
       "array([[ 0.     ,  4.56149,  3.06121, ...,  2.46621,  2.52841,  4.4504 ],\n",
       "       [ 4.56149,  0.     ,  1.5502 , ...,  3.26481,  2.57073,  0.80181],\n",
       "       [ 3.06121,  1.5502 ,  0.     , ...,  1.87879,  1.65769,  1.41436],\n",
       "       ..., \n",
       "       [ 2.46621,  3.26481,  1.87879, ...,  0.     ,  2.88728,  2.76229],\n",
       "       [ 2.52841,  2.57073,  1.65769, ...,  2.88728,  0.     ,  2.86383],\n",
       "       [ 4.4504 ,  0.80181,  1.41436, ...,  2.76229,  2.86383,  0.     ]])"
      ]
     },
     "execution_count": 203,
     "metadata": {},
     "output_type": "execute_result"
    }
   ],
   "source": [
    "%time find_neighbors(2, position)"
   ]
  },
  {
   "cell_type": "code",
   "execution_count": null,
   "metadata": {
    "collapsed": true
   },
   "outputs": [],
   "source": []
  }
 ],
 "metadata": {
  "kernelspec": {
   "display_name": "Python 3.4",
   "language": "python",
   "name": "python34"
  },
  "language_info": {
   "codemirror_mode": {
    "name": "ipython",
    "version": 3
   },
   "file_extension": ".py",
   "mimetype": "text/x-python",
   "name": "python",
   "nbconvert_exporter": "python",
   "pygments_lexer": "ipython3",
   "version": "3.4.4"
  }
 },
 "nbformat": 4,
 "nbformat_minor": 0
}
