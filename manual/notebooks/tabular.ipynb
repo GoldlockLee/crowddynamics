{
 "cells": [
  {
   "cell_type": "code",
   "execution_count": 1,
   "metadata": {
    "collapsed": true
   },
   "outputs": [],
   "source": [
    "import yaml"
   ]
  },
  {
   "cell_type": "code",
   "execution_count": 16,
   "metadata": {
    "collapsed": true
   },
   "outputs": [],
   "source": [
    "import pandas as pd"
   ]
  },
  {
   "cell_type": "code",
   "execution_count": 5,
   "metadata": {
    "collapsed": false
   },
   "outputs": [
    {
     "name": "stdout",
     "output_type": "stream",
     "text": [
      "agent_body.yaml  keywords.yaml  \u001b[0m\u001b[01;34mnotebooks\u001b[0m/      TODO.yaml\r\n",
      "index.ipynb      \u001b[01;34mlatex\u001b[0m/         structure.yaml\r\n"
     ]
    }
   ],
   "source": [
    "ls ../"
   ]
  },
  {
   "cell_type": "code",
   "execution_count": 33,
   "metadata": {
    "collapsed": false
   },
   "outputs": [],
   "source": [
    "with open(\"../agent_body.yaml\", \"r\") as stream:\n",
    "    data = yaml.load(stream)"
   ]
  },
  {
   "cell_type": "code",
   "execution_count": 44,
   "metadata": {
    "collapsed": false
   },
   "outputs": [],
   "source": [
    "index = data['index']"
   ]
  },
  {
   "cell_type": "code",
   "execution_count": 46,
   "metadata": {
    "collapsed": true
   },
   "outputs": [],
   "source": [
    "del data['index']"
   ]
  },
  {
   "cell_type": "code",
   "execution_count": 128,
   "metadata": {
    "collapsed": false
   },
   "outputs": [],
   "source": [
    "df = pd.DataFrame(data, index=index).T"
   ]
  },
  {
   "cell_type": "code",
   "execution_count": 126,
   "metadata": {
    "collapsed": false
   },
   "outputs": [],
   "source": [
    "annotate = lambda f: r\"$ {} $\".format(f)"
   ]
  },
  {
   "cell_type": "code",
   "execution_count": 134,
   "metadata": {
    "collapsed": false
   },
   "outputs": [],
   "source": [
    "df = df.applymap(annotate)"
   ]
  },
  {
   "cell_type": "code",
   "execution_count": 135,
   "metadata": {
    "collapsed": false
   },
   "outputs": [
    {
     "data": {
      "text/html": [
       "<div>\n",
       "<table border=\"1\" class=\"dataframe\">\n",
       "  <thead>\n",
       "    <tr style=\"text-align: right;\">\n",
       "      <th></th>\n",
       "      <th>radius</th>\n",
       "      <th>dr</th>\n",
       "      <th>torso</th>\n",
       "      <th>shoulder</th>\n",
       "      <th>shoulder distance</th>\n",
       "      <th>speed</th>\n",
       "      <th>dv</th>\n",
       "    </tr>\n",
       "  </thead>\n",
       "  <tbody>\n",
       "    <tr>\n",
       "      <th>adult</th>\n",
       "      <td>$ 0.255 $</td>\n",
       "      <td>$ 0.035 $</td>\n",
       "      <td>$ 0.5882 $</td>\n",
       "      <td>$ 0.3725 $</td>\n",
       "      <td>$ 0.6275 $</td>\n",
       "      <td>$ 1.25 $</td>\n",
       "      <td>$ 0.3 $</td>\n",
       "    </tr>\n",
       "    <tr>\n",
       "      <th>child</th>\n",
       "      <td>$ 0.21 $</td>\n",
       "      <td>$ 0.015 $</td>\n",
       "      <td>$ 0.5714 $</td>\n",
       "      <td>$ 0.3333 $</td>\n",
       "      <td>$ 0.6667 $</td>\n",
       "      <td>$ 0.9 $</td>\n",
       "      <td>$ 0.3 $</td>\n",
       "    </tr>\n",
       "    <tr>\n",
       "      <th>eldery</th>\n",
       "      <td>$ 0.25 $</td>\n",
       "      <td>$ 0.02 $</td>\n",
       "      <td>$ 0.6 $</td>\n",
       "      <td>$ 0.36 $</td>\n",
       "      <td>$ 0.64 $</td>\n",
       "      <td>$ 0.8 $</td>\n",
       "      <td>$ 0.3 $</td>\n",
       "    </tr>\n",
       "    <tr>\n",
       "      <th>female</th>\n",
       "      <td>$ 0.24 $</td>\n",
       "      <td>$ 0.02 $</td>\n",
       "      <td>$ 0.5833 $</td>\n",
       "      <td>$ 0.375 $</td>\n",
       "      <td>$ 0.625 $</td>\n",
       "      <td>$ 1.15 $</td>\n",
       "      <td>$ 0.2 $</td>\n",
       "    </tr>\n",
       "    <tr>\n",
       "      <th>male</th>\n",
       "      <td>$ 0.27 $</td>\n",
       "      <td>$ 0.02 $</td>\n",
       "      <td>$ 0.5926 $</td>\n",
       "      <td>$ 0.3704 $</td>\n",
       "      <td>$ 0.6296 $</td>\n",
       "      <td>$ 1.35 $</td>\n",
       "      <td>$ 0.2 $</td>\n",
       "    </tr>\n",
       "  </tbody>\n",
       "</table>\n",
       "</div>"
      ],
      "text/plain": [
       "           radius         dr       torso    shoulder shoulder distance  \\\n",
       "adult   $ 0.255 $  $ 0.035 $  $ 0.5882 $  $ 0.3725 $        $ 0.6275 $   \n",
       "child    $ 0.21 $  $ 0.015 $  $ 0.5714 $  $ 0.3333 $        $ 0.6667 $   \n",
       "eldery   $ 0.25 $   $ 0.02 $     $ 0.6 $    $ 0.36 $          $ 0.64 $   \n",
       "female   $ 0.24 $   $ 0.02 $  $ 0.5833 $   $ 0.375 $         $ 0.625 $   \n",
       "male     $ 0.27 $   $ 0.02 $  $ 0.5926 $  $ 0.3704 $        $ 0.6296 $   \n",
       "\n",
       "           speed       dv  \n",
       "adult   $ 1.25 $  $ 0.3 $  \n",
       "child    $ 0.9 $  $ 0.3 $  \n",
       "eldery   $ 0.8 $  $ 0.3 $  \n",
       "female  $ 1.15 $  $ 0.2 $  \n",
       "male    $ 1.35 $  $ 0.2 $  "
      ]
     },
     "execution_count": 135,
     "metadata": {},
     "output_type": "execute_result"
    }
   ],
   "source": [
    "df"
   ]
  },
  {
   "cell_type": "code",
   "execution_count": 136,
   "metadata": {
    "collapsed": false
   },
   "outputs": [],
   "source": [
    "string = df.to_csv(sep=\",\")"
   ]
  },
  {
   "cell_type": "code",
   "execution_count": 137,
   "metadata": {
    "collapsed": false
   },
   "outputs": [
    {
     "data": {
      "text/plain": [
       "',radius,dr,torso,shoulder,shoulder distance,speed,dv\\nadult,$ 0.255 $,$ 0.035 $,$ 0.5882 $,$ 0.3725 $,$ 0.6275 $,$ 1.25 $,$ 0.3 $\\nchild,$ 0.21 $,$ 0.015 $,$ 0.5714 $,$ 0.3333 $,$ 0.6667 $,$ 0.9 $,$ 0.3 $\\neldery,$ 0.25 $,$ 0.02 $,$ 0.6 $,$ 0.36 $,$ 0.64 $,$ 0.8 $,$ 0.3 $\\nfemale,$ 0.24 $,$ 0.02 $,$ 0.5833 $,$ 0.375 $,$ 0.625 $,$ 1.15 $,$ 0.2 $\\nmale,$ 0.27 $,$ 0.02 $,$ 0.5926 $,$ 0.3704 $,$ 0.6296 $,$ 1.35 $,$ 0.2 $\\n'"
      ]
     },
     "execution_count": 137,
     "metadata": {},
     "output_type": "execute_result"
    }
   ],
   "source": [
    "string"
   ]
  },
  {
   "cell_type": "code",
   "execution_count": 138,
   "metadata": {
    "collapsed": false
   },
   "outputs": [
    {
     "name": "stdout",
     "output_type": "stream",
     "text": [
      " & radius & dr & torso & shoulder & shoulder distance & speed & dv \\\\\n",
      "adult & $ 0.255 $ & $ 0.035 $ & $ 0.5882 $ & $ 0.3725 $ & $ 0.6275 $ & $ 1.25 $ & $ 0.3 $ \\\\\n",
      "child & $ 0.21 $ & $ 0.015 $ & $ 0.5714 $ & $ 0.3333 $ & $ 0.6667 $ & $ 0.9 $ & $ 0.3 $ \\\\\n",
      "eldery & $ 0.25 $ & $ 0.02 $ & $ 0.6 $ & $ 0.36 $ & $ 0.64 $ & $ 0.8 $ & $ 0.3 $ \\\\\n",
      "female & $ 0.24 $ & $ 0.02 $ & $ 0.5833 $ & $ 0.375 $ & $ 0.625 $ & $ 1.15 $ & $ 0.2 $ \\\\\n",
      "male & $ 0.27 $ & $ 0.02 $ & $ 0.5926 $ & $ 0.3704 $ & $ 0.6296 $ & $ 1.35 $ & $ 0.2 $ \\\\\n",
      "\n"
     ]
    }
   ],
   "source": [
    "print(string.replace(\",\", \" & \").replace(\"\\n\", r\" \\\\\" + \"\\n\"))"
   ]
  }
 ],
 "metadata": {
  "kernelspec": {
   "display_name": "Python 3.4",
   "language": "python",
   "name": "python34"
  },
  "language_info": {
   "codemirror_mode": {
    "name": "ipython",
    "version": 3
   },
   "file_extension": ".py",
   "mimetype": "text/x-python",
   "name": "python",
   "nbconvert_exporter": "python",
   "pygments_lexer": "ipython3",
   "version": "3.4.4"
  }
 },
 "nbformat": 4,
 "nbformat_minor": 0
}
