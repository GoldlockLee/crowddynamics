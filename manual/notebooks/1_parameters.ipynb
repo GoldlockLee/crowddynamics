{
 "cells": [
  {
   "cell_type": "code",
   "execution_count": 1,
   "metadata": {
    "collapsed": true
   },
   "outputs": [],
   "source": [
    "from sympy import *  # Symbolic mathematics\n",
    "import sympy\n",
    "from astropy import constants as c  # Physical Constants\n",
    "from astropy import units as u    # Physical Units\n",
    "\n",
    "import numpy as np\n",
    "import matplotlib as mpl  # Standard plotting library\n",
    "import matplotlib.pyplot as plt \n",
    "import seaborn as sns     # Statistical plotting and improved plot style\n",
    "\n",
    "from sympy import abc       # Symbolic variables\n",
    "from sympy import pi as Pi  # Symbolic pi\n",
    "from sympy import I as I    # Symbolic imaginary unit\n",
    "\n",
    "from IPython.display import display\n",
    "from IPython.display import set_matplotlib_formats  \n",
    "set_matplotlib_formats('pdf', 'png')\n",
    "sympy.interactive.printing.init_printing(use_latex='mathjax')"
   ]
  },
  {
   "cell_type": "markdown",
   "metadata": {},
   "source": [
    "- Astropy\n",
    "    - Unit\n",
    "    - Constant\n",
    "    - Quantity"
   ]
  },
  {
   "cell_type": "code",
   "execution_count": 10,
   "metadata": {
    "collapsed": false
   },
   "outputs": [],
   "source": [
    "constants = {\n",
    "    'tau_adj': u.Quantity(0.5, u.s),\n",
    "    'tau_0': u.Quantity(3.0, u.s),\n",
    "    'sight': u.Quantity(7.0, u.m),\n",
    "    'f_max': u.Quantity(5.0, u.N),\n",
    "    'mu': u.Quantity(1.2e5, u.kg / u.s**2),\n",
    "    'kappa': u.Quantity(2.4e5, u.kg / (u.m * u.s)),\n",
    "    'a': u.Quantity(2e3, u.N),\n",
    "    'b': u.Quantity(0.08, u.m)\n",
    "}"
   ]
  }
 ],
 "metadata": {
  "kernelspec": {
   "display_name": "Python 3.4",
   "language": "python",
   "name": "python34"
  },
  "language_info": {
   "codemirror_mode": {
    "name": "ipython",
    "version": 3
   },
   "file_extension": ".py",
   "mimetype": "text/x-python",
   "name": "python",
   "nbconvert_exporter": "python",
   "pygments_lexer": "ipython3",
   "version": "3.4.4"
  }
 },
 "nbformat": 4,
 "nbformat_minor": 0
}
